{
 "cells": [
  {
   "cell_type": "code",
   "execution_count": 186,
   "metadata": {},
   "outputs": [],
   "source": [
    "import numpy as np\n",
    "from sklearn.preprocessing import StandardScaler"
   ]
  },
  {
   "cell_type": "code",
   "execution_count": 187,
   "metadata": {},
   "outputs": [],
   "source": [
    "data = np.array([\n",
    "[37.5926,0.319714,-2.13876, \"cement\"],\n",
    "[48.5556,0.278822,-1.99604, \"path\"],\n",
    "[19.0741,0.381867,2.39502, \"grass\"],\n",
    "[14.6296,0.416705,2.30688, \"grass\"],\n",
    "[11.8519,0.405556,2.12865, \"grass\"],\n",
    "[44.8889,0.246605,-1.97178, \"cement\"],\n",
    "[22.1852,0.411811,2.62471, \"grass\"],\n",
    "[49.5926,0.302925,-2.02227, \"path\"],\n",
    "[14.1481,0.421621,2.39249, \"grass\"],\n",
    "[47.7037,0.290278,-2.0527, \"path\"],\n",
    "[25.1111,0.335127,2.76904, \"grass\"],\n",
    "[51.7778,0.290148,-2.0141, \"path\"],\n",
    "[55.3704,0.268621,-2.00619, \"cement\"],\n",
    "[47.5926,0.317542,-2.12287, \"cement\"],\n",
    "[66.7778,0.32276,-2.12446, \"cement\"],\n",
    "])\n",
    "\n",
    "def get_means_by_characteristic(classes: list, column: int, column_class: int, X_std: list, data: list):\n",
    "    characteristics_by_class = []\n",
    "\n",
    "    for simple_class in classes:\n",
    "        elements = []\n",
    "        for i,row in enumerate(X_std.tolist()):\n",
    "            if(simple_class == data[i,column_class]):\n",
    "                elements.append(row[column])\n",
    "        characteristics_by_class.append(elements)\n",
    "\n",
    "    means_by_class = []\n",
    "    for characteristic in characteristics_by_class:\n",
    "        means_by_class.append(np.mean(characteristic))\n",
    "    \n",
    "    std_by_class = []\n",
    "    for characteristic in characteristics_by_class:\n",
    "        std_by_class.append(np.std(characteristic, ddof=1))\n",
    "    return means_by_class, std_by_class\n"
   ]
  },
  {
   "cell_type": "code",
   "execution_count": 188,
   "metadata": {},
   "outputs": [],
   "source": [
    "X = data[:, :3]\n",
    "Y = data[:,3]\n",
    "scaler = StandardScaler()\n",
    "scaler.fit(X)\n",
    "X_std = scaler.transform(X)"
   ]
  },
  {
   "cell_type": "code",
   "execution_count": 189,
   "metadata": {},
   "outputs": [
    {
     "name": "stdout",
     "output_type": "stream",
     "text": [
      "[[ 0.02751356 -0.25176452 -0.85519872]\n",
      " [ 0.67046767 -0.97206809 -0.79038906]\n",
      " [-1.05855281  0.84304687  1.20360696]\n",
      " [-1.31921226  1.45671057  1.16358227]\n",
      " [-1.48211782  1.26032339  1.08264739]\n",
      " [ 0.45542436 -1.53956344 -0.77937251]\n",
      " [-0.87609413  1.37050384  1.30791001]\n",
      " [ 0.73128528 -0.54749906 -0.80230019]\n",
      " [-1.3474511   1.54330482  1.20245808]\n",
      " [ 0.62050575 -0.77027317 -0.81611857]\n",
      " [-0.70449699  0.01973208  1.37345077]\n",
      " [ 0.85944211 -0.7725631  -0.79859017]\n",
      " [ 1.07013963 -1.15175646 -0.79499821]\n",
      " [ 0.61398999 -0.29002382 -0.84798301]\n",
      " [ 1.73915676 -0.1981099  -0.84870504]]\n"
     ]
    }
   ],
   "source": [
    "print(X_std)"
   ]
  },
  {
   "cell_type": "code",
   "execution_count": 190,
   "metadata": {},
   "outputs": [
    {
     "name": "stdout",
     "output_type": "stream",
     "text": [
      "[[ 0.20389049 -1.47976127  1.16045804]]\n"
     ]
    }
   ],
   "source": [
    "new_object = [40.6, 0.25, 2.3]\n",
    "new_object = scaler.transform([new_object])\n",
    "print(new_object)"
   ]
  },
  {
   "cell_type": "code",
   "execution_count": 191,
   "metadata": {},
   "outputs": [
    {
     "name": "stdout",
     "output_type": "stream",
     "text": [
      "0.3333333333333333 0.4 0.26666666666666666\n"
     ]
    }
   ],
   "source": [
    "classes = [\"cement\",\"grass\",\"path\"]\n",
    "Pcs= []\n",
    "Pc1 = sum(map(lambda x: x == classes[0], Y)) / len(Y)\n",
    "Pc2 = sum(map(lambda x: x == classes[1], Y)) / len(Y)\n",
    "Pc3 = sum(map(lambda x: x == classes[2], Y)) / len(Y)\n",
    "Pcs.append(Pc1)\n",
    "Pcs.append(Pc2)\n",
    "Pcs.append(Pc3)\n",
    "print(Pc1, Pc2, Pc3)\n",
    "P1 = get_means_by_characteristic(classes=classes, column=0, column_class=3, X_std=X_std, data=data)\n",
    "P2 = get_means_by_characteristic(classes=classes, column=1, column_class=3, X_std=X_std, data=data)\n",
    "P3 = get_means_by_characteristic(classes=classes, column=2, column_class=3, X_std=X_std, data=data)\n",
    "\n",
    "P = []\n",
    "P.append(P1)\n",
    "P.append(P2)\n",
    "P.append(P3)"
   ]
  },
  {
   "cell_type": "code",
   "execution_count": 192,
   "metadata": {},
   "outputs": [
    {
     "name": "stdout",
     "output_type": "stream",
     "text": [
      "0.3451801469439113\n",
      "0.3910744681803171\n",
      "0.2661551386499725\n",
      "0.3513765351879361\n",
      "0.5949568790237569\n",
      "0.26496794000085827\n",
      "0.33135364959788816\n",
      "0.3999889135940216\n",
      "0.26645281822161887\n"
     ]
    }
   ],
   "source": [
    "import math\n",
    "new_object = new_object[0]\n",
    "\n",
    "def PXC(xi, cj, mean, std):\n",
    "    return math.pow((1/(math.sqrt(2*math.pi* math.pow(std,2)))),  (-((math.pow((xi - mean), 2)) / 2*(math.pow(std,2)))))\n",
    "    \n",
    "\n",
    "# print(PXC(xi=0.20, mean=0.54, std=0.23, cj=0))\n",
    "\n",
    "for j,characteristic in enumerate(new_object):\n",
    "    res = 1\n",
    "    for i,pc in enumerate(Pcs):\n",
    "        v = PXC(xi=characteristic, mean=P[j][0][i], std=P[j][1][i], cj=0)\n",
    "        res = pc * v\n",
    "        print(res)\n"
   ]
  },
  {
   "cell_type": "code",
   "execution_count": null,
   "metadata": {},
   "outputs": [],
   "source": []
  },
  {
   "attachments": {},
   "cell_type": "markdown",
   "metadata": {},
   "source": [
    "# **Ambiente**"
   ]
  },
  {
   "cell_type": "code",
   "execution_count": 193,
   "metadata": {},
   "outputs": [],
   "source": [
    "def calculate_TP_TN(y_pred, y_real, class_):\n",
    "    count = 0\n",
    "    for i in np.arange(y_pred.shape[0]):\n",
    "        if((y_pred[i] == class_) and (y_real[i] == class_)):\n",
    "            count += 1\n",
    "    \n",
    "    return count\n",
    "\n",
    "def calculate_FN(y_pred, y_real, class_real, class_pred):\n",
    "    count = 0\n",
    "    for i in np.arange(y_pred.shape[0]):\n",
    "        if((y_pred[i] == class_pred) and (y_real[i] == class_real)):\n",
    "            count += 1\n",
    "\n",
    "    return count"
   ]
  },
  {
   "cell_type": "code",
   "execution_count": 194,
   "metadata": {},
   "outputs": [],
   "source": [
    "y_pred = np.array([\"puntual\",\n",
    "          \"puntual\",\n",
    "          \"puntual\",\n",
    "          \"tarde\",\n",
    "          \"puntual\",\n",
    "          \"retrasado\",\n",
    "          \"puntual\",\n",
    "          \"puntual\",\n",
    "          \"retrasado\",\n",
    "          \"puntual\",\n",
    "          \"puntual\",\n",
    "          \"tarde\",\n",
    "          \"puntual\",\n",
    "          \"retrasado\",\n",
    "          \"puntual\",\n",
    "          \"puntual\",\n",
    "          \"puntual\",\n",
    "          \"puntual\",\n",
    "          \"puntual\",\n",
    "          ])\n",
    "\n",
    "y_real = np.array([ \"puntual\",\n",
    "            \"tarde\",\n",
    "            \"puntual\",\n",
    "            \"retrasado\",\n",
    "            \"puntual\",\n",
    "            \"retrasado\",\n",
    "            \"puntual\",\n",
    "            \"puntual\",\n",
    "            \"tarde\",\n",
    "            \"puntual\",\n",
    "            \"puntual\",\n",
    "            \"tarde\",\n",
    "            \"puntual\",\n",
    "            \"retrasado\",\n",
    "            \"puntual\",\n",
    "            \"tarde\",\n",
    "            \"puntual\",\n",
    "            \"tarde\",\n",
    "            \"retrasado\"\n",
    "])"
   ]
  },
  {
   "cell_type": "code",
   "execution_count": 195,
   "metadata": {},
   "outputs": [
    {
     "name": "stdout",
     "output_type": "stream",
     "text": [
      "[[0. 0. 0.]\n",
      " [0. 0. 0.]\n",
      " [0. 0. 0.]]\n"
     ]
    }
   ],
   "source": [
    "confussion_matrix = np.zeros((3,3))\n",
    "print(confussion_matrix)"
   ]
  },
  {
   "cell_type": "code",
   "execution_count": 196,
   "metadata": {},
   "outputs": [
    {
     "name": "stdout",
     "output_type": "stream",
     "text": [
      "[[10.  0.  0.]\n",
      " [ 0.  2.  0.]\n",
      " [ 0.  0.  1.]]\n"
     ]
    }
   ],
   "source": [
    "a1 = calculate_TP_TN(y_real=y_real, y_pred=y_pred, class_=\"puntual\")\n",
    "a2 = calculate_TP_TN(y_real=y_real, y_pred=y_pred, class_=\"retrasado\")\n",
    "a3 = calculate_TP_TN(y_real=y_real, y_pred=y_pred, class_=\"tarde\")\n",
    "confussion_matrix[0][0] = a1\n",
    "confussion_matrix[1][1] = a2\n",
    "confussion_matrix[2][2] = a3\n",
    "\n",
    "print(confussion_matrix)"
   ]
  },
  {
   "cell_type": "code",
   "execution_count": 197,
   "metadata": {},
   "outputs": [
    {
     "name": "stdout",
     "output_type": "stream",
     "text": [
      "0\n"
     ]
    }
   ],
   "source": [
    "tf1 = calculate_FN(y_real=y_real, y_pred=y_pred, class_real=\"puntual\", class_pred=\"retrasado\")\n",
    "print(tf1)"
   ]
  },
  {
   "cell_type": "code",
   "execution_count": 198,
   "metadata": {},
   "outputs": [
    {
     "name": "stdout",
     "output_type": "stream",
     "text": [
      "[[10  0  0]\n",
      " [ 1  2  1]\n",
      " [ 3  1  1]]\n"
     ]
    }
   ],
   "source": [
    "from sklearn.metrics import confusion_matrix\n",
    "\n",
    "cm = confusion_matrix(y_real, y_pred)\n",
    "print(cm)"
   ]
  },
  {
   "cell_type": "code",
   "execution_count": null,
   "metadata": {},
   "outputs": [],
   "source": []
  }
 ],
 "metadata": {
  "kernelspec": {
   "display_name": "base",
   "language": "python",
   "name": "python3"
  },
  "language_info": {
   "codemirror_mode": {
    "name": "ipython",
    "version": 3
   },
   "file_extension": ".py",
   "mimetype": "text/x-python",
   "name": "python",
   "nbconvert_exporter": "python",
   "pygments_lexer": "ipython3",
   "version": "3.9.13"
  },
  "orig_nbformat": 4
 },
 "nbformat": 4,
 "nbformat_minor": 2
}
