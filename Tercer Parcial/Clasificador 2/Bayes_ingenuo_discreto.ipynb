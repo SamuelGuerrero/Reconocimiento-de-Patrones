{
 "cells": [
  {
   "cell_type": "code",
   "execution_count": 1,
   "metadata": {},
   "outputs": [],
   "source": [
    "import numpy as np\n",
    "from sklearn.preprocessing import StandardScaler"
   ]
  },
  {
   "cell_type": "code",
   "execution_count": 2,
   "metadata": {},
   "outputs": [],
   "source": [
    "data = np.array([\n",
    "[37.5926,0.319714,-2.13876, \"cement\"],\n",
    "[48.5556,0.278822,-1.99604, \"path\"],\n",
    "[19.0741,0.381867,2.39502, \"grass\"],\n",
    "[14.6296,0.416705,2.30688, \"grass\"],\n",
    "[11.8519,0.405556,2.12865, \"grass\"],\n",
    "[44.8889,0.246605,-1.97178, \"cement\"],\n",
    "[22.1852,0.411811,2.62471, \"grass\"],\n",
    "[49.5926,0.302925,-2.02227, \"path\"],\n",
    "[14.1481,0.421621,2.39249, \"grass\"],\n",
    "[47.7037,0.290278,-2.0527, \"path\"],\n",
    "[25.1111,0.335127,2.76904, \"grass\"],\n",
    "[51.7778,0.290148,-2.0141, \"path\"],\n",
    "[55.3704,0.268621,-2.00619, \"cement\"],\n",
    "[47.5926,0.317542,-2.12287, \"cement\"],\n",
    "[66.7778,0.32276,-2.12446, \"cement\"],\n",
    "])"
   ]
  },
  {
   "cell_type": "code",
   "execution_count": 3,
   "metadata": {},
   "outputs": [],
   "source": [
    "X = data[:, :3]\n",
    "\n",
    "scaler = StandardScaler()\n",
    "scaler.fit(X)\n",
    "X_std = scaler.transform(X)"
   ]
  },
  {
   "cell_type": "code",
   "execution_count": 4,
   "metadata": {},
   "outputs": [
    {
     "name": "stdout",
     "output_type": "stream",
     "text": [
      "[[ 0.02751356 -0.25176452 -0.85519872]\n",
      " [ 0.67046767 -0.97206809 -0.79038906]\n",
      " [-1.05855281  0.84304687  1.20360696]\n",
      " [-1.31921226  1.45671057  1.16358227]\n",
      " [-1.48211782  1.26032339  1.08264739]\n",
      " [ 0.45542436 -1.53956344 -0.77937251]\n",
      " [-0.87609413  1.37050384  1.30791001]\n",
      " [ 0.73128528 -0.54749906 -0.80230019]\n",
      " [-1.3474511   1.54330482  1.20245808]\n",
      " [ 0.62050575 -0.77027317 -0.81611857]\n",
      " [-0.70449699  0.01973208  1.37345077]\n",
      " [ 0.85944211 -0.7725631  -0.79859017]\n",
      " [ 1.07013963 -1.15175646 -0.79499821]\n",
      " [ 0.61398999 -0.29002382 -0.84798301]\n",
      " [ 1.73915676 -0.1981099  -0.84870504]]\n"
     ]
    }
   ],
   "source": [
    "print(X_std)"
   ]
  },
  {
   "cell_type": "code",
   "execution_count": 5,
   "metadata": {},
   "outputs": [],
   "source": [
    "def get_means_by_characteristic(classes: list, column: int, column_class: int, X_std: list, data: list):\n",
    "    characteristics_by_class = []\n",
    "\n",
    "    for simple_class in classes:\n",
    "        elements = []\n",
    "        for i,row in enumerate(X_std.tolist()):\n",
    "            if(simple_class == data[i,column_class]):\n",
    "                elements.append(row[column])\n",
    "        characteristics_by_class.append(elements)\n",
    "\n",
    "    means_by_class = []\n",
    "    for characteristic in characteristics_by_class:\n",
    "        means_by_class.append(np.mean(characteristic))\n",
    "    \n",
    "    std_by_class = []\n",
    "    for characteristic in characteristics_by_class:\n",
    "        std_by_class.append(np.std(characteristic, ddof=1))\n",
    "    return means_by_class, std_by_class\n"
   ]
  },
  {
   "cell_type": "code",
   "execution_count": 6,
   "metadata": {},
   "outputs": [
    {
     "name": "stdout",
     "output_type": "stream",
     "text": [
      "([0.7812448618063769, 0.7204252033176923, -1.1313208537171098], [0.6525525730445695, 0.10315569775053486, 0.30255196399610623])\n",
      "([-0.6862436298706002, -0.7656008542204589, 1.0822702610391424], [0.6182421982557625, 0.17346221177721632, 0.5751095796870245])\n",
      "([-0.8252514974775419, -0.8018494971161546, 1.2222759126420548], [0.03529791021236269, 0.010735833284087589, 0.10379728464029692])\n"
     ]
    }
   ],
   "source": [
    "classes = [\"cement\",\"path\",\"grass\"]\n",
    "print(get_means_by_characteristic(classes=classes, column=0, column_class=3, X_std=X_std, data=data))\n",
    "print(get_means_by_characteristic(classes=classes, column=1, column_class=3, X_std=X_std, data=data))\n",
    "print(get_means_by_characteristic(classes=classes, column=2, column_class=3, X_std=X_std, data=data))"
   ]
  },
  {
   "cell_type": "code",
   "execution_count": 7,
   "metadata": {},
   "outputs": [
    {
     "data": {
      "text/plain": [
       "0.4258248605870882"
      ]
     },
     "execution_count": 7,
     "metadata": {},
     "output_type": "execute_result"
    }
   ],
   "source": [
    "pow(0.6525525730445695,2)"
   ]
  },
  {
   "attachments": {},
   "cell_type": "markdown",
   "metadata": {},
   "source": [
    "# **Ambiente**"
   ]
  },
  {
   "cell_type": "code",
   "execution_count": 8,
   "metadata": {},
   "outputs": [],
   "source": [
    "def calculate_TP_TN(y_pred, y_real, class_):\n",
    "    count = 0\n",
    "    for i in np.arange(y_pred.shape[0]):\n",
    "        if((y_pred[i] == class_) and (y_real[i] == class_)):\n",
    "            count += 1\n",
    "    \n",
    "    return count\n",
    "\n",
    "def calculate_FN(y_pred, y_real, class_real, class_pred):\n",
    "    count = 0\n",
    "    for i in np.arange(y_pred.shape[0]):\n",
    "        if((y_pred[i] == class_pred) and (y_real[i] == class_real)):\n",
    "            count += 1\n",
    "\n",
    "    return count"
   ]
  },
  {
   "cell_type": "code",
   "execution_count": 9,
   "metadata": {},
   "outputs": [],
   "source": [
    "y_pred = np.array([\"puntual\",\n",
    "          \"puntual\",\n",
    "          \"puntual\",\n",
    "          \"tarde\",\n",
    "          \"puntual\",\n",
    "          \"retrasado\",\n",
    "          \"puntual\",\n",
    "          \"puntual\",\n",
    "          \"retrasado\",\n",
    "          \"puntual\",\n",
    "          \"puntual\",\n",
    "          \"tarde\",\n",
    "          \"puntual\",\n",
    "          \"retrasado\",\n",
    "          \"puntual\",\n",
    "          \"puntual\",\n",
    "          \"puntual\",\n",
    "          \"puntual\",\n",
    "          \"puntual\",\n",
    "          ])\n",
    "\n",
    "y_real = np.array([ \"puntual\",\n",
    "            \"tarde\",\n",
    "            \"puntual\",\n",
    "            \"retrasado\",\n",
    "            \"puntual\",\n",
    "            \"retrasado\",\n",
    "            \"puntual\",\n",
    "            \"puntual\",\n",
    "            \"tarde\",\n",
    "            \"puntual\",\n",
    "            \"puntual\",\n",
    "            \"tarde\",\n",
    "            \"puntual\",\n",
    "            \"retrasado\",\n",
    "            \"puntual\",\n",
    "            \"tarde\",\n",
    "            \"puntual\",\n",
    "            \"tarde\",\n",
    "            \"retrasado\"\n",
    "])"
   ]
  },
  {
   "cell_type": "code",
   "execution_count": 10,
   "metadata": {},
   "outputs": [
    {
     "name": "stdout",
     "output_type": "stream",
     "text": [
      "[[0. 0. 0.]\n",
      " [0. 0. 0.]\n",
      " [0. 0. 0.]]\n"
     ]
    }
   ],
   "source": [
    "confussion_matrix = np.zeros((3,3))\n",
    "print(confussion_matrix)"
   ]
  },
  {
   "cell_type": "code",
   "execution_count": 11,
   "metadata": {},
   "outputs": [
    {
     "name": "stdout",
     "output_type": "stream",
     "text": [
      "[[10.  0.  0.]\n",
      " [ 0.  2.  0.]\n",
      " [ 0.  0.  1.]]\n"
     ]
    }
   ],
   "source": [
    "a1 = calculate_TP_TN(y_real=y_real, y_pred=y_pred, class_=\"puntual\")\n",
    "a2 = calculate_TP_TN(y_real=y_real, y_pred=y_pred, class_=\"retrasado\")\n",
    "a3 = calculate_TP_TN(y_real=y_real, y_pred=y_pred, class_=\"tarde\")\n",
    "confussion_matrix[0][0] = a1\n",
    "confussion_matrix[1][1] = a2\n",
    "confussion_matrix[2][2] = a3\n",
    "\n",
    "print(confussion_matrix)"
   ]
  },
  {
   "cell_type": "code",
   "execution_count": 12,
   "metadata": {},
   "outputs": [
    {
     "name": "stdout",
     "output_type": "stream",
     "text": [
      "0\n"
     ]
    }
   ],
   "source": [
    "tf1 = calculate_FN(y_real=y_real, y_pred=y_pred, class_real=\"puntual\", class_pred=\"retrasado\")\n",
    "print(tf1)"
   ]
  },
  {
   "cell_type": "code",
   "execution_count": 13,
   "metadata": {},
   "outputs": [
    {
     "name": "stdout",
     "output_type": "stream",
     "text": [
      "[[10  0  0]\n",
      " [ 1  2  1]\n",
      " [ 3  1  1]]\n"
     ]
    }
   ],
   "source": [
    "from sklearn.metrics import confusion_matrix\n",
    "\n",
    "cm = confusion_matrix(y_real, y_pred)\n",
    "print(cm)"
   ]
  },
  {
   "cell_type": "code",
   "execution_count": null,
   "metadata": {},
   "outputs": [],
   "source": []
  }
 ],
 "metadata": {
  "kernelspec": {
   "display_name": "base",
   "language": "python",
   "name": "python3"
  },
  "language_info": {
   "codemirror_mode": {
    "name": "ipython",
    "version": 3
   },
   "file_extension": ".py",
   "mimetype": "text/x-python",
   "name": "python",
   "nbconvert_exporter": "python",
   "pygments_lexer": "ipython3",
   "version": "3.9.13"
  },
  "orig_nbformat": 4
 },
 "nbformat": 4,
 "nbformat_minor": 2
}
