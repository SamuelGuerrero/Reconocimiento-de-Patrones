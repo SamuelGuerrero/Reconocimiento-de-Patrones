{
 "cells": [
  {
   "cell_type": "code",
   "execution_count": 73,
   "metadata": {},
   "outputs": [],
   "source": [
    "import numpy as np\n",
    "from sklearn.preprocessing import StandardScaler\n",
    "import math"
   ]
  },
  {
   "cell_type": "code",
   "execution_count": 74,
   "metadata": {},
   "outputs": [],
   "source": [
    "def distanciaEuclideana(obj1, obj2):\n",
    "    sum = 0\n",
    "    for i in range(0,len(obj1)):\n",
    "        sum += (obj1[i] - obj2[i])**2\n",
    "    res = math.sqrt(sum)\n",
    "    return res\n",
    "\n",
    "def create_euclidean_distance_list(characteristics: list, center: list) -> list:\n",
    "    distancias = []\n",
    "    for element in characteristics:\n",
    "        distancias.append(distanciaEuclideana(center, element))\n",
    "    return distancias"
   ]
  },
  {
   "cell_type": "code",
   "execution_count": 75,
   "metadata": {},
   "outputs": [],
   "source": [
    "data = np.array([[1, 14.23, 5.64, 1065],\n",
    "        [1, 13.2, 4.38, 1050],\n",
    "        [1, 13.16, 5.68, 1185],\n",
    "        [2, 12.33, 3.27, 680],\n",
    "        [2, 12.64, 5.75, 450],\n",
    "        [2, 13.67, 3.8, 630],\n",
    "        [3, 12.93, 4.6, 600],\n",
    "        [3, 13.36, 5.6, 780],\n",
    "        [3, 13.52, 4.35, 520]])"
   ]
  },
  {
   "cell_type": "code",
   "execution_count": 91,
   "metadata": {},
   "outputs": [
    {
     "name": "stdout",
     "output_type": "stream",
     "text": [
      "[[  14.23    5.64 1065.  ]\n",
      " [  13.2     4.38 1050.  ]\n",
      " [  13.16    5.68 1185.  ]\n",
      " [  12.33    3.27  680.  ]\n",
      " [  12.64    5.75  450.  ]\n",
      " [  13.67    3.8   630.  ]\n",
      " [  12.93    4.6   600.  ]\n",
      " [  13.36    5.6   780.  ]\n",
      " [  13.52    4.35  520.  ]]\n",
      "[[ 1.88552675  0.98441158  1.17015634]\n",
      " [-0.05011367 -0.46724347  1.10997687]\n",
      " [-0.12528417  1.03049587  1.65159209]\n",
      " [-1.68507208 -1.74608245 -0.37445003]\n",
      " [-1.10250069  1.11114337 -1.29720188]\n",
      " [ 0.83313973 -1.13546564 -0.57504826]\n",
      " [-0.55751455 -0.21377989 -0.69540719]\n",
      " [ 0.25056834  0.9383273   0.02674643]\n",
      " [ 0.55125034 -0.50180669 -1.01636436]]\n"
     ]
    }
   ],
   "source": [
    "k = 3\n",
    "\n",
    "characteristics = data[:,1:4]\n",
    "print(characteristics)\n",
    "\n",
    "scaler = StandardScaler()\n",
    "\n",
    "scaler.fit(characteristics)\n",
    "\n",
    "characteristics = scaler.transform(characteristics)\n",
    "\n",
    "print(characteristics)"
   ]
  },
  {
   "cell_type": "code",
   "execution_count": 92,
   "metadata": {},
   "outputs": [
    {
     "name": "stdout",
     "output_type": "stream",
     "text": [
      "[[-2.9629706  -2.51799426 -0.84786185]]\n"
     ]
    }
   ],
   "source": [
    "object_to_classificate = np.array([[11.65, 2.6, 562]])\n",
    "object_to_classificate = scaler.transform(object_to_classificate)\n",
    "print(object_to_classificate)"
   ]
  },
  {
   "cell_type": "code",
   "execution_count": 93,
   "metadata": {},
   "outputs": [
    {
     "name": "stdout",
     "output_type": "stream",
     "text": [
      "[6.3124615354669285, 4.064904274449919, 5.185703084185502, 1.5662028106594026, 4.102912958125259, 4.049230330261266, 3.334496228430921, 4.799784461279446, 4.055015943019649]\n",
      "[1.56620281 3.33449623 4.04923033 4.05501594 4.06490427 4.10291296\n",
      " 4.79978446 5.18570308 6.31246154]\n"
     ]
    }
   ],
   "source": [
    "distances = create_euclidean_distance_list(characteristics=characteristics, center=object_to_classificate[0])\n",
    "print(distances)\n",
    "distances = np.array(distances)\n",
    "\n",
    "distances_sort = np.sort(distances)\n",
    "print(distances_sort)"
   ]
  },
  {
   "cell_type": "code",
   "execution_count": 94,
   "metadata": {},
   "outputs": [
    {
     "name": "stdout",
     "output_type": "stream",
     "text": [
      "[1.56620281 3.33449623 4.04923033]\n"
     ]
    }
   ],
   "source": [
    "ranked_distances = distances_sort[0:k]\n",
    "print(ranked_distances)"
   ]
  },
  {
   "cell_type": "code",
   "execution_count": 95,
   "metadata": {},
   "outputs": [
    {
     "name": "stdout",
     "output_type": "stream",
     "text": [
      "3\n",
      "6\n",
      "5\n"
     ]
    }
   ],
   "source": [
    "for i in np.arange(k):\n",
    "    print(np.where(distances == ranked_distances[i])[0][0])"
   ]
  },
  {
   "cell_type": "code",
   "execution_count": null,
   "metadata": {},
   "outputs": [],
   "source": []
  }
 ],
 "metadata": {
  "kernelspec": {
   "display_name": "base",
   "language": "python",
   "name": "python3"
  },
  "language_info": {
   "codemirror_mode": {
    "name": "ipython",
    "version": 3
   },
   "file_extension": ".py",
   "mimetype": "text/x-python",
   "name": "python",
   "nbconvert_exporter": "python",
   "pygments_lexer": "ipython3",
   "version": "3.9.13"
  },
  "orig_nbformat": 4
 },
 "nbformat": 4,
 "nbformat_minor": 2
}
