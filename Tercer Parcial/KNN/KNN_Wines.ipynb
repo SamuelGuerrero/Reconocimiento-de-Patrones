{
 "cells": [
  {
   "cell_type": "code",
   "execution_count": 57,
   "metadata": {},
   "outputs": [],
   "source": [
    "from sklearn import datasets\n",
    "from sklearn.preprocessing import StandardScaler\n",
    "import numpy as np\n",
    "import math\n",
    "from sklearn.model_selection import train_test_split\n",
    "from sklearn.metrics import confusion_matrix\n",
    "import seaborn as sns\n",
    "from sklearn.metrics import classification_report"
   ]
  },
  {
   "cell_type": "code",
   "execution_count": 58,
   "metadata": {},
   "outputs": [],
   "source": [
    "class KNN_Clasifier(object):\n",
    "\n",
    "    def __init__(self, k = 3):\n",
    "        self.k = k\n",
    "   \n",
    "    def distanciaEuclideana(self,obj1, obj2):\n",
    "        sum = 0\n",
    "        for i in range(0,len(obj1)):\n",
    "            sum += (obj1[i] - obj2[i])**2\n",
    "        res = math.sqrt(sum)\n",
    "        return res\n",
    "\n",
    "    def create_euclidean_distance_list(self, characteristics: list, center: list) -> list:\n",
    "        distancias = []\n",
    "        for element in characteristics:\n",
    "            distancias.append(self.distanciaEuclideana(center, element))\n",
    "        return distancias\n",
    "\n",
    "    def most_frequent(self,List):\n",
    "        counter = 0\n",
    "        num = List[0]\n",
    "        \n",
    "        for i in List:\n",
    "            curr_frequency = List.count(i)\n",
    "            if(curr_frequency> counter):\n",
    "                counter = curr_frequency\n",
    "                num = i\n",
    "    \n",
    "        return num\n",
    "\n",
    "    def simple_predict(self, X_std: list, y: list, new_object: list):\n",
    "        distances = self.create_euclidean_distance_list(characteristics=X_std, center=new_object[0])\n",
    "        distances_origin = distances.copy()\n",
    "        distances.sort()\n",
    "\n",
    "        winners = []\n",
    "        for i in np.arange(self.k):\n",
    "            winners.append(y[distances_origin.index(distances[i])])\n",
    "\n",
    "        return self.most_frequent(winners)\n",
    "    \n",
    "    def predict(self, X_train: list, y_train: list, X_test: list):\n",
    "        y_pred = []\n",
    "        for element in X_test:\n",
    "            y_pred.append(self.simple_predict(X_std=X_train, y=y_train, new_object=[element]))\n",
    "        return y_pred\n"
   ]
  },
  {
   "cell_type": "code",
   "execution_count": 59,
   "metadata": {},
   "outputs": [],
   "source": [
    "data = np.array([\n",
    "    [1, 1.78, 0.93, 1.10, 5.95],\n",
    "    [1, -0.05, -0.44, 1.05, 3.83],\n",
    "    [1, -0.12, 0.97, 1.56, 4.89],\n",
    "    [2, -1.59, -1.65, -0.35, 1.48],\n",
    "    [2, -1.04, 1.05, -1.22, 3.87],\n",
    "    [2, 0.79, -1.07, -0.54, 3.82],\n",
    "    [3, -0.53, -0.20, -0.66, 3.14],\n",
    "    [3, 0.24, 0.88, 0.025, 4.53],\n",
    "    [3, 0.52, -0.47, -0.96, 3.82]])"
   ]
  },
  {
   "cell_type": "code",
   "execution_count": 60,
   "metadata": {},
   "outputs": [
    {
     "name": "stdout",
     "output_type": "stream",
     "text": [
      "[[-2.95407676 -2.51304221 -0.84877677]]\n"
     ]
    }
   ],
   "source": [
    "X = data[:,1:4]  \n",
    "y = data[:,0]\n",
    "\n",
    "scaler = StandardScaler()\n",
    "\n",
    "scaler.fit(X)\n",
    "X = scaler.transform(X)\n",
    "\n",
    "#X_train, X_test, y_train, y_test = train_test_split(X, y, test_size=0.33, random_state=42)\n",
    "\n",
    "\n",
    "new_object = [-2.79, -2.37, -0.80]\n",
    "new_object = scaler.transform([new_object])\n",
    "print(new_object)"
   ]
  },
  {
   "cell_type": "code",
   "execution_count": 61,
   "metadata": {},
   "outputs": [
    {
     "name": "stdout",
     "output_type": "stream",
     "text": [
      "La clase predicha es: 2.0\n"
     ]
    }
   ],
   "source": [
    "knn = KNN_Clasifier(k=3)\n",
    "result = knn.simple_predict(X_std=X, y=y, new_object=new_object)\n",
    "print(f'La clase predicha es: {result}')"
   ]
  },
  {
   "cell_type": "code",
   "execution_count": 62,
   "metadata": {},
   "outputs": [],
   "source": [
    "from sklearn.datasets import load_wine\n",
    "X = load_wine().data\n",
    "y = load_wine().target\n",
    "\n",
    "scaler = StandardScaler()\n",
    "\n",
    "scaler.fit(X)\n",
    "X = scaler.transform(X)\n",
    "\n",
    "X_train, X_test, y_train, y_test = train_test_split(X, y, test_size=0.33, random_state=42)\n",
    "\n",
    "y_pred = knn.predict(X_train=X_train, y_train=y_train, X_test=X_test)"
   ]
  },
  {
   "cell_type": "code",
   "execution_count": 63,
   "metadata": {},
   "outputs": [
    {
     "data": {
      "text/plain": [
       "<Axes: >"
      ]
     },
     "execution_count": 63,
     "metadata": {},
     "output_type": "execute_result"
    },
    {
     "data": {
      "image/png": "[encoded data removed]",
      "text/plain": [
       "<Figure size 640x480 with 2 Axes>"
      ]
     },
     "metadata": {},
     "output_type": "display_data"
    }
   ],
   "source": [
    "cm = confusion_matrix(y_test, y_pred)\n",
    "sns.heatmap(cm, annot = True, cmap=\"Blues\")"
   ]
  },
  {
   "cell_type": "code",
   "execution_count": 64,
   "metadata": {},
   "outputs": [
    {
     "name": "stdout",
     "output_type": "stream",
     "text": [
      "              precision    recall  f1-score   support\n",
      "\n",
      "     class_0       0.95      1.00      0.98        20\n",
      "     class_1       1.00      0.92      0.96        24\n",
      "     class_2       0.94      1.00      0.97        15\n",
      "\n",
      "    accuracy                           0.97        59\n",
      "   macro avg       0.96      0.97      0.97        59\n",
      "weighted avg       0.97      0.97      0.97        59\n",
      "\n"
     ]
    }
   ],
   "source": [
    "target_names = load_wine().target_names\n",
    "print(classification_report(y_test, y_pred, target_names=target_names))"
   ]
  }
 ],
 "metadata": {
  "kernelspec": {
   "display_name": "base",
   "language": "python",
   "name": "python3"
  },
  "language_info": {
   "codemirror_mode": {
    "name": "ipython",
    "version": 3
   },
   "file_extension": ".py",
   "mimetype": "text/x-python",
   "name": "python",
   "nbconvert_exporter": "python",
   "pygments_lexer": "ipython3",
   "version": "3.9.13"
  },
  "orig_nbformat": 4
 },
 "nbformat": 4,
 "nbformat_minor": 2
}
