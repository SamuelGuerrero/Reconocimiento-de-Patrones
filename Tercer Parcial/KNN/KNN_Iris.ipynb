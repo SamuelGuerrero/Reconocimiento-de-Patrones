{
 "cells": [
  {
   "cell_type": "code",
   "execution_count": 55,
   "metadata": {},
   "outputs": [],
   "source": [
    "from sklearn import datasets\n",
    "from sklearn.preprocessing import StandardScaler\n",
    "import numpy as np\n",
    "import math\n",
    "from sklearn.model_selection import train_test_split\n",
    "from sklearn.metrics import confusion_matrix\n",
    "import seaborn as sns\n",
    "from sklearn.metrics import classification_report"
   ]
  },
  {
   "cell_type": "code",
   "execution_count": 56,
   "metadata": {},
   "outputs": [],
   "source": [
    "class KNN_Clasifier(object):\n",
    "\n",
    "    def __init__(self, k = 3):\n",
    "        self.k = k\n",
    "   \n",
    "    def distanciaEuclideana(self,obj1, obj2):\n",
    "        sum = 0\n",
    "        for i in range(0,len(obj1)):\n",
    "            sum += (obj1[i] - obj2[i])**2\n",
    "        res = math.sqrt(sum)\n",
    "        return res\n",
    "\n",
    "    def create_euclidean_distance_list(self, characteristics: list, center: list) -> list:\n",
    "        distancias = []\n",
    "        for element in characteristics:\n",
    "            distancias.append(self.distanciaEuclideana(center, element))\n",
    "        return distancias\n",
    "\n",
    "    def most_frequent(self,List):\n",
    "        counter = 0\n",
    "        num = List[0]\n",
    "        \n",
    "        for i in List:\n",
    "            curr_frequency = List.count(i)\n",
    "            if(curr_frequency> counter):\n",
    "                counter = curr_frequency\n",
    "                num = i\n",
    "    \n",
    "        return num\n",
    "\n",
    "    def simple_predict(self, X_std: list, y: list, new_object: list):\n",
    "        distances = self.create_euclidean_distance_list(characteristics=X_std, center=new_object[0])\n",
    "        distances_origin = distances.copy()\n",
    "        distances.sort()\n",
    "\n",
    "        winners = []\n",
    "        for i in np.arange(self.k):\n",
    "            winners.append(y[distances_origin.index(distances[i])])\n",
    "\n",
    "        return self.most_frequent(winners)\n",
    "    \n",
    "    def predict(self, X_train: list, y_train: list, X_test: list):\n",
    "        y_pred = []\n",
    "        for element in X_test:\n",
    "            y_pred.append(self.simple_predict(X_std=X_train, y=y_train, new_object=[element]))\n",
    "        return y_pred\n"
   ]
  },
  {
   "cell_type": "code",
   "execution_count": 57,
   "metadata": {},
   "outputs": [
    {
     "name": "stdout",
     "output_type": "stream",
     "text": [
      "[[-7.79513300e-01  3.28414053e-01 -8.85527111e-01  8.77547895e-04]]\n"
     ]
    }
   ],
   "source": [
    "iris = datasets.load_iris()\n",
    "X = iris.data  # we only take the first two features.\n",
    "y = iris.target\n",
    "\n",
    "scaler = StandardScaler()\n",
    "\n",
    "scaler.fit(X)\n",
    "X = scaler.transform(X)\n",
    "\n",
    "X_train, X_test, y_train, y_test = train_test_split(X, y, test_size=0.33, random_state=42)\n",
    "\n",
    "\n",
    "new_object = [5.2, 3.2, 2.2, 1.2]\n",
    "new_object = scaler.transform([new_object])\n",
    "print(new_object)"
   ]
  },
  {
   "cell_type": "code",
   "execution_count": 58,
   "metadata": {},
   "outputs": [
    {
     "name": "stdout",
     "output_type": "stream",
     "text": [
      "La clase predecida es setosa\n"
     ]
    }
   ],
   "source": [
    "knn = KNN_Clasifier(k=3)\n",
    "result = knn.simple_predict(X_std=X_train, y=y_train, new_object=new_object)\n",
    "print(f'La clase predecida es {iris.target_names[result]}')"
   ]
  },
  {
   "cell_type": "code",
   "execution_count": 59,
   "metadata": {},
   "outputs": [],
   "source": [
    "y_pred = knn.predict(X_train=X_train, y_train=y_train, X_test=X_test)"
   ]
  },
  {
   "cell_type": "code",
   "execution_count": 60,
   "metadata": {},
   "outputs": [
    {
     "data": {
      "text/plain": [
       "<Axes: >"
      ]
     },
     "execution_count": 60,
     "metadata": {},
     "output_type": "execute_result"
    },
    {
     "data": {
      "image/png": "[encoded data removed]",
      "text/plain": [
       "<Figure size 640x480 with 2 Axes>"
      ]
     },
     "metadata": {},
     "output_type": "display_data"
    }
   ],
   "source": [
    "cm = confusion_matrix(y_test, y_pred)\n",
    "sns.heatmap(cm, annot = True, cmap=\"Blues\")"
   ]
  },
  {
   "cell_type": "code",
   "execution_count": 61,
   "metadata": {},
   "outputs": [
    {
     "name": "stdout",
     "output_type": "stream",
     "text": [
      "              precision    recall  f1-score   support\n",
      "\n",
      "      setosa       1.00      1.00      1.00        19\n",
      "  versicolor       0.94      1.00      0.97        15\n",
      "   virginica       1.00      0.94      0.97        16\n",
      "\n",
      "    accuracy                           0.98        50\n",
      "   macro avg       0.98      0.98      0.98        50\n",
      "weighted avg       0.98      0.98      0.98        50\n",
      "\n"
     ]
    }
   ],
   "source": [
    "\n",
    "print(classification_report(y_test, y_pred, target_names=iris.target_names))"
   ]
  },
  {
   "cell_type": "code",
   "execution_count": null,
   "metadata": {},
   "outputs": [],
   "source": []
  }
 ],
 "metadata": {
  "kernelspec": {
   "display_name": "base",
   "language": "python",
   "name": "python3"
  },
  "language_info": {
   "codemirror_mode": {
    "name": "ipython",
    "version": 3
   },
   "file_extension": ".py",
   "mimetype": "text/x-python",
   "name": "python",
   "nbconvert_exporter": "python",
   "pygments_lexer": "ipython3",
   "version": "3.9.13"
  },
  "orig_nbformat": 4
 },
 "nbformat": 4,
 "nbformat_minor": 2
}
