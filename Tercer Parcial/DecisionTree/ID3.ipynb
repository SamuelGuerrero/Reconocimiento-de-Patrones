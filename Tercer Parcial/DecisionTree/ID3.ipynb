{
 "cells": [
  {
   "cell_type": "code",
   "execution_count": 1,
   "metadata": {},
   "outputs": [],
   "source": [
    "import numpy as np\n",
    "from sklearn.metrics import confusion_matrix\n",
    "import seaborn as sns"
   ]
  },
  {
   "cell_type": "code",
   "execution_count": 2,
   "metadata": {},
   "outputs": [],
   "source": [
    "data = np.array([\n",
    "[\"Soleado\", \"Calor\", \"Alta\", \"No\", \"N\"],\n",
    "[\"Nublado\", \"Calor\", \"Alta\", \"No\", \"P\"],\n",
    "[\"Lluvioso\", \"Templado\", \"Alta\", \"No\", \"P\"],\n",
    "[\"Lluvioso\", \"Frío\", \"Normal\", \"No\", \"P\"],\n",
    "[\"Lluvioso\", \"Frío\", \"Normal\", \"Sí\", \"N\"],\n",
    "[\"Nublado\", \"Frío\", \"Normal\", \"Sí\", \"P\"],\n",
    "[\"Soleado\", \"Templado\", \"Alta\", \"No\", \"N\"],\n",
    "[\"Soleado\", \"Frío\", \"Normal\", \"No\", \"P\"],\n",
    "[\"Lluvioso\", \"Templado\", \"Normal\", \"No\", \"P\"],\n",
    "[\"Soleado\", \"Templado\", \"Normal\", \"Sí\", \"P\"],\n",
    "[\"Soleado\", \"Calor\", \"Alta\", \"Sí\", \"N\"],\n",
    "[\"Nublado\", \"Templado\", \"Alta\", \"Sí\", \"P\"],\n",
    "[\"Nublado\", \"Calor\", \"Normal\", \"No\", \"P\"],\n",
    "[\"Lluvioso\", \"Templado\", \"Alta\", \"Sí\", \"N\"],\n",
    "])\n"
   ]
  },
  {
   "cell_type": "code",
   "execution_count": 3,
   "metadata": {},
   "outputs": [],
   "source": [
    "X = data[:,0:4]\n",
    "y = data[:,4]"
   ]
  },
  {
   "cell_type": "code",
   "execution_count": 4,
   "metadata": {},
   "outputs": [],
   "source": [
    "class Nodo:\n",
    "\n",
    "\tdef __init__(self, nombre, padre, arista=None):\n",
    "\t\tself.nombre = nombre\n",
    "\t\tself.padre  = padre\n",
    "\t\tself.hijos  = []\n",
    "\t\tself.arista = arista\n",
    "\n",
    "\tdef agregar_hijo(self, hijo):\n",
    "\t\tself.hijos.append(hijo)\n",
    "\n",
    "\tdef regresar_hijo(self, arista):\n",
    "\t\tfor hijo in self.hijos:\n",
    "\t\t\tif hijo.arista == arista:\n",
    "\t\t\t\treturn hijo\n",
    "\t\treturn None"
   ]
  },
  {
   "cell_type": "code",
   "execution_count": 5,
   "metadata": {},
   "outputs": [],
   "source": [
    "import numpy as np\n",
    "\n",
    "\n",
    "class ID3_C:\n",
    "\n",
    "\tdef __init__(self):\n",
    "\t\tself.raiz        = None\n",
    "\t\tself.atributos   = None\n",
    "\n",
    "\tdef crear_nodo(self, nombre, padre, arista=None):\n",
    "\t\treturn Nodo(nombre, padre, arista)\n",
    "\n",
    "\tdef establecer_atributos(self, atributos):\n",
    "\t\tself.atributos = atributos\n",
    "\n",
    "\tdef instancia_mas_abundante(self, Y):\n",
    "\t\tunicos, cuenta = np.unique(Y, return_counts=True)\n",
    "\t\tcuenta         = cuenta.tolist()\n",
    "\t\treturn unicos[cuenta.index(max(cuenta))]\n",
    "\n",
    "\tdef entrenar(self, X, Y):\n",
    "\n",
    "\t\t# Establecemos etiquetas por defecto.\n",
    "\t\tif self.atributos is None:\n",
    "\t\t\tself.atributos = [str(x) for x in range(X.shape[1])]\n",
    "\n",
    "\t\t# Checamos si solo existe una clase.\n",
    "\t\tif np.all(Y == Y[0]):\n",
    "\t\t\tself.raiz = self.crear_nodo(Y[0], None)\n",
    "\t\t\n",
    "\t\t# De lo contrario buscamos el nodo raíz.\n",
    "\t\telse:\n",
    "\t\t\tatributo         = self.seleccionar_atributo(X, Y, [])\n",
    "\t\t\tnombre_raiz      = self.atributos[atributo]\n",
    "\t\t\tself.raiz        = self.crear_nodo(nombre_raiz, None)\n",
    "\n",
    "\t\t\t# Encontramos los hijos del nodo raiz.\n",
    "\t\t\tself.encotrar_hijos(X, Y, atributo, [atributo], self.raiz)\n",
    "\n",
    "\tdef encotrar_hijos(self, X, Y, atributo, antecedente, nodo_actual):\n",
    "\n",
    "\t\tcolumna_atributo = X[:, atributo]\n",
    "\t\tvalores_unicos   = np.unique(columna_atributo).tolist()\n",
    "\t\tfor valor in valores_unicos:\n",
    "\t\t\tx = X[columna_atributo == valor]\n",
    "\t\t\ty = Y[columna_atributo == valor]\n",
    "\n",
    "\t\t\t# Checamos si nos quedamos sin atributos.\n",
    "\t\t\tif len(antecedente) == X.shape[1]:\n",
    "\t\t\t\tinstancia = self.instancia_mas_abundante(y)\n",
    "\t\t\t\thijo      = self.crear_nodo(instancia, nodo_actual, valor)\n",
    "\t\t\t\tnodo_actual.agregar_hijo(hijo)\n",
    "\n",
    "\t\t\t# Checamos si solo existe una clase.\n",
    "\t\t\telif np.all(y == y[0]):\n",
    "\t\t\t\thijo = self.crear_nodo(y[0], nodo_actual, valor)\n",
    "\t\t\t\tnodo_actual.agregar_hijo(hijo)\n",
    "\n",
    "\t\t\t# Seleccionamos mejor atributo y llamamos recursivamente.\n",
    "\t\t\telse:\n",
    "\t\t\t\thijo             = self.seleccionar_atributo(x, y, antecedente)\n",
    "\t\t\t\tnombre_hijo      = self.atributos[hijo]\n",
    "\t\t\t\tnodo_hijo        = self.crear_nodo(nombre_hijo, nodo_actual, valor)\n",
    "\t\t\t\tnodo_actual.agregar_hijo(nodo_hijo)\n",
    "\t\t\t\tself.encotrar_hijos(x, y, hijo, antecedente + [hijo], nodo_hijo)\n",
    "\t\t\t\n",
    "\tdef seleccionar_atributo(self, X, Y, antecedente):\n",
    "\n",
    "\t\tganancia = []\n",
    "\t\tfor i, atributo in enumerate(X.T):\n",
    "\t\t\tif i not in antecedente:\n",
    "\t\t\t\tganancia.append(self.calcular_ganancia(atributo, Y))\n",
    "\t\t\telse:\n",
    "\t\t\t\tganancia.append(float(\"-inf\"))\n",
    "\t\treturn ganancia.index(max(ganancia))\n",
    "\n",
    "\tdef calcular_ganancia(self, atributo, Y):\n",
    "\n",
    "\t\tentropia_atributos = 0\n",
    "\t\tfor valor in np.unique(atributo):\n",
    "\t\t\ty          = Y[atributo == valor]\n",
    "\t\t\tproporcion = y.size/Y.size\n",
    "\t\t\tentropia_atributos +=  proporcion * self.calcular_entropia(y)\n",
    "\t\treturn self.calcular_entropia(Y) - entropia_atributos\n",
    "\n",
    "\tdef calcular_entropia(self, Y):\n",
    "\n",
    "\t\tentropia = 0\n",
    "\t\tfor valor in np.unique(Y):\n",
    "\t\t\ty           = Y[Y == valor]\n",
    "\t\t\tproporcion  = y.size/Y.size\n",
    "\t\t\tentropia   -= proporcion * np.log2(proporcion)\n",
    "\t\treturn entropia\n",
    "\n",
    "\tdef predecir(self, X):\n",
    "\n",
    "\t\tY = np.empty(X.shape[0], dtype=\"<U10\")\n",
    "\t\tfor i, fila in enumerate(X):\n",
    "\t\t\tY[i] = self.predecir_fila(fila)\n",
    "\t\treturn Y\n",
    "\n",
    "\tdef predecir_fila(self, fila):\n",
    "\n",
    "\t\tnodo_actual = self.raiz\n",
    "\t\twhile nodo_actual.hijos: \n",
    "\t\t\tatributo         = nodo_actual.nombre\n",
    "\t\t\tcolumna_atributo = self.atributos.index(atributo)\n",
    "\t\t\tvalor_atributo   = fila[columna_atributo]\n",
    "\t\t\tnodo_actual      = nodo_actual.regresar_hijo(valor_atributo)\n",
    "\t\treturn nodo_actual.nombre"
   ]
  },
  {
   "cell_type": "code",
   "execution_count": 6,
   "metadata": {},
   "outputs": [
    {
     "name": "stdout",
     "output_type": "stream",
     "text": [
      "['N' 'P' 'P' 'N']\n",
      "Porcentaje de aciertos:  100.0\n"
     ]
    }
   ],
   "source": [
    "X_train = data[0:10:,0:4]\n",
    "Y_train = data[0:10:,4]\n",
    "\n",
    "X_test = data[10:14:,0:4]\n",
    "Y_test = data[10:14:,4]\n",
    "\n",
    "arbol = ID3_C()\n",
    "arbol.entrenar(X_train, Y_train)\n",
    "salida = arbol.predecir(X_test)\n",
    "print(salida)\n",
    "print('Porcentaje de aciertos: ', 100 * sum(Y_test == salida)/X_test.shape[0])"
   ]
  },
  {
   "cell_type": "code",
   "execution_count": 7,
   "metadata": {},
   "outputs": [
    {
     "data": {
      "text/plain": [
       "<Axes: >"
      ]
     },
     "execution_count": 7,
     "metadata": {},
     "output_type": "execute_result"
    },
    {
     "data": {
      "image/png": "[encoded data removed]",
      "text/plain": [
       "<Figure size 640x480 with 2 Axes>"
      ]
     },
     "metadata": {},
     "output_type": "display_data"
    }
   ],
   "source": [
    "cm = confusion_matrix(Y_test, salida)\n",
    "sns.heatmap(cm, annot = True, cmap=\"Blues\")"
   ]
  }
 ],
 "metadata": {
  "kernelspec": {
   "display_name": "base",
   "language": "python",
   "name": "python3"
  },
  "language_info": {
   "codemirror_mode": {
    "name": "ipython",
    "version": 3
   },
   "file_extension": ".py",
   "mimetype": "text/x-python",
   "name": "python",
   "nbconvert_exporter": "python",
   "pygments_lexer": "ipython3",
   "version": "3.9.13"
  },
  "orig_nbformat": 4
 },
 "nbformat": 4,
 "nbformat_minor": 2
}
