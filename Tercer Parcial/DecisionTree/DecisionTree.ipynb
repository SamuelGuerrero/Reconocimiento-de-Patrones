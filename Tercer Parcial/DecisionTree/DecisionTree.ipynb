{
 "cells": [
  {
   "cell_type": "code",
   "execution_count": 14,
   "metadata": {},
   "outputs": [],
   "source": [
    "import numpy as np\n",
    "import pandas as pd"
   ]
  },
  {
   "cell_type": "code",
   "execution_count": 15,
   "metadata": {},
   "outputs": [],
   "source": [
    "data = np.array([\n",
    "    [\"Color\", \"Tamaño\", \"Forma\", \"Clase Comestible\"],\n",
    "    [\"Amarillo\", \"Pequeña\", \"Redonda\", \"Si\"],\n",
    "    [\"Amarillo\", \"Pequeña\", \"Redonda\", \"No\"],\n",
    "    [\"Verde\", \"Pequeña\", \"Irregular\", \"Si\"],\n",
    "    [\"Verde\", \"Grande\", \"Irregular\", \"No\"],\n",
    "    [\"Amarillo\", \"Grande\", \"Redonda\", \"Si\"],\n",
    "    [\"Amarillo\", \"Pequeña\", \"Redonda\", \"Si\"],\n",
    "    [\"Amarillo\", \"Pequeña\", \"Redonda\", \"Si\"],\n",
    "    [\"Amarillo\", \"Pequeña\", \"Redonda\", \"Si\"],\n",
    "    [\"Verde\", \"Pequeña\", \"Redonda\", \"No\"],\n",
    "    [\"Amarillo\", \"Grande\", \"Redonda\", \"No\"],\n",
    "    [\"Amarillo\", \"Grande\", \"Redonda\", \"Si\"],\n",
    "    [\"Amarillo\", \"Grande\", \"Redonda\", \"No\"],\n",
    "    [\"Amarillo\", \"Grande\", \"Redonda\", \"No\"],\n",
    "    [\"Amarillo\", \"Grande\", \"Redonda\", \"No\"],\n",
    "    [\"Amarillo\", \"Pequeña\", \"Irregular\", \"Si\"],\n",
    "    [\"Amarillo\", \"Grande\", \"Irregular\", \"Si\"],\n",
    "])"
   ]
  },
  {
   "cell_type": "code",
   "execution_count": 16,
   "metadata": {},
   "outputs": [
    {
     "name": "stdout",
     "output_type": "stream",
     "text": [
      "['Color' 'Tamaño' 'Forma' 'Clase Comestible']\n"
     ]
    }
   ],
   "source": [
    "labels = data[0,:]\n",
    "print(labels)"
   ]
  },
  {
   "cell_type": "code",
   "execution_count": 17,
   "metadata": {},
   "outputs": [],
   "source": [
    "X = data[1:data.shape[0],0:3]\n",
    "Y = data[1:data.shape[0],3]"
   ]
  },
  {
   "cell_type": "code",
   "execution_count": 23,
   "metadata": {},
   "outputs": [
    {
     "name": "stdout",
     "output_type": "stream",
     "text": [
      "0.8125 0.1875\n",
      "0.5\n",
      "0.3125\n",
      "0.0625\n",
      "0.125\n"
     ]
    }
   ],
   "source": [
    "#Calculando probabilidades para la característica Color\n",
    "Pa11 = np.count_nonzero(X[:, 0] == 'Amarillo') / X.shape[0]\n",
    "Pa12 = np.count_nonzero(X[:, 0] == 'Verde') / X.shape[0]\n",
    "print(Pa11, Pa12)\n",
    "\n",
    "X_aux = pd.DataFrame(X)\n",
    "Y_aux = pd.DataFrame(Y)\n",
    "\n",
    "Pc1a11 = X_aux.loc[(X_aux[0] == 'Amarillo') & (Y_aux[0] == 'Si')]\n",
    "Pc1a11 = Pc1a11.shape[0] / X.shape[0]\n",
    "print(Pc1a11)\n",
    "\n",
    "Pc2a11 = X_aux.loc[(X_aux[0] == 'Amarillo') & (Y_aux[0] == 'No')]\n",
    "Pc2a11 = Pc2a11.shape[0] / X.shape[0]\n",
    "print(Pc2a11)\n",
    "\n",
    "Pc1a12 = X_aux.loc[(X_aux[0] == 'Verde') & (Y_aux[0] == 'Si')]\n",
    "Pc1a12 = Pc1a12.shape[0] / X.shape[0]\n",
    "print(Pc1a12)\n",
    "\n",
    "Pc2a12 = X_aux.loc[(X_aux[0] == 'Verde') & (Y_aux[0] == 'No')]\n",
    "Pc2a12 = Pc2a12.shape[0] / X.shape[0]\n",
    "print(Pc2a12)"
   ]
  },
  {
   "cell_type": "code",
   "execution_count": 26,
   "metadata": {},
   "outputs": [
    {
     "name": "stdout",
     "output_type": "stream",
     "text": [
      "8 8\n",
      "0.375\n",
      "0.125\n",
      "0.1875\n",
      "0.3125\n"
     ]
    }
   ],
   "source": [
    "#Calculando probabilidades para la característica Tamaño\n",
    "Pa21 = np.count_nonzero(X[:, 1] == 'Pequeña')\n",
    "Pa22 = np.count_nonzero(X[:, 1] == 'Grande')\n",
    "print(Pa21, Pa22)\n",
    "\n",
    "X_aux = pd.DataFrame(X)\n",
    "Y_aux = pd.DataFrame(Y)\n",
    "\n",
    "Pc1a21 = X_aux.loc[(X_aux[1] == 'Pequeña') & (Y_aux[0] == 'Si')]\n",
    "Pc1a21 = Pc1a21.shape[0] / X.shape[0]\n",
    "print(Pc1a21)\n",
    "\n",
    "Pc2a21 = X_aux.loc[(X_aux[1] == 'Pequeña') & (Y_aux[0] == 'No')]\n",
    "Pc2a21 = Pc2a21.shape[0] / X.shape[0]\n",
    "print(Pc2a21)\n",
    "\n",
    "Pc1a22 = X_aux.loc[(X_aux[1] == 'Grande') & (Y_aux[0] == 'Si')]\n",
    "Pc1a22 = Pc1a22.shape[0] / X.shape[0]\n",
    "print(Pc1a22)\n",
    "\n",
    "Pc2a22 = X_aux.loc[(X_aux[1] == 'Grande') & (Y_aux[0] == 'No')]\n",
    "Pc2a22 = Pc2a22.shape[0] / X.shape[0]\n",
    "print(Pc2a22)"
   ]
  },
  {
   "cell_type": "code",
   "execution_count": 27,
   "metadata": {},
   "outputs": [
    {
     "name": "stdout",
     "output_type": "stream",
     "text": [
      "12 4\n",
      "0.375\n",
      "0.375\n",
      "0.1875\n",
      "0.0625\n"
     ]
    }
   ],
   "source": [
    "#Calculando probabilidades para la característica Forma\n",
    "Pa31 = np.count_nonzero(X[:, 2] == 'Redonda')\n",
    "Pa32 = np.count_nonzero(X[:, 2] == 'Irregular')\n",
    "print(Pa31, Pa32)\n",
    "\n",
    "X_aux = pd.DataFrame(X)\n",
    "Y_aux = pd.DataFrame(Y)\n",
    "\n",
    "Pc1a31 = X_aux.loc[(X_aux[2] == 'Redonda') & (Y_aux[0] == 'Si')]\n",
    "Pc1a31 = Pc1a31.shape[0] / X.shape[0]\n",
    "print(Pc1a31)\n",
    "\n",
    "Pc2a31 = X_aux.loc[(X_aux[2] == 'Redonda') & (Y_aux[0] == 'No')]\n",
    "Pc2a31 = Pc2a31.shape[0] / X.shape[0]\n",
    "print(Pc2a31)\n",
    "\n",
    "Pc1a32 = X_aux.loc[(X_aux[2] == 'Irregular') & (Y_aux[0] == 'Si')]\n",
    "Pc1a32 = Pc1a32.shape[0] / X.shape[0]\n",
    "print(Pc1a32)\n",
    "\n",
    "Pc2a32 = X_aux.loc[(X_aux[2] == 'Irregular') & (Y_aux[0] == 'No')]\n",
    "Pc2a32 = Pc2a32.shape[0] / X.shape[0]\n",
    "print(Pc2a32)"
   ]
  }
 ],
 "metadata": {
  "kernelspec": {
   "display_name": "base",
   "language": "python",
   "name": "python3"
  },
  "language_info": {
   "codemirror_mode": {
    "name": "ipython",
    "version": 3
   },
   "file_extension": ".py",
   "mimetype": "text/x-python",
   "name": "python",
   "nbconvert_exporter": "python",
   "pygments_lexer": "ipython3",
   "version": "3.9.13"
  },
  "orig_nbformat": 4
 },
 "nbformat": 4,
 "nbformat_minor": 2
}
