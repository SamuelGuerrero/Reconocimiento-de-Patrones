{
 "cells": [
  {
   "cell_type": "code",
   "execution_count": 1,
   "metadata": {},
   "outputs": [],
   "source": [
    "import numpy as np\n",
    "\n",
    "A1 = np.array([[\"Soleado\", \"Nublado\", \"Lluvioso\"],\n",
    "               [3,0,2],\n",
    "               [2,4,3]])\n",
    "\n",
    "A2 = np.array([[\"Calor\", \"Templado\", \"Frio\"],\n",
    "               [2,2,1],\n",
    "               [2,4,3]])\n",
    "\n",
    "A3 = np.array([[\"Alta\", \"Normal\"],\n",
    "               [4,1],\n",
    "               [3,6]])\n",
    "\n",
    "A4 = np.array([[\"Si\", \"No\"],\n",
    "               [3,2],\n",
    "               [3,6]])"
   ]
  },
  {
   "cell_type": "code",
   "execution_count": 6,
   "metadata": {},
   "outputs": [
    {
     "name": "stdout",
     "output_type": "stream",
     "text": [
      "[['Soleado' 'Nublado' 'Lluvioso']\n",
      " ['3' '0' '2']\n",
      " ['2' '4' '3']]\n",
      "['2' '4' '3']\n"
     ]
    }
   ],
   "source": [
    "print(A1)\n",
    "print(A1[1-2,:])"
   ]
  },
  {
   "cell_type": "code",
   "execution_count": 9,
   "metadata": {},
   "outputs": [
    {
     "name": "stdout",
     "output_type": "stream",
     "text": [
      "Soleado\n",
      "Nublado\n",
      "Lluvioso\n",
      "\n",
      "\n",
      "3\n",
      "0\n",
      "2\n",
      "\n",
      "\n",
      "2\n",
      "4\n",
      "3\n",
      "\n",
      "\n"
     ]
    }
   ],
   "source": [
    "total_data = 0\n",
    "for i in np.arange(A1[1-2,:].shape[0]):\n",
    "    for j in np.arange(A1[1-2,:].shape[0]):\n",
    "        print(A1[i,j])\n",
    "    print(\"\\n\")\n",
    "\n",
    "#Pa11 = "
   ]
  },
  {
   "cell_type": "code",
   "execution_count": null,
   "metadata": {},
   "outputs": [],
   "source": []
  }
 ],
 "metadata": {
  "kernelspec": {
   "display_name": "base",
   "language": "python",
   "name": "python3"
  },
  "language_info": {
   "codemirror_mode": {
    "name": "ipython",
    "version": 3
   },
   "file_extension": ".py",
   "mimetype": "text/x-python",
   "name": "python",
   "nbconvert_exporter": "python",
   "pygments_lexer": "ipython3",
   "version": "3.9.13"
  },
  "orig_nbformat": 4
 },
 "nbformat": 4,
 "nbformat_minor": 2
}
