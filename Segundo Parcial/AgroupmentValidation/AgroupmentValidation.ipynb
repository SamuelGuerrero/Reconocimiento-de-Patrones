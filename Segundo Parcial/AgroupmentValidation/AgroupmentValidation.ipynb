{
 "cells": [
  {
   "cell_type": "code",
   "execution_count": 140,
   "metadata": {},
   "outputs": [],
   "source": [
    "import numpy as np\n",
    "import math"
   ]
  },
  {
   "cell_type": "code",
   "execution_count": 141,
   "metadata": {},
   "outputs": [],
   "source": [
    "data = np.array([[14.23, 1.71, 2.43, 15.6],\n",
    "                 [13.20, 1.78, 2.14, 11.2],\n",
    "                 [13.16, 2.36, 2.67, 18.6],\n",
    "                 [14.37, 1.95, 2.50, 16.8],\n",
    "                 [13.24, 2.59, 2.87, 21],\n",
    "                 [12.37, 0.94, 1.36, 10.6],\n",
    "                 [12.33, 1.10, 2.28, 16],\n",
    "                 [12.64, 1.36, 2.02, 16.8],\n",
    "                 [12.17, 1.45, 2.53, 19],\n",
    "                 [13.64, 3.10, 2.56, 15.2],\n",
    "                 [14.06, 1.63, 2.28, 16],\n",
    "                 [12.93, 3.80, 2.65, 18.6]])\n",
    "\n",
    "methods = np.array([[1,1],\n",
    "                   [1,1],\n",
    "                   [1,1],\n",
    "                   [1,1],\n",
    "                   [1,2],\n",
    "                   [2,2],\n",
    "                   [2,2],\n",
    "                   [2,2],\n",
    "                   [2,2],\n",
    "                   [1,2],\n",
    "                   [1,2],\n",
    "                   [1,2]])\n",
    "\n",
    "C = 2"
   ]
  },
  {
   "cell_type": "code",
   "execution_count": 142,
   "metadata": {},
   "outputs": [],
   "source": [
    "means_characteristics = []\n",
    "\n",
    "for i in np.arange(data.shape[1]):\n",
    "    means_characteristics.append(data[:,i].mean())"
   ]
  },
  {
   "cell_type": "code",
   "execution_count": 143,
   "metadata": {},
   "outputs": [],
   "source": [
    "def distanciaEuclideana(obj1, obj2):\n",
    "    sum = 0\n",
    "    for i in range(0,len(obj1)):\n",
    "        sum += (obj1[i] - obj2[i])**2\n",
    "    res = math.sqrt(sum)\n",
    "    return res\n",
    "\n",
    "def get_means_by_group(data, methods, method_column):\n",
    "    elements_method1 = []\n",
    "    for i in np.arange(data.shape[0]):\n",
    "        if(methods[i,method_column] == 1):\n",
    "            elements_method1.append(data[i,:].tolist())\n",
    "    elements_method1 = np.array(elements_method1)\n",
    "\n",
    "    means_method1 = []\n",
    "    for i in np.arange(elements_method1.shape[1]):\n",
    "        means_method1.append(elements_method1[:,i].mean())\n",
    "\n",
    "\n",
    "    elements_method2 = []\n",
    "    for i in np.arange(data.shape[0]):\n",
    "        if(methods[i,method_column] == 2):\n",
    "            elements_method2.append(data[i,:].tolist())\n",
    "    elements_method2 = np.array(elements_method2)\n",
    "\n",
    "    means_method2 = []\n",
    "    for i in np.arange(elements_method2.shape[1]):\n",
    "        means_method2.append(elements_method2[:,i].mean())\n",
    "\n",
    "    return elements_method1, elements_method2, means_method1, means_method2"
   ]
  },
  {
   "cell_type": "code",
   "execution_count": 144,
   "metadata": {},
   "outputs": [],
   "source": [
    "elements_method11, element_method12, means_group11, means_group12 = get_means_by_group(data=data, methods=methods, method_column=0)\n",
    "elements_method21, element_method22, means_group21, means_group22 = get_means_by_group(data=data, methods=methods, method_column=1)"
   ]
  },
  {
   "cell_type": "code",
   "execution_count": 145,
   "metadata": {},
   "outputs": [
    {
     "name": "stdout",
     "output_type": "stream",
     "text": [
      "[11.065887980161895, 99.94056180671689, 29.09925927168476, 11.360794592922392, 102.19816709197411, 15.733415860765469, 8.331777130462967, 43.31545977230271]\n"
     ]
    }
   ],
   "source": [
    "SEE = []\n",
    "for element in elements_method11:\n",
    "    SEE.append(pow((distanciaEuclideana(element, means_group11) + distanciaEuclideana(element, means_group12)),2))\n",
    "print(SEE)\n"
   ]
  },
  {
   "cell_type": "code",
   "execution_count": null,
   "metadata": {},
   "outputs": [],
   "source": []
  }
 ],
 "metadata": {
  "kernelspec": {
   "display_name": "base",
   "language": "python",
   "name": "python3"
  },
  "language_info": {
   "codemirror_mode": {
    "name": "ipython",
    "version": 3
   },
   "file_extension": ".py",
   "mimetype": "text/x-python",
   "name": "python",
   "nbconvert_exporter": "python",
   "pygments_lexer": "ipython3",
   "version": "3.9.13"
  },
  "orig_nbformat": 4
 },
 "nbformat": 4,
 "nbformat_minor": 2
}
