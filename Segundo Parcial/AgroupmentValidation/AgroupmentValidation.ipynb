{
 "cells": [
  {
   "cell_type": "code",
   "execution_count": 1,
   "metadata": {},
   "outputs": [],
   "source": [
    "import numpy as np\n",
    "import math"
   ]
  },
  {
   "cell_type": "code",
   "execution_count": 2,
   "metadata": {},
   "outputs": [],
   "source": [
    "data = np.array([[14.23, 1.71, 2.43, 15.6],\n",
    "                 [13.20, 1.78, 2.14, 11.2],\n",
    "                 [13.16, 2.36, 2.67, 18.6],\n",
    "                 [14.37, 1.95, 2.50, 16.8],\n",
    "                 [13.24, 2.59, 2.87, 21],\n",
    "                 [12.37, 0.94, 1.36, 10.6],\n",
    "                 [12.33, 1.10, 2.28, 16],\n",
    "                 [12.64, 1.36, 2.02, 16.8],\n",
    "                 [12.17, 1.45, 2.53, 19],\n",
    "                 [13.64, 3.10, 2.56, 15.2],\n",
    "                 [14.06, 1.63, 2.28, 16],\n",
    "                 [12.93, 3.80, 2.65, 18.6]])\n",
    "\n",
    "methods = np.array([[1,1],[1,1],[1,1],[1,1],[1,2],[2,2],[2,2],[2,2],[2,2],[1,2],[1,2],[1,2]])\n",
    "\n",
    "C = 2"
   ]
  },
  {
   "cell_type": "code",
   "execution_count": 3,
   "metadata": {},
   "outputs": [],
   "source": [
    "means_characteristics = []\n",
    "\n",
    "for i in np.arange(data.shape[1]):\n",
    "    means_characteristics.append(data[:,i].mean())"
   ]
  },
  {
   "cell_type": "code",
   "execution_count": 4,
   "metadata": {},
   "outputs": [],
   "source": [
    "def distanciaEuclideana(obj1, obj2):\n",
    "    sum = 0\n",
    "    for i in range(0,len(obj1)):\n",
    "        sum += (obj1[i] - obj2[i])**2\n",
    "    res = math.sqrt(sum)\n",
    "    return res\n",
    "\n",
    "def get_means_by_group(data, methods, method_column):\n",
    "    elements_method1 = []\n",
    "    for i in np.arange(data.shape[0]):\n",
    "        if(methods[i,method_column] == 1):\n",
    "            elements_method1.append(data[i,:].tolist())\n",
    "    elements_method1 = np.array(elements_method1)\n",
    "\n",
    "    means_method1 = []\n",
    "    for i in np.arange(elements_method1.shape[1]):\n",
    "        means_method1.append(elements_method1[:,i].mean())\n",
    "\n",
    "\n",
    "    elements_method2 = []\n",
    "    for i in np.arange(data.shape[0]):\n",
    "        if(methods[i,method_column] == 2):\n",
    "            elements_method2.append(data[i,:].tolist())\n",
    "    elements_method2 = np.array(elements_method2)\n",
    "\n",
    "    means_method2 = []\n",
    "    for i in np.arange(elements_method2.shape[1]):\n",
    "        means_method2.append(elements_method2[:,i].mean())\n",
    "\n",
    "    return elements_method1, elements_method2, means_method1, means_method2"
   ]
  },
  {
   "cell_type": "code",
   "execution_count": 5,
   "metadata": {},
   "outputs": [],
   "source": [
    "elements_method11, elements_method12, means_group11, means_group12 = get_means_by_group(data=data, methods=methods, method_column=0)\n",
    "elements_method21, elements_method22, means_group21, means_group22 = get_means_by_group(data=data, methods=methods, method_column=1)"
   ]
  },
  {
   "cell_type": "code",
   "execution_count": 6,
   "metadata": {},
   "outputs": [
    {
     "name": "stdout",
     "output_type": "stream",
     "text": [
      "[60.11664999999997, 962.3878500000003, 131.9158500000002, 25.284649999999882, 622.44385, 82.38145000000006, 38.17824999999996, 205.84625000000025]\n",
      "[408.75150000000025, 3.6634999999999835, 24.502699999999965, 190.27629999999985]\n",
      "[4.8036, 309.28040000000027, 157.79560000000006, 31.41799999999998]\n",
      "[629.7510999999994, 1246.1639000000007, 50.50630000000006, 19.083899999999968, 205.81669999999963, 124.60070000000032, 59.26550000000018, 229.30549999999985]\n"
     ]
    }
   ],
   "source": [
    "SEE11 = []\n",
    "for element in elements_method11:\n",
    "    SEE11.append(len(elements_method11) * pow((distanciaEuclideana(element, means_group11) + distanciaEuclideana(element, means_group11)),2))\n",
    "print(SEE11)\n",
    "\n",
    "SEE12 = []\n",
    "for element in elements_method12:\n",
    "    SEE12.append(len(elements_method12) * pow((distanciaEuclideana(element, means_group12) + distanciaEuclideana(element, means_group12)),2))\n",
    "print(SEE12)\n",
    "\n",
    "SEE21 = []\n",
    "for element in elements_method21:\n",
    "    SEE21.append(len(elements_method21) * pow((distanciaEuclideana(element, means_group21) + distanciaEuclideana(element, means_group21)),2))\n",
    "print(SEE21)\n",
    "\n",
    "SEE22 = []\n",
    "for element in elements_method22:\n",
    "    SEE22.append(len(elements_method22) * pow((distanciaEuclideana(element, means_group22) + distanciaEuclideana(element, means_group22)),2))\n",
    "print(SEE22)"
   ]
  },
  {
   "cell_type": "code",
   "execution_count": 7,
   "metadata": {},
   "outputs": [
    {
     "name": "stdout",
     "output_type": "stream",
     "text": [
      "[13.195       1.98083333  2.3575     16.28333333]\n"
     ]
    }
   ],
   "source": [
    "global_mean1 = 0\n",
    "\n",
    "global_mean1 += len(elements_method11) * np.array(means_group11)\n",
    "global_mean1 += len(elements_method12) * np.array(means_group12)\n",
    "global_mean1 = global_mean1 / (data.shape[0])\n",
    "\n",
    "print(global_mean1)"
   ]
  },
  {
   "cell_type": "code",
   "execution_count": 8,
   "metadata": {},
   "outputs": [
    {
     "name": "stdout",
     "output_type": "stream",
     "text": [
      "[13.195       1.98083333  2.3575     16.28333333]\n"
     ]
    }
   ],
   "source": [
    "global_mean2 = 0\n",
    "\n",
    "global_mean2 += len(elements_method21) * np.array(means_group21)\n",
    "global_mean2 += len(elements_method22) * np.array(means_group22)\n",
    "global_mean2 = global_mean2 / (data.shape[0])\n",
    "\n",
    "print(global_mean2)"
   ]
  },
  {
   "cell_type": "code",
   "execution_count": 9,
   "metadata": {},
   "outputs": [
    {
     "name": "stdout",
     "output_type": "stream",
     "text": [
      "10.930120833333326\n",
      "5.050558333333345\n"
     ]
    }
   ],
   "source": [
    "tr1 = 0\n",
    "tr1 += len(elements_method11) * pow(distanciaEuclideana(means_group11, global_mean1),2)\n",
    "tr1 += len(elements_method12) * pow(distanciaEuclideana(means_group12, global_mean1),2)\n",
    "print(tr1)\n",
    "\n",
    "tr2 = 0\n",
    "tr2 += len(elements_method21) * pow(distanciaEuclideana(means_group21, global_mean2),2)\n",
    "tr2 += len(elements_method22) * pow(distanciaEuclideana(means_group22, global_mean2),2)\n",
    "print(tr2)"
   ]
  }
 ],
 "metadata": {
  "kernelspec": {
   "display_name": "base",
   "language": "python",
   "name": "python3"
  },
  "language_info": {
   "codemirror_mode": {
    "name": "ipython",
    "version": 3
   },
   "file_extension": ".py",
   "mimetype": "text/x-python",
   "name": "python",
   "nbconvert_exporter": "python",
   "pygments_lexer": "ipython3",
   "version": "3.9.13"
  },
  "orig_nbformat": 4
 },
 "nbformat": 4,
 "nbformat_minor": 2
}
