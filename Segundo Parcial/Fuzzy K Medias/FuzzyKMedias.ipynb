{
 "cells": [
  {
   "cell_type": "code",
   "execution_count": 1,
   "metadata": {},
   "outputs": [],
   "source": [
    "import numpy as np\n",
    "from sklearn.preprocessing import normalize\n",
    "import math"
   ]
  },
  {
   "cell_type": "code",
   "execution_count": 2,
   "metadata": {},
   "outputs": [],
   "source": [
    "def distanciaEuclideana(obj1, obj2):\n",
    "    sum = 0\n",
    "    for i in range(0,len(obj1)):\n",
    "        sum += (obj1[i] - obj2[i])**2\n",
    "    res = math.sqrt(sum)\n",
    "    return res\n",
    "\n",
    "def update_group_means(characteristics: list, pertenetial_values:list, b: int or float) ->list:\n",
    "    i = 0\n",
    "    sumatoria1 = np.zeros((1, characteristics.shape[1]))\n",
    "    for element in pertenetial_values:\n",
    "        sumatoria1 += pow(element, b) * characteristics[i]\n",
    "        i += 1\n",
    "\n",
    "    sumatoria2 = np.zeros((1, characteristics.shape[1]))\n",
    "    for element in pertenetial_values:\n",
    "        sumatoria2 += pow(element, b) \n",
    "\n",
    "    mui = sumatoria1/sumatoria2\n",
    "    mui = mui[0]\n",
    "    return mui\n",
    "\n",
    "def create_euclidean_distance_list(characteristics: list, center: list) -> list:\n",
    "    distancias = []\n",
    "    for element in characteristics:\n",
    "        distancias.append(distanciaEuclideana(center, element))\n",
    "    return distancias"
   ]
  },
  {
   "cell_type": "code",
   "execution_count": 3,
   "metadata": {},
   "outputs": [],
   "source": [
    "data = np.array([[99.8, 176.6, 66.2, 54.3, 0.2, 0.98],\n",
    "        [99.4, 176.6, 66.4, 54.3, 0.5, 0.7],\n",
    "        [99.8, 177.3, 66.3, 53.1, 0.25, 0.35],\n",
    "        [105.8, 192.7, 71.4, 55.7, 0.45, 0.65],\n",
    "        [95.3, 169, 65.7, 49.6, 0.15, 0.95],\n",
    "        [98.8, 177.8, 66.5, 53.7, 0.66, 0.23],\n",
    "        [98.8, 177.8, 66.5, 55.5, 0.1, 0.87],\n",
    "        [107.9, 186.7, 68.4, 56.7, 0.95, 0.35],\n",
    "        [107.9, 186.7, 68.4, 56.7, 0.15, 0.25],\n",
    "        [104.3, 188.8, 67.2, 57.5, 0.35, 0.35]])"
   ]
  },
  {
   "cell_type": "code",
   "execution_count": 4,
   "metadata": {},
   "outputs": [],
   "source": [
    "C = 2\n",
    "b = 1.5\n",
    "e = 0.1"
   ]
  },
  {
   "cell_type": "code",
   "execution_count": 5,
   "metadata": {},
   "outputs": [],
   "source": [
    "pertenetial_values1 = data[:,4:5]\n",
    "pertenetial_values2 = data[:,5:6]\n",
    "\n",
    "beta_array = []\n",
    "\n",
    "pertenetial_values1 = data[:,4:]\n",
    "pertenetial_values2 = data[:,5:6]\n",
    "\n",
    "for i in np.arange(pertenetial_values1.shape[0]):\n",
    "    beta_array.append((1/(pertenetial_values1[i] + pertenetial_values2[i]))[0])\n",
    "\n",
    "#Normalize characteristics \n",
    "for i in np.arange(pertenetial_values1.shape[0]):\n",
    "    pertenetial_values1[i] = pertenetial_values1[i] * beta_array[i]\n",
    "    pertenetial_values2[i] = pertenetial_values2[i] * beta_array[i]\n",
    "\n",
    "#Select characteristics\n",
    "characteristics = data[:,0:4]\n"
   ]
  },
  {
   "cell_type": "code",
   "execution_count": 6,
   "metadata": {},
   "outputs": [
    {
     "ename": "ValueError",
     "evalue": "operands could not be broadcast together with shapes (2,) (4,) ",
     "output_type": "error",
     "traceback": [
      "\u001b[0;31m---------------------------------------------------------------------------\u001b[0m",
      "\u001b[0;31mValueError\u001b[0m                                Traceback (most recent call last)",
      "\u001b[1;32m/Users/samuelguerrero/GitHub/1002-A/Reconocimiento-de-Patrones/Segundo Parcial/Fuzzy K Medias/FuzzyKMedias.ipynb Celda 6\u001b[0m in \u001b[0;36m<cell line: 4>\u001b[0;34m()\u001b[0m\n\u001b[1;32m      <a href='vscode-notebook-cell:/Users/samuelguerrero/GitHub/1002-A/Reconocimiento-de-Patrones/Segundo%20Parcial/Fuzzy%20K%20Medias/FuzzyKMedias.ipynb#W5sZmlsZQ%3D%3D?line=1'>2</a>\u001b[0m last_mean2 \u001b[39m=\u001b[39m []\n\u001b[1;32m      <a href='vscode-notebook-cell:/Users/samuelguerrero/GitHub/1002-A/Reconocimiento-de-Patrones/Segundo%20Parcial/Fuzzy%20K%20Medias/FuzzyKMedias.ipynb#W5sZmlsZQ%3D%3D?line=3'>4</a>\u001b[0m \u001b[39mfor\u001b[39;00m i \u001b[39min\u001b[39;00m np\u001b[39m.\u001b[39marange(\u001b[39m10\u001b[39m):\n\u001b[0;32m----> <a href='vscode-notebook-cell:/Users/samuelguerrero/GitHub/1002-A/Reconocimiento-de-Patrones/Segundo%20Parcial/Fuzzy%20K%20Medias/FuzzyKMedias.ipynb#W5sZmlsZQ%3D%3D?line=4'>5</a>\u001b[0m     mui1 \u001b[39m=\u001b[39m update_group_means(characteristics\u001b[39m=\u001b[39;49mcharacteristics, pertenetial_values\u001b[39m=\u001b[39;49mpertenetial_values1, b\u001b[39m=\u001b[39;49mb)\n\u001b[1;32m      <a href='vscode-notebook-cell:/Users/samuelguerrero/GitHub/1002-A/Reconocimiento-de-Patrones/Segundo%20Parcial/Fuzzy%20K%20Medias/FuzzyKMedias.ipynb#W5sZmlsZQ%3D%3D?line=5'>6</a>\u001b[0m     mui2 \u001b[39m=\u001b[39m update_group_means(characteristics\u001b[39m=\u001b[39mcharacteristics, pertenetial_values\u001b[39m=\u001b[39mpertenetial_values2, b\u001b[39m=\u001b[39mb)\n\u001b[1;32m      <a href='vscode-notebook-cell:/Users/samuelguerrero/GitHub/1002-A/Reconocimiento-de-Patrones/Segundo%20Parcial/Fuzzy%20K%20Medias/FuzzyKMedias.ipynb#W5sZmlsZQ%3D%3D?line=7'>8</a>\u001b[0m     last_mean1 \u001b[39m=\u001b[39m mui1\n",
      "\u001b[1;32m/Users/samuelguerrero/GitHub/1002-A/Reconocimiento-de-Patrones/Segundo Parcial/Fuzzy K Medias/FuzzyKMedias.ipynb Celda 6\u001b[0m in \u001b[0;36mupdate_group_means\u001b[0;34m(characteristics, pertenetial_values, b)\u001b[0m\n\u001b[1;32m     <a href='vscode-notebook-cell:/Users/samuelguerrero/GitHub/1002-A/Reconocimiento-de-Patrones/Segundo%20Parcial/Fuzzy%20K%20Medias/FuzzyKMedias.ipynb#W5sZmlsZQ%3D%3D?line=9'>10</a>\u001b[0m sumatoria1 \u001b[39m=\u001b[39m np\u001b[39m.\u001b[39mzeros((\u001b[39m1\u001b[39m, characteristics\u001b[39m.\u001b[39mshape[\u001b[39m1\u001b[39m]))\n\u001b[1;32m     <a href='vscode-notebook-cell:/Users/samuelguerrero/GitHub/1002-A/Reconocimiento-de-Patrones/Segundo%20Parcial/Fuzzy%20K%20Medias/FuzzyKMedias.ipynb#W5sZmlsZQ%3D%3D?line=10'>11</a>\u001b[0m \u001b[39mfor\u001b[39;00m element \u001b[39min\u001b[39;00m pertenetial_values:\n\u001b[0;32m---> <a href='vscode-notebook-cell:/Users/samuelguerrero/GitHub/1002-A/Reconocimiento-de-Patrones/Segundo%20Parcial/Fuzzy%20K%20Medias/FuzzyKMedias.ipynb#W5sZmlsZQ%3D%3D?line=11'>12</a>\u001b[0m     sumatoria1 \u001b[39m+\u001b[39m\u001b[39m=\u001b[39m \u001b[39mpow\u001b[39;49m(element, b) \u001b[39m*\u001b[39;49m characteristics[i]\n\u001b[1;32m     <a href='vscode-notebook-cell:/Users/samuelguerrero/GitHub/1002-A/Reconocimiento-de-Patrones/Segundo%20Parcial/Fuzzy%20K%20Medias/FuzzyKMedias.ipynb#W5sZmlsZQ%3D%3D?line=12'>13</a>\u001b[0m     i \u001b[39m+\u001b[39m\u001b[39m=\u001b[39m \u001b[39m1\u001b[39m\n\u001b[1;32m     <a href='vscode-notebook-cell:/Users/samuelguerrero/GitHub/1002-A/Reconocimiento-de-Patrones/Segundo%20Parcial/Fuzzy%20K%20Medias/FuzzyKMedias.ipynb#W5sZmlsZQ%3D%3D?line=14'>15</a>\u001b[0m sumatoria2 \u001b[39m=\u001b[39m np\u001b[39m.\u001b[39mzeros((\u001b[39m1\u001b[39m, characteristics\u001b[39m.\u001b[39mshape[\u001b[39m1\u001b[39m]))\n",
      "\u001b[0;31mValueError\u001b[0m: operands could not be broadcast together with shapes (2,) (4,) "
     ]
    }
   ],
   "source": [
    "last_mean1 = []\n",
    "last_mean2 = []\n",
    "\n",
    "for i in np.arange(10):\n",
    "    mui1 = update_group_means(characteristics=characteristics, pertenetial_values=pertenetial_values1, b=b)\n",
    "    mui2 = update_group_means(characteristics=characteristics, pertenetial_values=pertenetial_values2, b=b)\n",
    "\n",
    "    last_mean1 = mui1\n",
    "    last_mean2 = mui2\n",
    "\n",
    "    print(last_mean1, last_mean2)\n",
    "\n",
    "    distancias1 = create_euclidean_distance_list(characteristics=characteristics, center=mui1)\n",
    "    distancias2 = create_euclidean_distance_list(characteristics=characteristics, center=mui2)\n",
    "\n",
    "    #Nuevas pertenencias\n",
    "    sumatoria_distancias11 = []\n",
    "    for element in distancias1:\n",
    "        sumatoria_distancias11.append(pow((1 / pow(element, 2)), (1/(b-1))))\n",
    "\n",
    "    sumatoria_distancias22 = []\n",
    "    for element in distancias2:\n",
    "        sumatoria_distancias22.append(pow((1 / pow(element, 2)), (1/(b-1))))\n",
    "\n",
    "    for i in np.arange(pertenetial_values1.shape[0]):\n",
    "        pertenetial_values1[i] = pow((1 / pow(distancias1[i], 2)), (1/(b-1))) / (sumatoria_distancias11[i] + sumatoria_distancias22[i])\n",
    "        pertenetial_values2[i] = pow((1 / pow(distancias2[i], 2)), (1/(b-1))) / (sumatoria_distancias11[i] + sumatoria_distancias22[i])\n",
    "    \n",
    "    group1 = []\n",
    "    group2 = []\n",
    "\n",
    "    for i in np.arange(pertenetial_values1.shape[0]):\n",
    "        if(pertenetial_values1[i] > pertenetial_values2[i]):\n",
    "            group1.append(i)\n",
    "        else:\n",
    "            group2.append(i)\n",
    "    \n",
    "    print(group1)\n",
    "    print(group2)\n",
    "    print(\"-----------------------------------------------------------------------------------------------------------------\")\n",
    "    \n",
    "#print(last_mean1, last_mean2)\n"
   ]
  },
  {
   "cell_type": "code",
   "execution_count": null,
   "metadata": {},
   "outputs": [],
   "source": [
    "elements_group1 = []\n",
    "elements_group2 = []\n",
    "\n",
    "for element in group1:\n",
    "    elements_group1.append(data[element,:])\n",
    "\n",
    "for element in group2:\n",
    "    elements_group2.append(data[element,:])"
   ]
  },
  {
   "cell_type": "code",
   "execution_count": null,
   "metadata": {},
   "outputs": [],
   "source": []
  }
 ],
 "metadata": {
  "kernelspec": {
   "display_name": "base",
   "language": "python",
   "name": "python3"
  },
  "language_info": {
   "codemirror_mode": {
    "name": "ipython",
    "version": 3
   },
   "file_extension": ".py",
   "mimetype": "text/x-python",
   "name": "python",
   "nbconvert_exporter": "python",
   "pygments_lexer": "ipython3",
   "version": "3.9.13"
  },
  "orig_nbformat": 4
 },
 "nbformat": 4,
 "nbformat_minor": 2
}
