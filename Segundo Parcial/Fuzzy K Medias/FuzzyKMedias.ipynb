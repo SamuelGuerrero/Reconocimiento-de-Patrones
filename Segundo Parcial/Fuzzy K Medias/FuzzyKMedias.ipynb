{
 "cells": [
  {
   "cell_type": "code",
   "execution_count": 317,
   "metadata": {},
   "outputs": [],
   "source": [
    "import numpy as np\n",
    "from sklearn.preprocessing import normalize\n",
    "import math"
   ]
  },
  {
   "cell_type": "code",
   "execution_count": 318,
   "metadata": {},
   "outputs": [],
   "source": [
    "data = np.array([[99.8, 176.6, 66.2, 54.3, 0.2, 0.98],\n",
    "        [99.4, 176.6, 66.4, 54.3, 0.5, 0.7],\n",
    "        [99.8, 177.3, 66.3, 53.1, 0.25, 0.35],\n",
    "        [105.8, 192.7, 71.4, 55.7, 0.45, 0.65],\n",
    "        [95.3, 169, 65.7, 49.6, 0.15, 0.95],\n",
    "        [98.8, 177.8, 66.5, 53.7, 0.66, 0.23],\n",
    "        [98.8, 177.8, 66.5, 55.5, 0.1, 0.87],\n",
    "        [107.9, 186.7, 68.4, 56.7, 0.95, 0.35],\n",
    "        [107.9, 186.7, 68.4, 56.7, 0.15, 0.25],\n",
    "        [104.3, 188.8, 67.2, 57.5, 0.35, 0.35]])"
   ]
  },
  {
   "cell_type": "code",
   "execution_count": 319,
   "metadata": {},
   "outputs": [],
   "source": [
    "C = 2\n",
    "b = 1.5\n",
    "e = 0.1"
   ]
  },
  {
   "cell_type": "code",
   "execution_count": 320,
   "metadata": {},
   "outputs": [],
   "source": [
    "def distanciaEuclideana(obj1, obj2):\n",
    "    sum = 0\n",
    "    for i in range(0,len(obj1)):\n",
    "        sum += (obj1[i] - obj2[i])**2\n",
    "    res = math.sqrt(sum)\n",
    "    return res"
   ]
  },
  {
   "cell_type": "code",
   "execution_count": 321,
   "metadata": {},
   "outputs": [],
   "source": [
    "beta_array = []\n",
    "\n",
    "pertenetial_values1 = data[:,4:5]\n",
    "pertenetial_values2 = data[:,5:6]\n",
    "\n",
    "for i in np.arange(pertenetial_values1.shape[0]):\n",
    "    beta_array.append((1/(pertenetial_values1[i] + pertenetial_values2[i]))[0])\n",
    "\n",
    "#Normalize characteristics \n",
    "for i in np.arange(pertenetial_values1.shape[0]):\n",
    "    pertenetial_values1[i] = pertenetial_values1[i] * beta_array[i]\n",
    "    pertenetial_values2[i] = pertenetial_values2[i] * beta_array[i]\n"
   ]
  },
  {
   "cell_type": "code",
   "execution_count": 322,
   "metadata": {},
   "outputs": [
    {
     "name": "stdout",
     "output_type": "stream",
     "text": [
      "[103.04194471 182.9467417   67.57560343  55.24496478]\n",
      "[100.7603177  179.35340413  67.04888807  54.28400845]\n"
     ]
    }
   ],
   "source": [
    "characteristics = data[:,0:4]\n",
    "\n",
    "i = 0\n",
    "sumatoria1 = np.zeros((1, characteristics.shape[1]))\n",
    "for element in pertenetial_values1:\n",
    "    sumatoria1 += pow(element, b) * characteristics[i]\n",
    "    i += 1\n",
    "\n",
    "sumatoria2 = np.zeros((1, characteristics.shape[1]))\n",
    "for element in pertenetial_values1:\n",
    "    sumatoria2 += pow(element, b) \n",
    "\n",
    "mui1 = sumatoria1/sumatoria2\n",
    "mui1 = mui1[0]\n",
    "print(mui1)\n",
    "\n",
    "\n",
    "#---------------------\n",
    "\n",
    "i = 0\n",
    "sumatoria1 = np.zeros((1, characteristics.shape[1]))\n",
    "for element in pertenetial_values2:\n",
    "    sumatoria1 += pow(element, b) * characteristics[i]\n",
    "    i += 1\n",
    "\n",
    "sumatoria2 = np.zeros((1, characteristics.shape[1]))\n",
    "for element in pertenetial_values2:\n",
    "    sumatoria2 += pow(element, b) \n",
    "\n",
    "mui2 = sumatoria1/sumatoria2\n",
    "mui2 = mui2[0]\n",
    "print(mui2)"
   ]
  },
  {
   "cell_type": "code",
   "execution_count": 323,
   "metadata": {},
   "outputs": [
    {
     "name": "stdout",
     "output_type": "stream",
     "text": [
      "[7.319602371225332, 7.471271194766701, 6.97308649701471, 10.84278482303101, 17.02447730189181, 6.930143137096687, 6.7605481048877065, 6.362735756986924, 6.362735756986924, 6.4085565979158226]\n",
      "[3.037155100004105, 3.1389504667803148, 2.664842957303909, 14.9822303396374, 12.679411689057515, 2.626452718171134, 2.834752802043298, 10.61178838588729, 10.61178838588729, 10.589285182427885]\n"
     ]
    }
   ],
   "source": [
    "#Actualizar la pertenencia de cada objeto de los grupos\n",
    "#Obtener la distancia Euclideana del centro al objeto\n",
    "distancias1 = []\n",
    "distancias2 = []\n",
    "for element in characteristics:\n",
    "    distancias1.append(distanciaEuclideana(mui1, element))\n",
    "    distancias2.append(distanciaEuclideana(mui2, element))\n",
    "\n",
    "print(distancias1)\n",
    "print(distancias2)"
   ]
  },
  {
   "cell_type": "code",
   "execution_count": 324,
   "metadata": {},
   "outputs": [],
   "source": [
    "#Nuevas pertenencias\n",
    "sumatoria_distancias1 = 0\n",
    "for element in distancias1:\n",
    "    sumatoria_distancias1 += pow((1 / pow(element, 2)), (1/(b-1)))\n",
    "\n",
    "sumatoria_distancias2 = 0\n",
    "for element in distancias2:\n",
    "    sumatoria_distancias2 += pow((1 / pow(element, 2)), (1/(b-1)))\n",
    "\n",
    "for i in np.arange(pertenetial_values1.shape[0]):\n",
    "    pertenetial_values1[i] = pow((1 / pow(distancias1[i], 2)), (1/(b-1))) / sumatoria_distancias1\n",
    "    pertenetial_values2[i] = pow((1 / pow(distancias2[i], 2)), (1/(b-1))) / sumatoria_distancias2"
   ]
  },
  {
   "cell_type": "code",
   "execution_count": 325,
   "metadata": {},
   "outputs": [
    {
     "name": "stdout",
     "output_type": "stream",
     "text": [
      "[[0.08928365]\n",
      " [0.08225151]\n",
      " [0.1083981 ]\n",
      " [0.01854208]\n",
      " [0.00305089]\n",
      " [0.11110998]\n",
      " [0.12268579]\n",
      " [0.15636744]\n",
      " [0.15636744]\n",
      " [0.1519431 ]]\n",
      "[[1.49373160e-01]\n",
      " [1.30918977e-01]\n",
      " [2.52031005e-01]\n",
      " [2.52251974e-04]\n",
      " [4.91749628e-04]\n",
      " [2.67092753e-01]\n",
      " [1.96824737e-01]\n",
      " [1.00227323e-03]\n",
      " [1.00227323e-03]\n",
      " [1.01082011e-03]]\n"
     ]
    }
   ],
   "source": [
    "print(pertenetial_values1)\n",
    "print(pertenetial_values2)"
   ]
  },
  {
   "cell_type": "code",
   "execution_count": null,
   "metadata": {},
   "outputs": [],
   "source": []
  }
 ],
 "metadata": {
  "kernelspec": {
   "display_name": "base",
   "language": "python",
   "name": "python3"
  },
  "language_info": {
   "codemirror_mode": {
    "name": "ipython",
    "version": 3
   },
   "file_extension": ".py",
   "mimetype": "text/x-python",
   "name": "python",
   "nbconvert_exporter": "python",
   "pygments_lexer": "ipython3",
   "version": "3.9.13"
  },
  "orig_nbformat": 4
 },
 "nbformat": 4,
 "nbformat_minor": 2
}
