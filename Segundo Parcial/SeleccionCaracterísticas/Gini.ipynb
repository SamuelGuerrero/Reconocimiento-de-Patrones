{
 "cells": [
  {
   "cell_type": "code",
   "execution_count": 112,
   "metadata": {},
   "outputs": [],
   "source": [
    "import numpy as np"
   ]
  },
  {
   "cell_type": "code",
   "execution_count": 113,
   "metadata": {},
   "outputs": [],
   "source": [
    "datos = np.array([[\"audi\", \"gas\", \"std\", 1],\n",
    "                 [\"audi\", \"gas\", \"std\", 1],\n",
    "                 [\"audi\", \"gas\", \"std\", 0],\n",
    "                 [\"audi\", \"gas\", \"std\", 2],\n",
    "                 [\"mazda\", \"gas\", \"std\", 1],\n",
    "                 [\"mazda\", \"gas\", \"std\", 1],\n",
    "                 [\"mazda\", \"gas\", \"std\", 2],\n",
    "                 [\"peugot\", \"diesel\", \"rwd\", 2],\n",
    "                 [\"peugot\", \"diesel\", \"turbo\", 2],\n",
    "                 [\"volvo\", \"gas\", \"turbo\", 0],\n",
    "                 [\"volvo\", \"gas\", \"std\", 1],\n",
    "                 [\"volvo\", \"gas\", \"turbo\", 0]])"
   ]
  },
  {
   "cell_type": "code",
   "execution_count": 114,
   "metadata": {},
   "outputs": [],
   "source": [
    "def return_unique_characteristics(column: int) -> list:\n",
    "    characteristics = datos[:,column].tolist()\n",
    "    characteristics\n",
    "\n",
    "    unique_characteristics = []\n",
    "\n",
    "    for characteristic in characteristics:\n",
    "        if not(characteristic in unique_characteristics):\n",
    "            unique_characteristics.append(characteristic)\n",
    "    return unique_characteristics\n",
    "\n",
    "def create_dictionary(unique_characteristics: list, total_class: int) -> dict:\n",
    "    dictionary = dict()\n",
    "\n",
    "    for characteristic in unique_characteristics:    \n",
    "        for i in np.arange(total_class):\n",
    "            key = characteristic + str(i)\n",
    "            dictionary.setdefault(key, 0)\n",
    "    return dictionary"
   ]
  },
  {
   "cell_type": "code",
   "execution_count": 117,
   "metadata": {},
   "outputs": [
    {
     "name": "stdout",
     "output_type": "stream",
     "text": [
      "0.0\n",
      "0.0\n",
      "0.0\n",
      "0.0\n",
      "0.0\n"
     ]
    }
   ],
   "source": [
    "total_sum = 0\n",
    "for characteristic in unique_characteristics:\n",
    "    simple_sum = 0\n",
    "    ni = 0\n",
    "    for i in np.arange(total_class):\n",
    "        key = characteristic + str(i)\n",
    "        simple_sum += dictionary[key] / datos.shape[0]\n",
    "        ni += dictionary[key]\n",
    "    print(simple_sum)\n",
    "    simple_sum = 1 - simple_sum\n",
    "    total_sum += (simple_sum * ni) / datos.shape[0] \n",
    "print(total_sum)"
   ]
  },
  {
   "cell_type": "code",
   "execution_count": null,
   "metadata": {},
   "outputs": [],
   "source": []
  }
 ],
 "metadata": {
  "kernelspec": {
   "display_name": "base",
   "language": "python",
   "name": "python3"
  },
  "language_info": {
   "codemirror_mode": {
    "name": "ipython",
    "version": 3
   },
   "file_extension": ".py",
   "mimetype": "text/x-python",
   "name": "python",
   "nbconvert_exporter": "python",
   "pygments_lexer": "ipython3",
   "version": "3.9.13"
  },
  "orig_nbformat": 4
 },
 "nbformat": 4,
 "nbformat_minor": 2
}
