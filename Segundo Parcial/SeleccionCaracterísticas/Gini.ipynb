{
 "cells": [
  {
   "cell_type": "code",
   "execution_count": 6,
   "metadata": {},
   "outputs": [],
   "source": [
    "import numpy as np"
   ]
  },
  {
   "cell_type": "code",
   "execution_count": 7,
   "metadata": {},
   "outputs": [],
   "source": [
    "datos = np.array([[\"audi\", \"gas\", \"std\", 1],\n",
    "                 [\"audi\", \"gas\", \"std\", 1],\n",
    "                 [\"audi\", \"gas\", \"std\", 0],\n",
    "                 [\"audi\", \"gas\", \"std\", 2],\n",
    "                 [\"mazda\", \"gas\", \"std\", 1],\n",
    "                 [\"mazda\", \"gas\", \"std\", 1],\n",
    "                 [\"mazda\", \"gas\", \"std\", 2],\n",
    "                 [\"peugot\", \"diesel\", \"rwd\", 2],\n",
    "                 [\"peugot\", \"diesel\", \"turbo\", 2],\n",
    "                 [\"volvo\", \"gas\", \"turbo\", 0],\n",
    "                 [\"volvo\", \"gas\", \"std\", 1],\n",
    "                 [\"volvo\", \"gas\", \"turbo\", 0]])\n",
    "\n",
    "new_data = np.array([[99.8, 176.6, 66.2, 54.3],\n",
    "                     [99.4, 176.6, 66.4, 54.3],\n",
    "                     [99.8, 177.3, 66.3, 53.1],\n",
    "                     [105.8, 192.7, 71.4, 55.7],\n",
    "                     [95.3, 169, 65.7, 49.6],\n",
    "                     [98.8, 177.8, 66.5, 53.7],\n",
    "                     [98.8, 177.8, 66.5, 55.5],\n",
    "                     [107.9, 186.7, 68.4, 56.7],\n",
    "                     [107.9, 186.7, 68.4, 56.7],\n",
    "                     [104.3, 188.8, 67.2, 57.5],\n",
    "                     [109.1, 188.8, 68.9, 55.5],\n",
    "                     [109.1, 188.8, 68.8, 55.5]])\n",
    "\n",
    "fisher_length = 0.3336\n",
    "fisher_width = 0.2892\n",
    "fisher_height = 0.4047\n",
    "fisher_highway_mpg = 0.1335"
   ]
  },
  {
   "cell_type": "code",
   "execution_count": 18,
   "metadata": {},
   "outputs": [
    {
     "name": "stdout",
     "output_type": "stream",
     "text": [
      "[ 99.8  99.4  99.8 105.8  95.3  98.8  98.8 107.9 107.9 104.3 109.1 109.1]\n"
     ]
    }
   ],
   "source": [
    "#Calcular correlación\n",
    "#Pij = \n",
    "print(new_data[:,0])"
   ]
  },
  {
   "cell_type": "code",
   "execution_count": 8,
   "metadata": {},
   "outputs": [],
   "source": [
    "def return_unique_characteristics(column: int) -> list:\n",
    "    characteristics = datos[:,column].tolist()\n",
    "    characteristics\n",
    "\n",
    "    unique_characteristics = []\n",
    "\n",
    "    for characteristic in characteristics:\n",
    "        if not(characteristic in unique_characteristics):\n",
    "            unique_characteristics.append(characteristic)\n",
    "    return unique_characteristics\n",
    "\n",
    "def create_dictionary(unique_characteristics: list, total_class: int) -> dict:\n",
    "    dictionary = dict()\n",
    "\n",
    "    for characteristic in unique_characteristics:    \n",
    "        for i in np.arange(total_class):\n",
    "            key = characteristic + str(i)\n",
    "            dictionary.setdefault(key, 0)\n",
    "    return dictionary"
   ]
  },
  {
   "cell_type": "code",
   "execution_count": 9,
   "metadata": {},
   "outputs": [
    {
     "name": "stdout",
     "output_type": "stream",
     "text": [
      "0.0\n",
      "0.0\n",
      "0.0\n",
      "0.0\n",
      "0.0\n"
     ]
    }
   ],
   "source": [
    "total_class = 3\n",
    "unique_characteristics = return_unique_characteristics(column=0)\n",
    "dictionary = create_dictionary(unique_characteristics=unique_characteristics, total_class=total_class)\n",
    "total_sum = 0\n",
    "for characteristic in unique_characteristics:\n",
    "    simple_sum = 0\n",
    "    ni = 0\n",
    "    for i in np.arange(total_class):\n",
    "        key = characteristic + str(i)\n",
    "        simple_sum += dictionary[key] / datos.shape[0]\n",
    "        ni += dictionary[key]\n",
    "    print(simple_sum)\n",
    "    simple_sum = 1 - simple_sum\n",
    "    total_sum += (simple_sum * ni) / datos.shape[0] \n",
    "print(total_sum)"
   ]
  },
  {
   "cell_type": "code",
   "execution_count": null,
   "metadata": {},
   "outputs": [],
   "source": []
  }
 ],
 "metadata": {
  "kernelspec": {
   "display_name": "base",
   "language": "python",
   "name": "python3"
  },
  "language_info": {
   "codemirror_mode": {
    "name": "ipython",
    "version": 3
   },
   "file_extension": ".py",
   "mimetype": "text/x-python",
   "name": "python",
   "nbconvert_exporter": "python",
   "pygments_lexer": "ipython3",
   "version": "3.9.13"
  },
  "orig_nbformat": 4
 },
 "nbformat": 4,
 "nbformat_minor": 2
}
