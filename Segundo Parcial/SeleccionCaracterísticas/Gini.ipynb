{
 "cells": [
  {
   "cell_type": "code",
   "execution_count": 7,
   "metadata": {},
   "outputs": [],
   "source": [
    "import numpy as np\n",
    "import math"
   ]
  },
  {
   "cell_type": "code",
   "execution_count": 15,
   "metadata": {},
   "outputs": [],
   "source": [
    "datos = np.array([[\"audi\", \"gas\", \"std\", 1],\n",
    "                 [\"audi\", \"gas\", \"std\", 1],\n",
    "                 [\"audi\", \"gas\", \"std\", 0],\n",
    "                 [\"audi\", \"gas\", \"std\", 2],\n",
    "                 [\"mazda\", \"gas\", \"std\", 1],\n",
    "                 [\"mazda\", \"gas\", \"std\", 1],\n",
    "                 [\"mazda\", \"gas\", \"std\", 2],\n",
    "                 [\"peugot\", \"diesel\", \"rwd\", 2],\n",
    "                 [\"peugot\", \"diesel\", \"turbo\", 2],\n",
    "                 [\"volvo\", \"gas\", \"turbo\", 0],\n",
    "                 [\"volvo\", \"gas\", \"std\", 1],\n",
    "                 [\"volvo\", \"gas\", \"turbo\", 0]])\n",
    "\n",
    "new_data = np.array([\n",
    "    [\"1\", \"F\", 1],\n",
    "    [\"2\", \"M\", 1],\n",
    "    [\"3\", \"F\", 0],\n",
    "    [\"3\", \"M\", 0],\n",
    "    [\"3\", \"F\", 0],\n",
    "    [\"3\", \"F\", 1],\n",
    "    [\"2\", \"F\", 0],\n",
    "    [\"1\", \"F\", 1],\n",
    "    [\"2\", \"M\", 1],\n",
    "    [\"3\", \"F\", 1]\n",
    "])\n",
    "                     \n",
    "                     \n",
    "                     \n",
    "                     \n",
    "                     \n",
    "                     \n",
    "                     \n",
    "                     \n",
    "                     \n",
    "                     \n",
    "                     \n",
    "\n",
    "fisher_length = 0.3336\n",
    "fisher_width = 0.2892\n",
    "fisher_height = 0.4047\n",
    "fisher_highway_mpg = 0.1335"
   ]
  },
  {
   "cell_type": "code",
   "execution_count": 16,
   "metadata": {},
   "outputs": [
    {
     "name": "stdout",
     "output_type": "stream",
     "text": [
      "['1' '2' '3' '3' '3' '3' '2' '1' '2' '3']\n"
     ]
    }
   ],
   "source": [
    "#Calcular correlación\n",
    "#Pij = \n",
    "print(new_data[:,0])"
   ]
  },
  {
   "cell_type": "code",
   "execution_count": 25,
   "metadata": {},
   "outputs": [],
   "source": [
    "def return_unique_characteristics(column: int, datos: list) -> list:\n",
    "    characteristics = datos[:,column].tolist()\n",
    "    characteristics\n",
    "\n",
    "    unique_characteristics = []\n",
    "\n",
    "    for characteristic in characteristics:\n",
    "        if not(characteristic in unique_characteristics):\n",
    "            unique_characteristics.append(characteristic)\n",
    "    return unique_characteristics\n",
    "\n",
    "def create_dictionary(unique_characteristics: list, total_class: int) -> dict:\n",
    "    dictionary = dict()\n",
    "\n",
    "    for characteristic in unique_characteristics:    \n",
    "        for i in np.arange(total_class):\n",
    "            key = characteristic + str(i)\n",
    "            dictionary.setdefault(key, 0)\n",
    "    return dictionary\n",
    "\n",
    "def gini(total_class: int, column: int, column_class: int, datos: list):\n",
    "    unique_characteristics = return_unique_characteristics(column=column)\n",
    "    dictionary = create_dictionary(unique_characteristics=unique_characteristics, total_class=total_class)\n",
    "\n",
    "    for i in np.arange(datos.shape[0]):\n",
    "        key = datos[i,column] + datos[i, column_class]\n",
    "        dictionary[key] = dictionary[key] + 1\n",
    "\n",
    "\n",
    "    total_sum = 0\n",
    "    for characteristic in unique_characteristics:\n",
    "        simple_sum = 0\n",
    "        ni = 0\n",
    "        for i in np.arange(total_class):\n",
    "            key = characteristic + str(i)\n",
    "            simple_sum += dictionary[key] / datos.shape[0]\n",
    "            ni += dictionary[key]\n",
    "        simple_sum = 1 - simple_sum\n",
    "        total_sum += (simple_sum * ni) / datos.shape[0] \n",
    "    print(total_sum)\n",
    "\n",
    "def entropia(total_class: int, column: int, column_class: int, datos: list):\n",
    "    unique_characteristics = return_unique_characteristics(column=column, datos=datos)\n",
    "    dictionary = create_dictionary(unique_characteristics=unique_characteristics, total_class=total_class)\n",
    "\n",
    "    for i in np.arange(datos.shape[0]):\n",
    "        key = datos[i,column] + datos[i, column_class]\n",
    "        dictionary[key] = dictionary[key] + 1\n",
    "\n",
    "\n",
    "    total_sum = 0\n",
    "    for characteristic in unique_characteristics:\n",
    "        simple_sum = 0\n",
    "        ni = 0\n",
    "        for i in np.arange(total_class):\n",
    "            key = characteristic + str(i)\n",
    "            res = (dictionary[key] / datos.shape[0])\n",
    "            if(res):\n",
    "                res = res * math.log2(dictionary[key] / datos.shape[0])\n",
    "            simple_sum += res\n",
    "            ni += dictionary[key]\n",
    "        simple_sum = - simple_sum\n",
    "        total_sum += (simple_sum * ni) / datos.shape[0] \n",
    "    print(total_sum)"
   ]
  },
  {
   "cell_type": "code",
   "execution_count": 26,
   "metadata": {},
   "outputs": [
    {
     "name": "stdout",
     "output_type": "stream",
     "text": [
      "0.8245883009490242\n",
      "0.9738761698832273\n"
     ]
    }
   ],
   "source": [
    "total_class = 2\n",
    "column_class = 2\n",
    "entropia(total_class=total_class, column=0, column_class=column_class, datos=new_data)\n",
    "entropia(total_class=total_class, column=1, column_class=column_class, datos=new_data)\n"
   ]
  },
  {
   "cell_type": "code",
   "execution_count": null,
   "metadata": {},
   "outputs": [],
   "source": []
  }
 ],
 "metadata": {
  "kernelspec": {
   "display_name": "base",
   "language": "python",
   "name": "python3"
  },
  "language_info": {
   "codemirror_mode": {
    "name": "ipython",
    "version": 3
   },
   "file_extension": ".py",
   "mimetype": "text/x-python",
   "name": "python",
   "nbconvert_exporter": "python",
   "pygments_lexer": "ipython3",
   "version": "3.9.13"
  },
  "orig_nbformat": 4
 },
 "nbformat": 4,
 "nbformat_minor": 2
}
