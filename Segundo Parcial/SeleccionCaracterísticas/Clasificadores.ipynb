{
  "cells": [
    {
      "cell_type": "code",
      "execution_count": 181,
      "metadata": {
        "id": "6q6LPkjWF8Yh"
      },
      "outputs": [],
      "source": [
        "import pandas as pd\n",
        "from sklearn.neighbors import KNeighborsClassifier\n",
        "from sklearn.model_selection import train_test_split\n",
        "from sklearn.metrics import accuracy_score\n",
        "import numpy as np\n",
        "from sklearn.preprocessing import OneHotEncoder\n",
        "\n",
        "from sklearn.naive_bayes import CategoricalNB\n",
        "from sklearn.model_selection import train_test_split\n",
        "from sklearn.metrics import accuracy_score\n",
        "\n",
        "from sklearn.metrics import confusion_matrix\n",
        "from sklearn.metrics import classification_report\n",
        "from sklearn.model_selection import KFold\n",
        "\n",
        "import seaborn as sns\n",
        "import warnings"
      ]
    },
    {
      "attachments": {},
      "cell_type": "markdown",
      "metadata": {
        "id": "mFHRSgMbIvGv"
      },
      "source": [
        "# **Twitter**"
      ]
    },
    {
      "attachments": {},
      "cell_type": "markdown",
      "metadata": {},
      "source": [
        "# *KNN Vecinos*"
      ]
    },
    {
      "cell_type": "code",
      "execution_count": 182,
      "metadata": {
        "id": "gG_YJe-EH_E5"
      },
      "outputs": [],
      "source": [
        "df = pd.read_csv(\"Twitter.csv\")"
      ]
    },
    {
      "cell_type": "code",
      "execution_count": 183,
      "metadata": {
        "id": "ch4rjwJ4HZsW"
      },
      "outputs": [],
      "source": [
        "characteristics = ['dia_mas_publica', 'perfil_privado', 'cantidad_seguidores']\n",
        "X = df.filter(items=characteristics).copy()"
      ]
    },
    {
      "cell_type": "code",
      "execution_count": 184,
      "metadata": {
        "colab": {
          "base_uri": "https://localhost:8080/"
        },
        "id": "i7p0Jx3PHtDi",
        "outputId": "5bc7934f-df28-441f-9442-80d6493fddda"
      },
      "outputs": [
        {
          "name": "stdout",
          "output_type": "stream",
          "text": [
            "Precisión del clasificador KNN: 0.6966292134831461\n"
          ]
        }
      ],
      "source": [
        "classColumn = ['clase']\n",
        "y = df.filter(items=classColumn).copy()\n",
        "\n",
        "encoder = OneHotEncoder(sparse=False)\n",
        "X_encoded = encoder.fit_transform(X)\n",
        "\n",
        "X_train, X_test, y_train, y_test = train_test_split(X_encoded, y, test_size=0.3, random_state=42)\n",
        "\n",
        "knn = KNeighborsClassifier(n_neighbors=3)\n",
        "\n",
        "knn.fit(X_train, y_train)\n",
        "\n",
        "y_pred = knn.predict(X_test)\n",
        "\n",
        "accuracy = accuracy_score(y_test, y_pred)\n",
        "print(\"Precisión del clasificador KNN:\", accuracy)"
      ]
    },
    {
      "cell_type": "code",
      "execution_count": 185,
      "metadata": {
        "colab": {
          "base_uri": "https://localhost:8080/",
          "height": 447
        },
        "id": "qeVIsWYgKIIs",
        "outputId": "7a6e9482-9181-45a4-ab9d-441d33a759a1"
      },
      "outputs": [
        {
          "data": {
            "text/plain": [
              "<Axes: >"
            ]
          },
          "execution_count": 185,
          "metadata": {},
          "output_type": "execute_result"
        },
        {
          "data": {
            "image/png": "[encoded data removed]",
            "text/plain": [
              "<Figure size 640x480 with 2 Axes>"
            ]
          },
          "metadata": {},
          "output_type": "display_data"
        }
      ],
      "source": [
        "cm = confusion_matrix(y_test, y_pred)\n",
        "sns.heatmap(cm, annot=True)"
      ]
    },
    {
      "cell_type": "code",
      "execution_count": 186,
      "metadata": {
        "colab": {
          "base_uri": "https://localhost:8080/"
        },
        "id": "bIEm-emtMtfr",
        "outputId": "cc2eb3d3-eea0-40c8-a2a0-9526743c9163"
      },
      "outputs": [
        {
          "name": "stdout",
          "output_type": "stream",
          "text": [
            "              precision    recall  f1-score   support\n",
            "\n",
            "        Fake       0.52      0.50      0.51        28\n",
            "        Real       0.77      0.79      0.78        61\n",
            "\n",
            "    accuracy                           0.70        89\n",
            "   macro avg       0.65      0.64      0.64        89\n",
            "weighted avg       0.69      0.70      0.70        89\n",
            "\n"
          ]
        }
      ],
      "source": [
        "print(classification_report(y_test, y_pred))"
      ]
    },
    {
      "attachments": {},
      "cell_type": "markdown",
      "metadata": {},
      "source": [
        "# *Bayes Ingenuo*"
      ]
    },
    {
      "cell_type": "code",
      "execution_count": 190,
      "metadata": {
        "colab": {
          "base_uri": "https://localhost:8080/"
        },
        "id": "ZurB2J7vIQKy",
        "outputId": "870f1560-6af0-4351-f6a3-a5d67853dff5"
      },
      "outputs": [
        {
          "name": "stdout",
          "output_type": "stream",
          "text": [
            "Precisión del clasificador Bayes Ingenuo: 0.7191011235955056\n"
          ]
        }
      ],
      "source": [
        "X_train2, X_test2, y_train2, y_test2 = train_test_split(X_encoded, y, test_size=0.3, random_state=42)\n",
        "\n",
        "nb = CategoricalNB()\n",
        "\n",
        "nb.fit(X_train2, y_train2)\n",
        "\n",
        "y_pred2 = nb.predict(X_test2)\n",
        "\n",
        "accuracy = accuracy_score(y_test2, y_pred2)\n",
        "print(\"Precisión del clasificador Bayes Ingenuo:\", accuracy)"
      ]
    },
    {
      "cell_type": "code",
      "execution_count": 191,
      "metadata": {},
      "outputs": [
        {
          "name": "stdout",
          "output_type": "stream",
          "text": [
            "      dia_mas_publica perfil_privado cantidad_seguidores\n",
            "0       Fin de semana             No                bajo\n",
            "1    Inicio de semana             No                bajo\n",
            "2    Inicio de semana             No                bajo\n",
            "3    Inicio de semana             No                bajo\n",
            "4    Inicio de semana             No                bajo\n",
            "..                ...            ...                 ...\n",
            "289     Fin de semana             No                bajo\n",
            "290     Fin de semana             No                bajo\n",
            "291      Media semana             No                bajo\n",
            "292     Fin de semana             No               medio\n",
            "293      Media semana             No               medio\n",
            "\n",
            "[294 rows x 3 columns]\n"
          ]
        }
      ],
      "source": [
        "print(df.filter(items=['dia_mas_publica', 'perfil_privado', 'cantidad_seguidores']))"
      ]
    },
    {
      "cell_type": "code",
      "execution_count": 193,
      "metadata": {},
      "outputs": [
        {
          "name": "stdout",
          "output_type": "stream",
          "text": [
            "[[1. 0. 0. 0. 1. 0. 0. 1. 0. 0.]]\n",
            "[[1. 0. 0. 0. 1. 0. 0. 1. 0. 0.]]\n",
            "['Fake']\n"
          ]
        }
      ],
      "source": [
        "import pickle\n",
        "\n",
        "df = pd.read_csv(\"Twitter.csv\")\n",
        "\n",
        "df = df.drop(columns=['Unnamed: 0'])\n",
        "\n",
        "encoder = OneHotEncoder(sparse=False)\n",
        "encoder.fit_transform(df.filter(items=['dia_mas_publica', 'perfil_privado', 'cantidad_seguidores']))\n",
        "\n",
        "dato_prueba = np.array(['Fin de semana', 'No', 'bajo'])  # Dato categórico a codificar\n",
        "\n",
        "# Reshape del dato de prueba\n",
        "dato_prueba_reshape = dato_prueba.reshape(1, -1)\n",
        "\n",
        "# Transformar el dato de prueba\n",
        "dato_prueba_encoded = encoder.transform(dato_prueba_reshape)\n",
        "\n",
        "# Imprimir el dato codificado\n",
        "print(dato_prueba_encoded)\n",
        "\n",
        "\n",
        "# Its important to use binary mode \n",
        "knnPickle = open('TwitterFinal', 'wb')\n",
        "\n",
        "# source, destination \n",
        "pickle.dump(nb, knnPickle)  \n",
        "\n",
        "# close the file\n",
        "knnPickle.close()\n",
        "\n",
        "loaded_model = pickle.load(open('TwitterFinal', 'rb'))\n",
        "print(dato_prueba_encoded)\n",
        "result = loaded_model.predict(np.array(dato_prueba_encoded).reshape(1, -1)) \n",
        "print(result)"
      ]
    },
    {
      "cell_type": "code",
      "execution_count": 194,
      "metadata": {
        "colab": {
          "base_uri": "https://localhost:8080/",
          "height": 447
        },
        "id": "OjhcL9scKfzV",
        "outputId": "9c9d6d59-9bab-495f-b2b9-0a97be7df638"
      },
      "outputs": [
        {
          "data": {
            "text/plain": [
              "<Axes: >"
            ]
          },
          "execution_count": 194,
          "metadata": {},
          "output_type": "execute_result"
        },
        {
          "data": {
            "image/png": "[encoded data removed]",
            "text/plain": [
              "<Figure size 640x480 with 2 Axes>"
            ]
          },
          "metadata": {},
          "output_type": "display_data"
        }
      ],
      "source": [
        "import seaborn as sns\n",
        "\n",
        "cm = confusion_matrix(y_test2, y_pred2)\n",
        "sns.heatmap(cm, annot=True)"
      ]
    },
    {
      "cell_type": "code",
      "execution_count": 195,
      "metadata": {
        "colab": {
          "base_uri": "https://localhost:8080/"
        },
        "id": "hJBXYjDmMyfP",
        "outputId": "d8d2e238-1d83-418e-e64d-d0a7047e7cbd"
      },
      "outputs": [
        {
          "name": "stdout",
          "output_type": "stream",
          "text": [
            "              precision    recall  f1-score   support\n",
            "\n",
            "        Fake       0.57      0.46      0.51        28\n",
            "        Real       0.77      0.84      0.80        61\n",
            "\n",
            "    accuracy                           0.72        89\n",
            "   macro avg       0.67      0.65      0.66        89\n",
            "weighted avg       0.71      0.72      0.71        89\n",
            "\n"
          ]
        }
      ],
      "source": [
        "print(classification_report(y_test2, y_pred2))"
      ]
    },
    {
      "attachments": {},
      "cell_type": "markdown",
      "metadata": {
        "id": "Amwlh7VLOELO"
      },
      "source": [
        "# *K-fold*"
      ]
    },
    {
      "cell_type": "code",
      "execution_count": 196,
      "metadata": {},
      "outputs": [
        {
          "name": "stdout",
          "output_type": "stream",
          "text": [
            "              precision    recall  f1-score   support\n",
            "\n",
            "        Fake       0.37      0.58      0.45        12\n",
            "        Real       0.88      0.74      0.80        47\n",
            "\n",
            "    accuracy                           0.71        59\n",
            "   macro avg       0.62      0.66      0.63        59\n",
            "weighted avg       0.77      0.71      0.73        59\n",
            "\n",
            "Precisión del clasificador KNN: 0.711864406779661\n",
            "              precision    recall  f1-score   support\n",
            "\n",
            "        Fake       0.52      0.68      0.59        22\n",
            "        Real       0.77      0.62      0.69        37\n",
            "\n",
            "    accuracy                           0.64        59\n",
            "   macro avg       0.64      0.65      0.64        59\n",
            "weighted avg       0.67      0.64      0.65        59\n",
            "\n",
            "Precisión del clasificador KNN: 0.6440677966101694\n",
            "              precision    recall  f1-score   support\n",
            "\n",
            "        Fake       0.39      0.56      0.46        16\n",
            "        Real       0.81      0.67      0.73        43\n",
            "\n",
            "    accuracy                           0.64        59\n",
            "   macro avg       0.60      0.62      0.60        59\n",
            "weighted avg       0.69      0.64      0.66        59\n",
            "\n",
            "Precisión del clasificador KNN: 0.6440677966101694\n",
            "              precision    recall  f1-score   support\n",
            "\n",
            "        Fake       0.47      0.81      0.60        21\n",
            "        Real       0.83      0.50      0.62        38\n",
            "\n",
            "    accuracy                           0.61        59\n",
            "   macro avg       0.65      0.65      0.61        59\n",
            "weighted avg       0.70      0.61      0.61        59\n",
            "\n",
            "Precisión del clasificador KNN: 0.6101694915254238\n",
            "              precision    recall  f1-score   support\n",
            "\n",
            "        Fake       0.52      0.65      0.58        17\n",
            "        Real       0.84      0.76      0.79        41\n",
            "\n",
            "    accuracy                           0.72        58\n",
            "   macro avg       0.68      0.70      0.69        58\n",
            "weighted avg       0.75      0.72      0.73        58\n",
            "\n",
            "Precisión del clasificador KNN: 0.7241379310344828\n"
          ]
        }
      ],
      "source": [
        "warnings.filterwarnings('ignore')\n",
        "\n",
        "kf = KFold(n_splits=5, shuffle=True, random_state=2)\n",
        "y1 = y.values\n",
        "\n",
        "X_encoded = encoder.fit_transform(X)\n",
        "for i , (train_index, test_index) in enumerate(kf.split(X_encoded,y1)):\n",
        "    X_train, X_test = X_encoded[train_index], X_encoded[test_index]\n",
        "    y_train, y_test = y1[train_index], y1[test_index]\n",
        "\n",
        "    knn = KNeighborsClassifier(n_neighbors=3)\n",
        "    knn.fit(X_train, y_train)\n",
        "\n",
        "    y_pred = knn.predict(X_test)\n",
        "    accuracy = accuracy_score(y_test, y_pred)\n",
        "    print(classification_report(y_test, y_pred))\n",
        "    print(\"Precisión del clasificador KNN:\", accuracy)"
      ]
    },
    {
      "cell_type": "code",
      "execution_count": 197,
      "metadata": {
        "colab": {
          "base_uri": "https://localhost:8080/"
        },
        "id": "Ofmuh0cBOGjz",
        "outputId": "76a3d516-1f89-4cb7-d6d6-dec33d314ce8"
      },
      "outputs": [
        {
          "name": "stdout",
          "output_type": "stream",
          "text": [
            "235 59\n",
            "              precision    recall  f1-score   support\n",
            "\n",
            "        Fake       0.40      0.33      0.36        12\n",
            "        Real       0.84      0.87      0.85        47\n",
            "\n",
            "    accuracy                           0.76        59\n",
            "   macro avg       0.62      0.60      0.61        59\n",
            "weighted avg       0.75      0.76      0.75        59\n",
            "\n",
            "Precisión del clasificador Bayes Ingenuo: 0.7627118644067796\n",
            "235 59\n",
            "              precision    recall  f1-score   support\n",
            "\n",
            "        Fake       0.50      0.64      0.56        22\n",
            "        Real       0.74      0.62      0.68        37\n",
            "\n",
            "    accuracy                           0.63        59\n",
            "   macro avg       0.62      0.63      0.62        59\n",
            "weighted avg       0.65      0.63      0.63        59\n",
            "\n",
            "Precisión del clasificador Bayes Ingenuo: 0.6271186440677966\n",
            "235 59\n",
            "              precision    recall  f1-score   support\n",
            "\n",
            "        Fake       0.60      0.38      0.46        16\n",
            "        Real       0.80      0.91      0.85        43\n",
            "\n",
            "    accuracy                           0.76        59\n",
            "   macro avg       0.70      0.64      0.65        59\n",
            "weighted avg       0.74      0.76      0.74        59\n",
            "\n",
            "Precisión del clasificador Bayes Ingenuo: 0.7627118644067796\n",
            "235 59\n",
            "              precision    recall  f1-score   support\n",
            "\n",
            "        Fake       0.76      0.62      0.68        21\n",
            "        Real       0.81      0.89      0.85        38\n",
            "\n",
            "    accuracy                           0.80        59\n",
            "   macro avg       0.79      0.76      0.77        59\n",
            "weighted avg       0.79      0.80      0.79        59\n",
            "\n",
            "Precisión del clasificador Bayes Ingenuo: 0.7966101694915254\n",
            "236 58\n",
            "              precision    recall  f1-score   support\n",
            "\n",
            "        Fake       0.60      0.71      0.65        17\n",
            "        Real       0.87      0.80      0.84        41\n",
            "\n",
            "    accuracy                           0.78        58\n",
            "   macro avg       0.73      0.76      0.74        58\n",
            "weighted avg       0.79      0.78      0.78        58\n",
            "\n",
            "Precisión del clasificador Bayes Ingenuo: 0.7758620689655172\n"
          ]
        }
      ],
      "source": [
        "warnings.filterwarnings('ignore')\n",
        "\n",
        "kf = KFold(n_splits=5, shuffle=True, random_state=2)\n",
        "y1 = y.values\n",
        "\n",
        "X_encoded = encoder.fit_transform(X)\n",
        "for i , (train_index, test_index) in enumerate(kf.split(X_encoded,y1)):\n",
        "    X_train, X_test = X_encoded[train_index], X_encoded[test_index]\n",
        "    y_train, y_test = y1[train_index], y1[test_index]\n",
        "    print(X_train.shape[0], X_test.shape[0])\n",
        "\n",
        "    nb = CategoricalNB()\n",
        "    nb.fit(X_train, y_train)\n",
        "\n",
        "    y_pred = nb.predict(X_test)\n",
        "    accuracy = accuracy_score(y_test, y_pred)\n",
        "    print(classification_report(y_test, y_pred))\n",
        "    print(\"Precisión del clasificador Bayes Ingenuo:\", accuracy)"
      ]
    },
    {
      "attachments": {},
      "cell_type": "markdown",
      "metadata": {
        "id": "zSlJ15onIqbf"
      },
      "source": [
        "# **Facebook**"
      ]
    },
    {
      "attachments": {},
      "cell_type": "markdown",
      "metadata": {},
      "source": [
        "# *KNN Vecinos*"
      ]
    },
    {
      "cell_type": "code",
      "execution_count": 198,
      "metadata": {
        "colab": {
          "base_uri": "https://localhost:8080/",
          "height": 206
        },
        "id": "u9b0eaZXItqq",
        "outputId": "9425f288-4122-4f60-e0e8-421d7dd8d4e0"
      },
      "outputs": [
        {
          "data": {
            "text/html": [
              "<div>\n",
              "<style scoped>\n",
              "    .dataframe tbody tr th:only-of-type {\n",
              "        vertical-align: middle;\n",
              "    }\n",
              "\n",
              "    .dataframe tbody tr th {\n",
              "        vertical-align: top;\n",
              "    }\n",
              "\n",
              "    .dataframe thead th {\n",
              "        text-align: right;\n",
              "    }\n",
              "</style>\n",
              "<table border=\"1\" class=\"dataframe\">\n",
              "  <thead>\n",
              "    <tr style=\"text-align: right;\">\n",
              "      <th></th>\n",
              "      <th>Unnamed: 0</th>\n",
              "      <th>caracteres_nombre</th>\n",
              "      <th>foto_perfil</th>\n",
              "      <th>num_amigos</th>\n",
              "      <th>dias_mas_Publicaciones</th>\n",
              "      <th>paginas_que_sigue</th>\n",
              "      <th>Clase</th>\n",
              "    </tr>\n",
              "  </thead>\n",
              "  <tbody>\n",
              "    <tr>\n",
              "      <th>0</th>\n",
              "      <td>0</td>\n",
              "      <td>corto</td>\n",
              "      <td>Sí</td>\n",
              "      <td>medio</td>\n",
              "      <td>fin de semana</td>\n",
              "      <td>pocas</td>\n",
              "      <td>T</td>\n",
              "    </tr>\n",
              "    <tr>\n",
              "      <th>1</th>\n",
              "      <td>1</td>\n",
              "      <td>medio</td>\n",
              "      <td>Sí</td>\n",
              "      <td>medio</td>\n",
              "      <td>fin de semana</td>\n",
              "      <td>pocas</td>\n",
              "      <td>T</td>\n",
              "    </tr>\n",
              "    <tr>\n",
              "      <th>2</th>\n",
              "      <td>2</td>\n",
              "      <td>medio</td>\n",
              "      <td>Sí</td>\n",
              "      <td>medio</td>\n",
              "      <td>fin de semana</td>\n",
              "      <td>pocas</td>\n",
              "      <td>T</td>\n",
              "    </tr>\n",
              "    <tr>\n",
              "      <th>3</th>\n",
              "      <td>3</td>\n",
              "      <td>corto</td>\n",
              "      <td>Sí</td>\n",
              "      <td>medio</td>\n",
              "      <td>fin de semana</td>\n",
              "      <td>pocas</td>\n",
              "      <td>T</td>\n",
              "    </tr>\n",
              "    <tr>\n",
              "      <th>4</th>\n",
              "      <td>4</td>\n",
              "      <td>corto</td>\n",
              "      <td>Sí</td>\n",
              "      <td>medio</td>\n",
              "      <td>media semana</td>\n",
              "      <td>pocas</td>\n",
              "      <td>T</td>\n",
              "    </tr>\n",
              "  </tbody>\n",
              "</table>\n",
              "</div>"
            ],
            "text/plain": [
              "   Unnamed: 0 caracteres_nombre foto_perfil num_amigos dias_mas_Publicaciones  \\\n",
              "0           0             corto          Sí      medio          fin de semana   \n",
              "1           1             medio          Sí      medio          fin de semana   \n",
              "2           2             medio          Sí      medio          fin de semana   \n",
              "3           3             corto          Sí      medio          fin de semana   \n",
              "4           4             corto          Sí      medio           media semana   \n",
              "\n",
              "  paginas_que_sigue Clase  \n",
              "0             pocas     T  \n",
              "1             pocas     T  \n",
              "2             pocas     T  \n",
              "3             pocas     T  \n",
              "4             pocas     T  "
            ]
          },
          "execution_count": 198,
          "metadata": {},
          "output_type": "execute_result"
        }
      ],
      "source": [
        "df = pd.read_csv(\"Facebook.csv\")\n",
        "df.head()"
      ]
    },
    {
      "cell_type": "code",
      "execution_count": 199,
      "metadata": {},
      "outputs": [
        {
          "name": "stdout",
          "output_type": "stream",
          "text": [
            "Index(['caracteres_nombre', 'foto_perfil', 'num_amigos',\n",
            "       'dias_mas_Publicaciones', 'paginas_que_sigue', 'Clase'],\n",
            "      dtype='object')\n",
            "0.7247706422018348 ['caracteres_nombre', 'foto_perfil', 'num_amigos']\n",
            "[[16 17]\n",
            " [13 63]]\n",
            "0.8256880733944955 ['caracteres_nombre', 'num_amigos', 'dias_mas_Publicaciones']\n",
            "[[17 16]\n",
            " [ 3 73]]\n",
            "0.8440366972477065 ['num_amigos', 'caracteres_nombre', 'dias_mas_Publicaciones']\n",
            "[[17 16]\n",
            " [ 1 75]]\n",
            "0.8532110091743119 ['dias_mas_Publicaciones', 'num_amigos', 'paginas_que_sigue']\n",
            "[[21 12]\n",
            " [ 4 72]]\n"
          ]
        }
      ],
      "source": [
        "#Dropear Carrera\n",
        "\n",
        "df = pd.read_csv(\"Facebook.csv\")\n",
        "\n",
        "df = df.drop(columns=['Unnamed: 0'])\n",
        "df.tail()\n",
        "\n",
        "\n",
        "headers = df.columns\n",
        "print(headers)\n",
        "\n",
        "import warnings\n",
        "warnings.filterwarnings('ignore')\n",
        "\n",
        "\n",
        "best_accuracy = 0\n",
        "best_characteristics = []\n",
        "best_model = []\n",
        "best_cm = []\n",
        "\n",
        "for header1 in headers:\n",
        "    for header2 in headers:\n",
        "        for header3 in headers:\n",
        "            if((header1 != header2) and (header1 != header3) and (header2 != header3) and (header1 != 'Clase') and (header2 != 'Clase') and (header3 != 'Clase')):\n",
        "                characteristics = [header1, header2, header3]\n",
        "                \n",
        "                X = df.filter(items=characteristics).copy()\n",
        "                classColumn = ['Clase']\n",
        "                y = df.filter(items=classColumn).copy()\n",
        "\n",
        "                encoder = OneHotEncoder(sparse=False)\n",
        "                X_encoded = encoder.fit_transform(X)\n",
        "\n",
        "                X_train, X_test, y_train, y_test = train_test_split(X_encoded, y, test_size=0.3, random_state=42)\n",
        "\n",
        "                knn = KNeighborsClassifier(n_neighbors=3)\n",
        "\n",
        "                knn.fit(X_train, y_train)\n",
        "                #nb = CategoricalNB()\n",
        "                #nb.fit(X_train, y_train)\n",
        "\n",
        "                y_pred = knn.predict(X_test)\n",
        "\n",
        "\n",
        "                accuracy = accuracy_score(y_test, y_pred)\n",
        "                if(accuracy > best_accuracy):\n",
        "                    best_accuracy = accuracy\n",
        "                    best_characteristics = characteristics\n",
        "                    best_model = nb\n",
        "                    best_encoder = encoder\n",
        "                    best_X = X\n",
        "                    print(best_accuracy, best_characteristics)\n",
        "\n",
        "                    cm = confusion_matrix(y_test, y_pred)\n",
        "                    best_cm = cm\n",
        "                    print(cm)\n",
        "                    \n",
        "\n",
        "                #print(\"Precisión del clasificador KNN:\", accuracy)"
      ]
    },
    {
      "cell_type": "code",
      "execution_count": 200,
      "metadata": {},
      "outputs": [
        {
          "name": "stdout",
          "output_type": "stream",
          "text": [
            "    dias_mas_Publicaciones num_amigos paginas_que_sigue\n",
            "0            fin de semana      medio             pocas\n",
            "1            fin de semana      medio             pocas\n",
            "2            fin de semana      medio             pocas\n",
            "3            fin de semana      medio             pocas\n",
            "4             media semana      medio             pocas\n",
            "..                     ...        ...               ...\n",
            "356          fin de semana      medio           algunas\n",
            "357                ninguno       bajo             pocas\n",
            "358                ninguno       bajo             pocas\n",
            "359                ninguno       alto             pocas\n",
            "360                ninguno      medio             pocas\n",
            "\n",
            "[361 rows x 3 columns]\n"
          ]
        }
      ],
      "source": [
        "print(df.filter(items=best_characteristics).copy())"
      ]
    },
    {
      "cell_type": "code",
      "execution_count": 201,
      "metadata": {},
      "outputs": [
        {
          "name": "stdout",
          "output_type": "stream",
          "text": [
            "[[1. 0. 0. 0. 0. 0. 0. 1. 0. 0. 0. 0. 1. 0.]]\n",
            "[[1. 0. 0. 0. 0. 0. 0. 1. 0. 0. 0. 0. 1. 0.]]\n"
          ]
        },
        {
          "ename": "ValueError",
          "evalue": "X has 14 features, but CategoricalNB is expecting 10 features as input.",
          "output_type": "error",
          "traceback": [
            "\u001b[0;31m---------------------------------------------------------------------------\u001b[0m",
            "\u001b[0;31mValueError\u001b[0m                                Traceback (most recent call last)",
            "\u001b[1;32m/Users/samuelguerrero/GitHub/1002-A/Reconocimiento-de-Patrones/Segundo Parcial/SeleccionCaracterísticas/Clasificadores.ipynb Cell 23\u001b[0m in \u001b[0;36m<cell line: 33>\u001b[0;34m()\u001b[0m\n\u001b[1;32m     <a href='vscode-notebook-cell:/Users/samuelguerrero/GitHub/1002-A/Reconocimiento-de-Patrones/Segundo%20Parcial/SeleccionCaracter%C3%ADsticas/Clasificadores.ipynb#Y102sZmlsZQ%3D%3D?line=30'>31</a>\u001b[0m loaded_model \u001b[39m=\u001b[39m pickle\u001b[39m.\u001b[39mload(\u001b[39mopen\u001b[39m(\u001b[39m'\u001b[39m\u001b[39mFacebook85\u001b[39m\u001b[39m'\u001b[39m, \u001b[39m'\u001b[39m\u001b[39mrb\u001b[39m\u001b[39m'\u001b[39m))\n\u001b[1;32m     <a href='vscode-notebook-cell:/Users/samuelguerrero/GitHub/1002-A/Reconocimiento-de-Patrones/Segundo%20Parcial/SeleccionCaracter%C3%ADsticas/Clasificadores.ipynb#Y102sZmlsZQ%3D%3D?line=31'>32</a>\u001b[0m \u001b[39mprint\u001b[39m(dato_prueba_encoded)\n\u001b[0;32m---> <a href='vscode-notebook-cell:/Users/samuelguerrero/GitHub/1002-A/Reconocimiento-de-Patrones/Segundo%20Parcial/SeleccionCaracter%C3%ADsticas/Clasificadores.ipynb#Y102sZmlsZQ%3D%3D?line=32'>33</a>\u001b[0m result \u001b[39m=\u001b[39m loaded_model\u001b[39m.\u001b[39;49mpredict(np\u001b[39m.\u001b[39;49marray(dato_prueba_encoded)\u001b[39m.\u001b[39;49mreshape(\u001b[39m1\u001b[39;49m, \u001b[39m-\u001b[39;49m\u001b[39m1\u001b[39;49m)) \n\u001b[1;32m     <a href='vscode-notebook-cell:/Users/samuelguerrero/GitHub/1002-A/Reconocimiento-de-Patrones/Segundo%20Parcial/SeleccionCaracter%C3%ADsticas/Clasificadores.ipynb#Y102sZmlsZQ%3D%3D?line=33'>34</a>\u001b[0m \u001b[39mprint\u001b[39m(result)\n",
            "File \u001b[0;32m~/anaconda3/lib/python3.9/site-packages/sklearn/naive_bayes.py:80\u001b[0m, in \u001b[0;36m_BaseNB.predict\u001b[0;34m(self, X)\u001b[0m\n\u001b[1;32m     66\u001b[0m \u001b[39m\"\"\"\u001b[39;00m\n\u001b[1;32m     67\u001b[0m \u001b[39mPerform classification on an array of test vectors X.\u001b[39;00m\n\u001b[1;32m     68\u001b[0m \n\u001b[0;32m   (...)\u001b[0m\n\u001b[1;32m     77\u001b[0m \u001b[39m    Predicted target values for X.\u001b[39;00m\n\u001b[1;32m     78\u001b[0m \u001b[39m\"\"\"\u001b[39;00m\n\u001b[1;32m     79\u001b[0m check_is_fitted(\u001b[39mself\u001b[39m)\n\u001b[0;32m---> 80\u001b[0m X \u001b[39m=\u001b[39m \u001b[39mself\u001b[39;49m\u001b[39m.\u001b[39;49m_check_X(X)\n\u001b[1;32m     81\u001b[0m jll \u001b[39m=\u001b[39m \u001b[39mself\u001b[39m\u001b[39m.\u001b[39m_joint_log_likelihood(X)\n\u001b[1;32m     82\u001b[0m \u001b[39mreturn\u001b[39;00m \u001b[39mself\u001b[39m\u001b[39m.\u001b[39mclasses_[np\u001b[39m.\u001b[39margmax(jll, axis\u001b[39m=\u001b[39m\u001b[39m1\u001b[39m)]\n",
            "File \u001b[0;32m~/anaconda3/lib/python3.9/site-packages/sklearn/naive_bayes.py:1341\u001b[0m, in \u001b[0;36mCategoricalNB._check_X\u001b[0;34m(self, X)\u001b[0m\n\u001b[1;32m   1339\u001b[0m \u001b[39mdef\u001b[39;00m \u001b[39m_check_X\u001b[39m(\u001b[39mself\u001b[39m, X):\n\u001b[1;32m   1340\u001b[0m     \u001b[39m\"\"\"Validate X, used only in predict* methods.\"\"\"\u001b[39;00m\n\u001b[0;32m-> 1341\u001b[0m     X \u001b[39m=\u001b[39m \u001b[39mself\u001b[39;49m\u001b[39m.\u001b[39;49m_validate_data(\n\u001b[1;32m   1342\u001b[0m         X, dtype\u001b[39m=\u001b[39;49m\u001b[39m\"\u001b[39;49m\u001b[39mint\u001b[39;49m\u001b[39m\"\u001b[39;49m, accept_sparse\u001b[39m=\u001b[39;49m\u001b[39mFalse\u001b[39;49;00m, force_all_finite\u001b[39m=\u001b[39;49m\u001b[39mTrue\u001b[39;49;00m, reset\u001b[39m=\u001b[39;49m\u001b[39mFalse\u001b[39;49;00m\n\u001b[1;32m   1343\u001b[0m     )\n\u001b[1;32m   1344\u001b[0m     check_non_negative(X, \u001b[39m\"\u001b[39m\u001b[39mCategoricalNB (input X)\u001b[39m\u001b[39m\"\u001b[39m)\n\u001b[1;32m   1345\u001b[0m     \u001b[39mreturn\u001b[39;00m X\n",
            "File \u001b[0;32m~/anaconda3/lib/python3.9/site-packages/sklearn/base.py:600\u001b[0m, in \u001b[0;36mBaseEstimator._validate_data\u001b[0;34m(self, X, y, reset, validate_separately, **check_params)\u001b[0m\n\u001b[1;32m    597\u001b[0m     out \u001b[39m=\u001b[39m X, y\n\u001b[1;32m    599\u001b[0m \u001b[39mif\u001b[39;00m \u001b[39mnot\u001b[39;00m no_val_X \u001b[39mand\u001b[39;00m check_params\u001b[39m.\u001b[39mget(\u001b[39m\"\u001b[39m\u001b[39mensure_2d\u001b[39m\u001b[39m\"\u001b[39m, \u001b[39mTrue\u001b[39;00m):\n\u001b[0;32m--> 600\u001b[0m     \u001b[39mself\u001b[39;49m\u001b[39m.\u001b[39;49m_check_n_features(X, reset\u001b[39m=\u001b[39;49mreset)\n\u001b[1;32m    602\u001b[0m \u001b[39mreturn\u001b[39;00m out\n",
            "File \u001b[0;32m~/anaconda3/lib/python3.9/site-packages/sklearn/base.py:400\u001b[0m, in \u001b[0;36mBaseEstimator._check_n_features\u001b[0;34m(self, X, reset)\u001b[0m\n\u001b[1;32m    397\u001b[0m     \u001b[39mreturn\u001b[39;00m\n\u001b[1;32m    399\u001b[0m \u001b[39mif\u001b[39;00m n_features \u001b[39m!=\u001b[39m \u001b[39mself\u001b[39m\u001b[39m.\u001b[39mn_features_in_:\n\u001b[0;32m--> 400\u001b[0m     \u001b[39mraise\u001b[39;00m \u001b[39mValueError\u001b[39;00m(\n\u001b[1;32m    401\u001b[0m         \u001b[39mf\u001b[39m\u001b[39m\"\u001b[39m\u001b[39mX has \u001b[39m\u001b[39m{\u001b[39;00mn_features\u001b[39m}\u001b[39;00m\u001b[39m features, but \u001b[39m\u001b[39m{\u001b[39;00m\u001b[39mself\u001b[39m\u001b[39m.\u001b[39m\u001b[39m__class__\u001b[39m\u001b[39m.\u001b[39m\u001b[39m__name__\u001b[39m\u001b[39m}\u001b[39;00m\u001b[39m \u001b[39m\u001b[39m\"\u001b[39m\n\u001b[1;32m    402\u001b[0m         \u001b[39mf\u001b[39m\u001b[39m\"\u001b[39m\u001b[39mis expecting \u001b[39m\u001b[39m{\u001b[39;00m\u001b[39mself\u001b[39m\u001b[39m.\u001b[39mn_features_in_\u001b[39m}\u001b[39;00m\u001b[39m features as input.\u001b[39m\u001b[39m\"\u001b[39m\n\u001b[1;32m    403\u001b[0m     )\n",
            "\u001b[0;31mValueError\u001b[0m: X has 14 features, but CategoricalNB is expecting 10 features as input."
          ]
        }
      ],
      "source": [
        "import pickle\n",
        "\n",
        "df = pd.read_csv(\"Facebook.csv\")\n",
        "\n",
        "df = df.drop(columns=['Unnamed: 0'])\n",
        "\n",
        "encoder = OneHotEncoder(sparse=False)\n",
        "encoder.fit_transform(df.filter(items=best_characteristics))\n",
        "\n",
        "dato_prueba = np.array(['fin de semana', 'medio', 'pocas'])  # Dato categórico a codificar\n",
        "\n",
        "# Reshape del dato de prueba\n",
        "dato_prueba_reshape = dato_prueba.reshape(1, -1)\n",
        "\n",
        "# Transformar el dato de prueba\n",
        "dato_prueba_encoded = encoder.transform(dato_prueba_reshape)\n",
        "\n",
        "# Imprimir el dato codificado\n",
        "print(dato_prueba_encoded)\n",
        "\n",
        "\n",
        "# Its important to use binary mode \n",
        "knnPickle = open('Facebook85', 'wb')\n",
        "\n",
        "# source, destination \n",
        "pickle.dump(best_model, knnPickle)  \n",
        "\n",
        "# close the file\n",
        "knnPickle.close()\n",
        "\n",
        "loaded_model = pickle.load(open('Facebook85', 'rb'))\n",
        "print(dato_prueba_encoded)\n",
        "result = loaded_model.predict(np.array(dato_prueba_encoded).reshape(1, -1)) \n",
        "print(result)"
      ]
    },
    {
      "cell_type": "code",
      "execution_count": 202,
      "metadata": {
        "id": "6GnSnO-3Izh2"
      },
      "outputs": [],
      "source": [
        "characteristics = ['num_amigos', 'dias_mas_Publicaciones', 'paginas_que_sigue']\n",
        "X = df.filter(items=characteristics).copy()"
      ]
    },
    {
      "cell_type": "code",
      "execution_count": 203,
      "metadata": {
        "colab": {
          "base_uri": "https://localhost:8080/"
        },
        "id": "6cnvKMaaJhc3",
        "outputId": "434a28db-4721-4f0c-8743-4f57b2cae913"
      },
      "outputs": [
        {
          "name": "stdout",
          "output_type": "stream",
          "text": [
            "252 109\n",
            "Precisión del clasificador KNN: 0.8348623853211009\n"
          ]
        }
      ],
      "source": [
        "classColumn = ['Clase']\n",
        "y = df.filter(items=classColumn).copy()\n",
        "\n",
        "encoder = OneHotEncoder(sparse=False)\n",
        "X_encoded = encoder.fit_transform(X)\n",
        "\n",
        "X_train, X_test, y_train, y_test = train_test_split(X_encoded, y, test_size=0.3, random_state=42)\n",
        "\n",
        "print(X_train.shape[0], X_test.shape[0])\n",
        "\n",
        "knn = KNeighborsClassifier(n_neighbors=3)\n",
        "\n",
        "knn.fit(X_train, y_train)\n",
        "\n",
        "y_pred = knn.predict(X_test)\n",
        "\n",
        "accuracy = accuracy_score(y_test, y_pred)\n",
        "print(\"Precisión del clasificador KNN:\", accuracy)"
      ]
    },
    {
      "cell_type": "code",
      "execution_count": 204,
      "metadata": {
        "colab": {
          "base_uri": "https://localhost:8080/",
          "height": 447
        },
        "id": "vU-WqQSQKj70",
        "outputId": "d7ed3de8-f0b4-4bd3-e112-d75e7c92a3a5"
      },
      "outputs": [
        {
          "data": {
            "text/plain": [
              "<Axes: >"
            ]
          },
          "execution_count": 204,
          "metadata": {},
          "output_type": "execute_result"
        },
        {
          "data": {
            "image/png": "[encoded data removed]",
            "text/plain": [
              "<Figure size 640x480 with 2 Axes>"
            ]
          },
          "metadata": {},
          "output_type": "display_data"
        }
      ],
      "source": [
        "import seaborn as sns\n",
        "\n",
        "cm = confusion_matrix(y_test, y_pred)\n",
        "sns.heatmap(cm, annot=True)"
      ]
    },
    {
      "cell_type": "code",
      "execution_count": 205,
      "metadata": {
        "colab": {
          "base_uri": "https://localhost:8080/"
        },
        "id": "kMYEXFykM06A",
        "outputId": "ebeaec89-93f1-43c2-cf18-4dcb801f4159"
      },
      "outputs": [
        {
          "name": "stdout",
          "output_type": "stream",
          "text": [
            "              precision    recall  f1-score   support\n",
            "\n",
            "           F       0.78      0.64      0.70        33\n",
            "           T       0.85      0.92      0.89        76\n",
            "\n",
            "    accuracy                           0.83       109\n",
            "   macro avg       0.82      0.78      0.79       109\n",
            "weighted avg       0.83      0.83      0.83       109\n",
            "\n"
          ]
        }
      ],
      "source": [
        "print(classification_report(y_test, y_pred))"
      ]
    },
    {
      "attachments": {},
      "cell_type": "markdown",
      "metadata": {},
      "source": [
        "# *Bayes Ingenuo*"
      ]
    },
    {
      "cell_type": "code",
      "execution_count": 206,
      "metadata": {
        "colab": {
          "base_uri": "https://localhost:8080/"
        },
        "id": "jfTld9Z8Jh6p",
        "outputId": "a923bb8a-1667-454b-b76f-6182fb6b9615"
      },
      "outputs": [
        {
          "name": "stdout",
          "output_type": "stream",
          "text": [
            "216 145\n",
            "Precisión del clasificador Bayes Ingenuo: 0.7655172413793103\n"
          ]
        }
      ],
      "source": [
        "X_train2, X_test2, y_train2, y_test2 = train_test_split(X_encoded, y, test_size=0.4, random_state=42)\n",
        "\n",
        "print(X_train2.shape[0], X_test2.shape[0])\n",
        "\n",
        "nb = CategoricalNB()\n",
        "\n",
        "nb.fit(X_train2, y_train2)\n",
        "\n",
        "y_pred2 = nb.predict(X_test2)\n",
        "\n",
        "accuracy = accuracy_score(y_test2, y_pred2)\n",
        "print(\"Precisión del clasificador Bayes Ingenuo:\", accuracy)"
      ]
    },
    {
      "cell_type": "code",
      "execution_count": 207,
      "metadata": {},
      "outputs": [
        {
          "name": "stdout",
          "output_type": "stream",
          "text": [
            "    num_amigos dias_mas_Publicaciones paginas_que_sigue\n",
            "0        medio          fin de semana             pocas\n",
            "1        medio          fin de semana             pocas\n",
            "2        medio          fin de semana             pocas\n",
            "3        medio          fin de semana             pocas\n",
            "4        medio           media semana             pocas\n",
            "..         ...                    ...               ...\n",
            "356      medio          fin de semana           algunas\n",
            "357       bajo                ninguno             pocas\n",
            "358       bajo                ninguno             pocas\n",
            "359       alto                ninguno             pocas\n",
            "360      medio                ninguno             pocas\n",
            "\n",
            "[361 rows x 3 columns]\n"
          ]
        }
      ],
      "source": [
        "print(df.filter(items=['num_amigos', 'dias_mas_Publicaciones', 'paginas_que_sigue']))"
      ]
    },
    {
      "cell_type": "code",
      "execution_count": 208,
      "metadata": {},
      "outputs": [
        {
          "name": "stdout",
          "output_type": "stream",
          "text": [
            "[[0. 0. 1. 0. 1. 0. 0. 0. 0. 0. 0. 0. 1. 0.]]\n",
            "[[0. 0. 1. 0. 1. 0. 0. 0. 0. 0. 0. 0. 1. 0.]]\n",
            "['T']\n"
          ]
        }
      ],
      "source": [
        "import pickle\n",
        "\n",
        "df = pd.read_csv(\"Facebook.csv\")\n",
        "\n",
        "df = df.drop(columns=['Unnamed: 0'])\n",
        "\n",
        "encoder = OneHotEncoder(sparse=False)\n",
        "encoder.fit_transform(df.filter(items=['num_amigos', 'dias_mas_Publicaciones', 'paginas_que_sigue']))\n",
        "\n",
        "dato_prueba = np.array(['medio', 'fin de semana', 'pocas'])  # Dato categórico a codificar\n",
        "\n",
        "# Reshape del dato de prueba\n",
        "dato_prueba_reshape = dato_prueba.reshape(1, -1)\n",
        "\n",
        "# Transformar el dato de prueba\n",
        "dato_prueba_encoded = encoder.transform(dato_prueba_reshape)\n",
        "\n",
        "# Imprimir el dato codificado\n",
        "print(dato_prueba_encoded)\n",
        "\n",
        "\n",
        "# Its important to use binary mode \n",
        "knnPickle = open('FacebookFinal', 'wb')\n",
        "\n",
        "# source, destination \n",
        "pickle.dump(nb, knnPickle)  \n",
        "\n",
        "# close the file\n",
        "knnPickle.close()\n",
        "\n",
        "loaded_model = pickle.load(open('FacebookFinal', 'rb'))\n",
        "print(dato_prueba_encoded)\n",
        "result = loaded_model.predict(np.array(dato_prueba_encoded).reshape(1, -1)) \n",
        "print(result)"
      ]
    },
    {
      "cell_type": "code",
      "execution_count": 209,
      "metadata": {
        "colab": {
          "base_uri": "https://localhost:8080/",
          "height": 447
        },
        "id": "B-AREyLEJp_g",
        "outputId": "69f09a9e-6cc6-4ef8-88c6-e887d677c460"
      },
      "outputs": [
        {
          "data": {
            "text/plain": [
              "<Axes: >"
            ]
          },
          "execution_count": 209,
          "metadata": {},
          "output_type": "execute_result"
        },
        {
          "data": {
            "image/png": "[encoded data removed]",
            "text/plain": [
              "<Figure size 640x480 with 2 Axes>"
            ]
          },
          "metadata": {},
          "output_type": "display_data"
        }
      ],
      "source": [
        "import seaborn as sns\n",
        "\n",
        "cm = confusion_matrix(y_test2, y_pred2)\n",
        "sns.heatmap(cm, annot=True)"
      ]
    },
    {
      "cell_type": "code",
      "execution_count": 210,
      "metadata": {
        "colab": {
          "base_uri": "https://localhost:8080/"
        },
        "id": "tmrOtdvAM1wv",
        "outputId": "ca34dbbe-2492-4374-b485-16380a03d562"
      },
      "outputs": [
        {
          "name": "stdout",
          "output_type": "stream",
          "text": [
            "              precision    recall  f1-score   support\n",
            "\n",
            "           F       0.55      0.74      0.63        39\n",
            "           T       0.89      0.77      0.83       106\n",
            "\n",
            "    accuracy                           0.77       145\n",
            "   macro avg       0.72      0.76      0.73       145\n",
            "weighted avg       0.80      0.77      0.78       145\n",
            "\n"
          ]
        }
      ],
      "source": [
        "print(classification_report(y_test2, y_pred2))"
      ]
    },
    {
      "attachments": {},
      "cell_type": "markdown",
      "metadata": {
        "id": "GhEdI2ZlNuK1"
      },
      "source": [
        "# *K-fold*"
      ]
    },
    {
      "cell_type": "code",
      "execution_count": 211,
      "metadata": {
        "colab": {
          "base_uri": "https://localhost:8080/"
        },
        "id": "pBHvAW2eNyHi",
        "outputId": "07094e59-f6b6-41c2-9b06-e3b34d397d44"
      },
      "outputs": [
        {
          "name": "stdout",
          "output_type": "stream",
          "text": [
            "              precision    recall  f1-score   support\n",
            "\n",
            "           F       0.00      0.00      0.00        16\n",
            "           T       0.77      0.95      0.85        57\n",
            "\n",
            "    accuracy                           0.74        73\n",
            "   macro avg       0.39      0.47      0.43        73\n",
            "weighted avg       0.60      0.74      0.66        73\n",
            "\n",
            "Precisión del clasificador KNN: 0.7397260273972602\n",
            "              precision    recall  f1-score   support\n",
            "\n",
            "           F       0.45      0.39      0.42        23\n",
            "           T       0.73      0.78      0.75        49\n",
            "\n",
            "    accuracy                           0.65        72\n",
            "   macro avg       0.59      0.58      0.59        72\n",
            "weighted avg       0.64      0.65      0.65        72\n",
            "\n",
            "Precisión del clasificador KNN: 0.6527777777777778\n",
            "              precision    recall  f1-score   support\n",
            "\n",
            "           F       0.25      0.28      0.26        18\n",
            "           T       0.75      0.72      0.74        54\n",
            "\n",
            "    accuracy                           0.61        72\n",
            "   macro avg       0.50      0.50      0.50        72\n",
            "weighted avg       0.62      0.61      0.62        72\n",
            "\n",
            "Precisión del clasificador KNN: 0.6111111111111112\n",
            "              precision    recall  f1-score   support\n",
            "\n",
            "           F       0.00      0.00      0.00        25\n",
            "           T       0.65      1.00      0.79        47\n",
            "\n",
            "    accuracy                           0.65        72\n",
            "   macro avg       0.33      0.50      0.39        72\n",
            "weighted avg       0.43      0.65      0.52        72\n",
            "\n",
            "Precisión del clasificador KNN: 0.6527777777777778\n",
            "              precision    recall  f1-score   support\n",
            "\n",
            "           F       0.58      0.44      0.50        16\n",
            "           T       0.85      0.91      0.88        56\n",
            "\n",
            "    accuracy                           0.81        72\n",
            "   macro avg       0.72      0.67      0.69        72\n",
            "weighted avg       0.79      0.81      0.80        72\n",
            "\n",
            "Precisión del clasificador KNN: 0.8055555555555556\n"
          ]
        }
      ],
      "source": [
        "warnings.filterwarnings('ignore')\n",
        "\n",
        "kf = KFold(n_splits=5, shuffle=True, random_state=2)\n",
        "y1 = y.values\n",
        "\n",
        "X_encoded = encoder.fit_transform(X)\n",
        "for i , (train_index, test_index) in enumerate(kf.split(X_encoded,y1)):\n",
        "    X_train, X_test = X_encoded[train_index], X_encoded[test_index]\n",
        "    y_train, y_test = y1[train_index], y1[test_index]\n",
        "\n",
        "    knn = KNeighborsClassifier(n_neighbors=3)\n",
        "    knn.fit(X_train, y_train)\n",
        "\n",
        "    y_pred = knn.predict(X_test)\n",
        "    accuracy = accuracy_score(y_test, y_pred)\n",
        "    print(classification_report(y_test, y_pred))\n",
        "    print(\"Precisión del clasificador KNN:\", accuracy)"
      ]
    },
    {
      "cell_type": "code",
      "execution_count": 212,
      "metadata": {
        "id": "lFLqSxq9OBi8"
      },
      "outputs": [
        {
          "name": "stdout",
          "output_type": "stream",
          "text": [
            "288 73\n",
            "              precision    recall  f1-score   support\n",
            "\n",
            "           F       0.41      0.69      0.51        16\n",
            "           T       0.89      0.72      0.80        57\n",
            "\n",
            "    accuracy                           0.71        73\n",
            "   macro avg       0.65      0.70      0.65        73\n",
            "weighted avg       0.79      0.71      0.73        73\n",
            "\n",
            "Precisión del clasificador Bayes Ingenuo: 0.7123287671232876\n",
            "289 72\n",
            "              precision    recall  f1-score   support\n",
            "\n",
            "           F       0.50      0.35      0.41        23\n",
            "           T       0.73      0.84      0.78        49\n",
            "\n",
            "    accuracy                           0.68        72\n",
            "   macro avg       0.62      0.59      0.60        72\n",
            "weighted avg       0.66      0.68      0.66        72\n",
            "\n",
            "Precisión del clasificador Bayes Ingenuo: 0.6805555555555556\n",
            "289 72\n",
            "              precision    recall  f1-score   support\n",
            "\n",
            "           F       0.52      0.72      0.60        18\n",
            "           T       0.89      0.78      0.83        54\n",
            "\n",
            "    accuracy                           0.76        72\n",
            "   macro avg       0.71      0.75      0.72        72\n",
            "weighted avg       0.80      0.76      0.77        72\n",
            "\n",
            "Precisión del clasificador Bayes Ingenuo: 0.7638888888888888\n",
            "289 72\n",
            "              precision    recall  f1-score   support\n",
            "\n",
            "           F       0.67      0.64      0.65        25\n",
            "           T       0.81      0.83      0.82        47\n",
            "\n",
            "    accuracy                           0.76        72\n",
            "   macro avg       0.74      0.73      0.74        72\n",
            "weighted avg       0.76      0.76      0.76        72\n",
            "\n",
            "Precisión del clasificador Bayes Ingenuo: 0.7638888888888888\n",
            "289 72\n",
            "              precision    recall  f1-score   support\n",
            "\n",
            "           F       0.58      0.44      0.50        16\n",
            "           T       0.85      0.91      0.88        56\n",
            "\n",
            "    accuracy                           0.81        72\n",
            "   macro avg       0.72      0.67      0.69        72\n",
            "weighted avg       0.79      0.81      0.80        72\n",
            "\n",
            "Precisión del clasificador Bayes Ingenuo: 0.8055555555555556\n"
          ]
        }
      ],
      "source": [
        "warnings.filterwarnings('ignore')\n",
        "\n",
        "kf = KFold(n_splits=5, shuffle=True, random_state=2)\n",
        "y1 = y.values\n",
        "\n",
        "X_encoded = encoder.fit_transform(X)\n",
        "for i , (train_index, test_index) in enumerate(kf.split(X_encoded,y1)):\n",
        "    X_train, X_test = X_encoded[train_index], X_encoded[test_index]\n",
        "    y_train, y_test = y1[train_index], y1[test_index]\n",
        "\n",
        "    print(X_train.shape[0], X_test.shape[0])\n",
        "\n",
        "    nb = CategoricalNB()\n",
        "    nb.fit(X_train, y_train)\n",
        "\n",
        "    y_pred = nb.predict(X_test)\n",
        "    accuracy = accuracy_score(y_test, y_pred)\n",
        "    print(classification_report(y_test, y_pred))\n",
        "    print(\"Precisión del clasificador Bayes Ingenuo:\", accuracy)"
      ]
    },
    {
      "attachments": {},
      "cell_type": "markdown",
      "metadata": {
        "id": "r9ePPdEOKra9"
      },
      "source": [
        "# **Perfiles**"
      ]
    },
    {
      "cell_type": "code",
      "execution_count": 228,
      "metadata": {
        "colab": {
          "base_uri": "https://localhost:8080/",
          "height": 456
        },
        "id": "hLKqk4HMKs2e",
        "outputId": "70937306-2836-46a6-c319-157869f3dd16"
      },
      "outputs": [
        {
          "data": {
            "text/html": [
              "<div>\n",
              "<style scoped>\n",
              "    .dataframe tbody tr th:only-of-type {\n",
              "        vertical-align: middle;\n",
              "    }\n",
              "\n",
              "    .dataframe tbody tr th {\n",
              "        vertical-align: top;\n",
              "    }\n",
              "\n",
              "    .dataframe thead th {\n",
              "        text-align: right;\n",
              "    }\n",
              "</style>\n",
              "<table border=\"1\" class=\"dataframe\">\n",
              "  <thead>\n",
              "    <tr style=\"text-align: right;\">\n",
              "      <th></th>\n",
              "      <th>Unnamed: 0</th>\n",
              "      <th>Edad</th>\n",
              "      <th>Genero</th>\n",
              "      <th>Tutor</th>\n",
              "      <th>Vive-con-Familia</th>\n",
              "      <th>Enfermedad-CrÃ³nica</th>\n",
              "      <th>Promedio-Preparatoria</th>\n",
              "      <th>Materias-Relacionadas</th>\n",
              "      <th>Carrera-Elegida-Ajusta-A-Gustos-Habilidades</th>\n",
              "      <th>Buena-RelaciÃ³n-Familiar</th>\n",
              "      <th>...</th>\n",
              "      <th>Noviazgo</th>\n",
              "      <th>Actividad-Cultural-o-Deportiva</th>\n",
              "      <th>Tiempo-con-sus-amigos-compaÃ±eros</th>\n",
              "      <th>Horas-Semana-Divertirse con-sus-amigos</th>\n",
              "      <th>ConsumÃ­a-Alcohol-Entre-semana</th>\n",
              "      <th>ConsumÃ­a-Alcohol-Fin-semana</th>\n",
              "      <th>Horas-DÃ­a-Dedicada-Redes-Sociales</th>\n",
              "      <th>Gustan-Videojuegos</th>\n",
              "      <th>Horas-Semana-Dedicada-Videojuegos</th>\n",
              "      <th>Horas-Semana-Dedicada-Actividades-Entretenimiento</th>\n",
              "    </tr>\n",
              "  </thead>\n",
              "  <tbody>\n",
              "    <tr>\n",
              "      <th>0</th>\n",
              "      <td>0</td>\n",
              "      <td>señor</td>\n",
              "      <td>Masculino</td>\n",
              "      <td>Madre</td>\n",
              "      <td>No</td>\n",
              "      <td>No</td>\n",
              "      <td>bueno</td>\n",
              "      <td>Sí</td>\n",
              "      <td>Sí</td>\n",
              "      <td>No</td>\n",
              "      <td>...</td>\n",
              "      <td>No</td>\n",
              "      <td>No</td>\n",
              "      <td>No</td>\n",
              "      <td>baja</td>\n",
              "      <td>nunca</td>\n",
              "      <td>nunca</td>\n",
              "      <td>&lt;1</td>\n",
              "      <td>No</td>\n",
              "      <td>0</td>\n",
              "      <td>1-3</td>\n",
              "    </tr>\n",
              "    <tr>\n",
              "      <th>1</th>\n",
              "      <td>1</td>\n",
              "      <td>joven</td>\n",
              "      <td>Masculino</td>\n",
              "      <td>Madre</td>\n",
              "      <td>Sí</td>\n",
              "      <td>No</td>\n",
              "      <td>bueno</td>\n",
              "      <td>No</td>\n",
              "      <td>Sí</td>\n",
              "      <td>Sí</td>\n",
              "      <td>...</td>\n",
              "      <td>Sí</td>\n",
              "      <td>Sí</td>\n",
              "      <td>Sí</td>\n",
              "      <td>media</td>\n",
              "      <td>casi-nunca</td>\n",
              "      <td>a veces</td>\n",
              "      <td>&gt;2</td>\n",
              "      <td>Sí</td>\n",
              "      <td>&gt;3</td>\n",
              "      <td>1-3</td>\n",
              "    </tr>\n",
              "    <tr>\n",
              "      <th>2</th>\n",
              "      <td>2</td>\n",
              "      <td>joven</td>\n",
              "      <td>Masculino</td>\n",
              "      <td>Padre</td>\n",
              "      <td>Sí</td>\n",
              "      <td>No</td>\n",
              "      <td>regular</td>\n",
              "      <td>No</td>\n",
              "      <td>Sí</td>\n",
              "      <td>Sí</td>\n",
              "      <td>...</td>\n",
              "      <td>Sí</td>\n",
              "      <td>No</td>\n",
              "      <td>Sí</td>\n",
              "      <td>baja</td>\n",
              "      <td>casi-nunca</td>\n",
              "      <td>casi-nunca</td>\n",
              "      <td>1-2</td>\n",
              "      <td>Sí</td>\n",
              "      <td>1-3</td>\n",
              "      <td>1-3</td>\n",
              "    </tr>\n",
              "    <tr>\n",
              "      <th>3</th>\n",
              "      <td>3</td>\n",
              "      <td>joven</td>\n",
              "      <td>Masculino</td>\n",
              "      <td>Madre</td>\n",
              "      <td>No</td>\n",
              "      <td>No</td>\n",
              "      <td>bueno</td>\n",
              "      <td>Sí</td>\n",
              "      <td>No</td>\n",
              "      <td>Sí</td>\n",
              "      <td>...</td>\n",
              "      <td>No</td>\n",
              "      <td>Sí</td>\n",
              "      <td>Sí</td>\n",
              "      <td>baja</td>\n",
              "      <td>a veces</td>\n",
              "      <td>regularmente</td>\n",
              "      <td>1-2</td>\n",
              "      <td>No</td>\n",
              "      <td>0</td>\n",
              "      <td>1-3</td>\n",
              "    </tr>\n",
              "    <tr>\n",
              "      <th>4</th>\n",
              "      <td>4</td>\n",
              "      <td>joven</td>\n",
              "      <td>Masculino</td>\n",
              "      <td>Madre</td>\n",
              "      <td>Sí</td>\n",
              "      <td>No</td>\n",
              "      <td>regular</td>\n",
              "      <td>No</td>\n",
              "      <td>No</td>\n",
              "      <td>No</td>\n",
              "      <td>...</td>\n",
              "      <td>Sí</td>\n",
              "      <td>No</td>\n",
              "      <td>No</td>\n",
              "      <td>baja</td>\n",
              "      <td>nunca</td>\n",
              "      <td>casi-nunca</td>\n",
              "      <td>1-2</td>\n",
              "      <td>Sí</td>\n",
              "      <td>&gt;3</td>\n",
              "      <td>&gt;3</td>\n",
              "    </tr>\n",
              "  </tbody>\n",
              "</table>\n",
              "<p>5 rows × 30 columns</p>\n",
              "</div>"
            ],
            "text/plain": [
              "   Unnamed: 0   Edad     Genero  Tutor Vive-con-Familia Enfermedad-CrÃ³nica  \\\n",
              "0           0  señor  Masculino  Madre               No                  No   \n",
              "1           1  joven  Masculino  Madre               Sí                  No   \n",
              "2           2  joven  Masculino  Padre               Sí                  No   \n",
              "3           3  joven  Masculino  Madre               No                  No   \n",
              "4           4  joven  Masculino  Madre               Sí                  No   \n",
              "\n",
              "  Promedio-Preparatoria Materias-Relacionadas  \\\n",
              "0                 bueno                    Sí   \n",
              "1                 bueno                    No   \n",
              "2               regular                    No   \n",
              "3                 bueno                    Sí   \n",
              "4               regular                    No   \n",
              "\n",
              "  Carrera-Elegida-Ajusta-A-Gustos-Habilidades Buena-RelaciÃ³n-Familiar  ...  \\\n",
              "0                                          Sí                       No  ...   \n",
              "1                                          Sí                       Sí  ...   \n",
              "2                                          Sí                       Sí  ...   \n",
              "3                                          No                       Sí  ...   \n",
              "4                                          No                       No  ...   \n",
              "\n",
              "  Noviazgo Actividad-Cultural-o-Deportiva Tiempo-con-sus-amigos-compaÃ±eros  \\\n",
              "0       No                             No                                No   \n",
              "1       Sí                             Sí                                Sí   \n",
              "2       Sí                             No                                Sí   \n",
              "3       No                             Sí                                Sí   \n",
              "4       Sí                             No                                No   \n",
              "\n",
              "  Horas-Semana-Divertirse con-sus-amigos ConsumÃ­a-Alcohol-Entre-semana  \\\n",
              "0                                   baja                          nunca   \n",
              "1                                  media                     casi-nunca   \n",
              "2                                   baja                     casi-nunca   \n",
              "3                                   baja                        a veces   \n",
              "4                                   baja                          nunca   \n",
              "\n",
              "  ConsumÃ­a-Alcohol-Fin-semana Horas-DÃ­a-Dedicada-Redes-Sociales  \\\n",
              "0                        nunca                                 <1   \n",
              "1                      a veces                                 >2   \n",
              "2                   casi-nunca                                1-2   \n",
              "3                 regularmente                                1-2   \n",
              "4                   casi-nunca                                1-2   \n",
              "\n",
              "  Gustan-Videojuegos Horas-Semana-Dedicada-Videojuegos  \\\n",
              "0                 No                                 0   \n",
              "1                 Sí                                >3   \n",
              "2                 Sí                               1-3   \n",
              "3                 No                                 0   \n",
              "4                 Sí                                >3   \n",
              "\n",
              "  Horas-Semana-Dedicada-Actividades-Entretenimiento  \n",
              "0                                               1-3  \n",
              "1                                               1-3  \n",
              "2                                               1-3  \n",
              "3                                               1-3  \n",
              "4                                                >3  \n",
              "\n",
              "[5 rows x 30 columns]"
            ]
          },
          "execution_count": 228,
          "metadata": {},
          "output_type": "execute_result"
        }
      ],
      "source": [
        "df = pd.read_csv(\"ReconocimientoPerfiles.csv\")\n",
        "df.head()"
      ]
    },
    {
      "cell_type": "code",
      "execution_count": 229,
      "metadata": {},
      "outputs": [
        {
          "name": "stdout",
          "output_type": "stream",
          "text": [
            "bueno      68\n",
            "regular    67\n",
            "malo        7\n",
            "Name: Promedio-Primer-Semestre, dtype: int64\n"
          ]
        }
      ],
      "source": [
        "cantidad_elementos = df['Promedio-Primer-Semestre'].value_counts()\n",
        "print(cantidad_elementos)\n",
        "df = df.drop(columns=['Unnamed: 0'])"
      ]
    },
    {
      "cell_type": "code",
      "execution_count": 215,
      "metadata": {},
      "outputs": [
        {
          "name": "stdout",
          "output_type": "stream",
          "text": [
            "Index(['Edad', 'Genero', 'Tutor', 'Vive-con-Familia', 'Enfermedad-CrÃ³nica',\n",
            "       'Promedio-Preparatoria', 'Materias-Relacionadas',\n",
            "       'Carrera-Elegida-Ajusta-A-Gustos-Habilidades',\n",
            "       'Buena-RelaciÃ³n-Familiar', 'Buena-RelaciÃ³n-Amigos-CompaÃ±eros',\n",
            "       'Materias-Cursadas-Primer-Semestre', 'Promedio-Primer-Semestre',\n",
            "       'Materias-Aprobadas-Primer-Semestre',\n",
            "       'Materias-Reprobadas-De-ComputaciÃ³n',\n",
            "       'Materias-Reprobadas-De-MatemÃ¡ticas',\n",
            "       'Materias-Reprobadas-De-Ciensias-Sociales',\n",
            "       'Horas-Promedio-Estudio-Examenes',\n",
            "       'Horas-Promedio-Estudio-Actividades-Escolares',\n",
            "       'Cursos-Extra-Primer-Semestre', 'Noviazgo',\n",
            "       'Actividad-Cultural-o-Deportiva', 'Tiempo-con-sus-amigos-compaÃ±eros',\n",
            "       'Horas-Semana-Divertirse con-sus-amigos',\n",
            "       'ConsumÃ­a-Alcohol-Entre-semana', 'ConsumÃ­a-Alcohol-Fin-semana',\n",
            "       'Horas-DÃ­a-Dedicada-Redes-Sociales', 'Gustan-Videojuegos',\n",
            "       'Horas-Semana-Dedicada-Videojuegos',\n",
            "       'Horas-Semana-Dedicada-Actividades-Entretenimiento'],\n",
            "      dtype='object')\n"
          ]
        }
      ],
      "source": [
        "headers = df.columns\n",
        "print(headers)"
      ]
    },
    {
      "cell_type": "code",
      "execution_count": 216,
      "metadata": {},
      "outputs": [
        {
          "data": {
            "text/html": [
              "<div>\n",
              "<style scoped>\n",
              "    .dataframe tbody tr th:only-of-type {\n",
              "        vertical-align: middle;\n",
              "    }\n",
              "\n",
              "    .dataframe tbody tr th {\n",
              "        vertical-align: top;\n",
              "    }\n",
              "\n",
              "    .dataframe thead th {\n",
              "        text-align: right;\n",
              "    }\n",
              "</style>\n",
              "<table border=\"1\" class=\"dataframe\">\n",
              "  <thead>\n",
              "    <tr style=\"text-align: right;\">\n",
              "      <th></th>\n",
              "      <th>cantidad_caracteres_nombre</th>\n",
              "      <th>tiene_foto_perfil</th>\n",
              "      <th>cantidad_seguidores</th>\n",
              "      <th>cantidad_seguidos</th>\n",
              "      <th>promedio_publicaciones</th>\n",
              "      <th>perfil_privado</th>\n",
              "      <th>dia_mas_publica</th>\n",
              "      <th>comenta_publicaciones</th>\n",
              "      <th>clase</th>\n",
              "    </tr>\n",
              "  </thead>\n",
              "  <tbody>\n",
              "    <tr>\n",
              "      <th>289</th>\n",
              "      <td>medio</td>\n",
              "      <td>Sí</td>\n",
              "      <td>bajo</td>\n",
              "      <td>bajo</td>\n",
              "      <td>bajo</td>\n",
              "      <td>No</td>\n",
              "      <td>Fin de semana</td>\n",
              "      <td>No</td>\n",
              "      <td>Fake</td>\n",
              "    </tr>\n",
              "    <tr>\n",
              "      <th>290</th>\n",
              "      <td>medio</td>\n",
              "      <td>Sí</td>\n",
              "      <td>bajo</td>\n",
              "      <td>bajo</td>\n",
              "      <td>bajo</td>\n",
              "      <td>No</td>\n",
              "      <td>Fin de semana</td>\n",
              "      <td>No</td>\n",
              "      <td>Fake</td>\n",
              "    </tr>\n",
              "    <tr>\n",
              "      <th>291</th>\n",
              "      <td>largo</td>\n",
              "      <td>Sí</td>\n",
              "      <td>bajo</td>\n",
              "      <td>bajo</td>\n",
              "      <td>bajo</td>\n",
              "      <td>No</td>\n",
              "      <td>Media semana</td>\n",
              "      <td>No</td>\n",
              "      <td>Fake</td>\n",
              "    </tr>\n",
              "    <tr>\n",
              "      <th>292</th>\n",
              "      <td>largo</td>\n",
              "      <td>Sí</td>\n",
              "      <td>medio</td>\n",
              "      <td>alto</td>\n",
              "      <td>bajo</td>\n",
              "      <td>No</td>\n",
              "      <td>Fin de semana</td>\n",
              "      <td>No</td>\n",
              "      <td>Fake</td>\n",
              "    </tr>\n",
              "    <tr>\n",
              "      <th>293</th>\n",
              "      <td>medio</td>\n",
              "      <td>Sí</td>\n",
              "      <td>medio</td>\n",
              "      <td>medio</td>\n",
              "      <td>bajo</td>\n",
              "      <td>No</td>\n",
              "      <td>Media semana</td>\n",
              "      <td>No</td>\n",
              "      <td>Fake</td>\n",
              "    </tr>\n",
              "  </tbody>\n",
              "</table>\n",
              "</div>"
            ],
            "text/plain": [
              "    cantidad_caracteres_nombre tiene_foto_perfil cantidad_seguidores  \\\n",
              "289                      medio                Sí                bajo   \n",
              "290                      medio                Sí                bajo   \n",
              "291                      largo                Sí                bajo   \n",
              "292                      largo                Sí               medio   \n",
              "293                      medio                Sí               medio   \n",
              "\n",
              "    cantidad_seguidos promedio_publicaciones perfil_privado dia_mas_publica  \\\n",
              "289              bajo                   bajo             No   Fin de semana   \n",
              "290              bajo                   bajo             No   Fin de semana   \n",
              "291              bajo                   bajo             No    Media semana   \n",
              "292              alto                   bajo             No   Fin de semana   \n",
              "293             medio                   bajo             No    Media semana   \n",
              "\n",
              "    comenta_publicaciones clase  \n",
              "289                    No  Fake  \n",
              "290                    No  Fake  \n",
              "291                    No  Fake  \n",
              "292                    No  Fake  \n",
              "293                    No  Fake  "
            ]
          },
          "execution_count": 216,
          "metadata": {},
          "output_type": "execute_result"
        }
      ],
      "source": [
        "df = pd.read_csv(\"Twitter.csv\")\n",
        "\n",
        "df = df.drop(columns=['Unnamed: 0'])\n",
        "df = df.loc[:, ~df.columns.str.contains('^nombre')]\n",
        "df.tail()\n"
      ]
    },
    {
      "cell_type": "code",
      "execution_count": 217,
      "metadata": {},
      "outputs": [
        {
          "name": "stdout",
          "output_type": "stream",
          "text": [
            "Index(['cantidad_caracteres_nombre', 'tiene_foto_perfil',\n",
            "       'cantidad_seguidores', 'cantidad_seguidos', 'promedio_publicaciones',\n",
            "       'perfil_privado', 'dia_mas_publica', 'comenta_publicaciones', 'clase'],\n",
            "      dtype='object')\n"
          ]
        }
      ],
      "source": [
        "headers = df.columns\n",
        "print(headers)"
      ]
    },
    {
      "cell_type": "code",
      "execution_count": 218,
      "metadata": {
        "id": "FNhqpej-KxWm"
      },
      "outputs": [
        {
          "name": "stdout",
          "output_type": "stream",
          "text": [
            "0.7078651685393258 ['cantidad_caracteres_nombre', 'tiene_foto_perfil', 'cantidad_seguidores']\n",
            "[[ 2 26]\n",
            " [ 0 61]]\n",
            "0.7415730337078652 ['cantidad_caracteres_nombre', 'tiene_foto_perfil', 'comenta_publicaciones']\n",
            "[[ 5 23]\n",
            " [ 0 61]]\n",
            "0.8202247191011236 ['cantidad_seguidores', 'cantidad_seguidos', 'perfil_privado']\n",
            "[[21  7]\n",
            " [ 9 52]]\n"
          ]
        }
      ],
      "source": [
        "#Dropear Carrera\n",
        "import warnings\n",
        "warnings.filterwarnings('ignore')\n",
        "\n",
        "\n",
        "\n",
        "\n",
        "best_accuracy = 0\n",
        "best_characteristics = []\n",
        "best_model = []\n",
        "best_cm = []\n",
        "\n",
        "for header1 in headers:\n",
        "    for header2 in headers:\n",
        "        for header3 in headers:\n",
        "            if((header1 != header2) and (header1 != header3) and (header2 != header3) and (header1 != 'clase') and (header2 != 'clase') and (header3 != 'clase')):\n",
        "                characteristics = [header1, header2, header3]\n",
        "                #print(characteristics)\n",
        "                X = df.filter(items=characteristics).copy()\n",
        "                classColumn = ['clase']\n",
        "                y = df.filter(items=classColumn).copy()\n",
        "\n",
        "                encoder = OneHotEncoder(sparse=False)\n",
        "                X_encoded = encoder.fit_transform(X)\n",
        "\n",
        "                X_train, X_test, y_train, y_test = train_test_split(X_encoded, y, test_size=0.3, random_state=42)\n",
        "\n",
        "                knn = KNeighborsClassifier(n_neighbors=3)\n",
        "\n",
        "                knn.fit(X_train, y_train)\n",
        "                #nb = CategoricalNB()\n",
        "                #nb.fit(X_train, y_train)\n",
        "\n",
        "                y_pred = knn.predict(X_test)\n",
        "\n",
        "\n",
        "                accuracy = accuracy_score(y_test, y_pred)\n",
        "                if(accuracy > best_accuracy):\n",
        "                    best_accuracy = accuracy\n",
        "                    best_characteristics = characteristics\n",
        "                    best_model = nb\n",
        "                    best_encoder = encoder\n",
        "                    best_X = X\n",
        "                    print(best_accuracy, best_characteristics)\n",
        "\n",
        "                    cm = confusion_matrix(y_test, y_pred)\n",
        "                    best_cm = cm\n",
        "                    print(cm)\n",
        "                    \n",
        "\n",
        "                #print(\"Precisión del clasificador KNN:\", accuracy)"
      ]
    },
    {
      "cell_type": "code",
      "execution_count": 219,
      "metadata": {},
      "outputs": [],
      "source": [
        "#df.filter(items=best_characteristics).copy()"
      ]
    },
    {
      "cell_type": "code",
      "execution_count": 220,
      "metadata": {},
      "outputs": [
        {
          "name": "stdout",
          "output_type": "stream",
          "text": [
            "[[0. 1. 0. 0. 0. 1. 0. 1. 0.]]\n",
            "[[0. 1. 0. 0. 0. 1. 0. 1. 0.]]\n",
            "['T']\n"
          ]
        }
      ],
      "source": [
        "import pickle\n",
        "\n",
        "encoder = OneHotEncoder(sparse=False)\n",
        "encoder.fit_transform(best_X)\n",
        "\n",
        "dato_prueba = np.array(['bajo', 'bajo', 'No'])  # Dato categórico a codificar\n",
        "\n",
        "# Reshape del dato de prueba\n",
        "dato_prueba_reshape = dato_prueba.reshape(1, -1)\n",
        "\n",
        "# Transformar el dato de prueba\n",
        "dato_prueba_encoded = best_encoder.transform(dato_prueba_reshape)\n",
        "\n",
        "# Imprimir el dato codificado\n",
        "print(dato_prueba_encoded)\n",
        "\n",
        "\n",
        "# Its important to use binary mode \n",
        "knnPickle = open('Twitter92', 'wb')\n",
        "\n",
        "# source, destination \n",
        "pickle.dump(best_model, knnPickle)  \n",
        "\n",
        "# close the file\n",
        "knnPickle.close()\n",
        "\n",
        "loaded_model = pickle.load(open('Twitter92', 'rb'))\n",
        "print(dato_prueba_encoded)\n",
        "result = loaded_model.predict(np.array([0, 1 , 1, 1, 0, 0, 1, 0, 0, 1, 1, 0, 0, 1]).reshape(1, -1)) \n",
        "print(result)"
      ]
    },
    {
      "cell_type": "code",
      "execution_count": 221,
      "metadata": {},
      "outputs": [
        {
          "name": "stdout",
          "output_type": "stream",
          "text": [
            "0.8202247191011236\n",
            "['cantidad_seguidores', 'cantidad_seguidos', 'perfil_privado']\n",
            "[[21  7]\n",
            " [ 9 52]]\n"
          ]
        }
      ],
      "source": [
        "print(best_accuracy)\n",
        "print(best_characteristics)\n",
        "print(best_cm)\n"
      ]
    },
    {
      "cell_type": "code",
      "execution_count": 222,
      "metadata": {
        "colab": {
          "base_uri": "https://localhost:8080/"
        },
        "id": "ObkhrwK0LKWO",
        "outputId": "3f17c717-e4fe-402e-f11b-e81db47089b6"
      },
      "outputs": [
        {
          "name": "stdout",
          "output_type": "stream",
          "text": [
            "176 118\n"
          ]
        },
        {
          "ename": "ValueError",
          "evalue": "at least one array or dtype is required",
          "output_type": "error",
          "traceback": [
            "\u001b[0;31m---------------------------------------------------------------------------\u001b[0m",
            "\u001b[0;31mValueError\u001b[0m                                Traceback (most recent call last)",
            "\u001b[1;32m/Users/samuelguerrero/GitHub/1002-A/Reconocimiento-de-Patrones/Segundo Parcial/SeleccionCaracterísticas/Clasificadores.ipynb Cell 47\u001b[0m in \u001b[0;36m<cell line: 13>\u001b[0;34m()\u001b[0m\n\u001b[1;32m      <a href='vscode-notebook-cell:/Users/samuelguerrero/GitHub/1002-A/Reconocimiento-de-Patrones/Segundo%20Parcial/SeleccionCaracter%C3%ADsticas/Clasificadores.ipynb#X52sZmlsZQ%3D%3D?line=8'>9</a>\u001b[0m \u001b[39mprint\u001b[39m(X_train\u001b[39m.\u001b[39mshape[\u001b[39m0\u001b[39m], X_test\u001b[39m.\u001b[39mshape[\u001b[39m0\u001b[39m])\n\u001b[1;32m     <a href='vscode-notebook-cell:/Users/samuelguerrero/GitHub/1002-A/Reconocimiento-de-Patrones/Segundo%20Parcial/SeleccionCaracter%C3%ADsticas/Clasificadores.ipynb#X52sZmlsZQ%3D%3D?line=10'>11</a>\u001b[0m knn \u001b[39m=\u001b[39m KNeighborsClassifier(n_neighbors\u001b[39m=\u001b[39m\u001b[39m3\u001b[39m)\n\u001b[0;32m---> <a href='vscode-notebook-cell:/Users/samuelguerrero/GitHub/1002-A/Reconocimiento-de-Patrones/Segundo%20Parcial/SeleccionCaracter%C3%ADsticas/Clasificadores.ipynb#X52sZmlsZQ%3D%3D?line=12'>13</a>\u001b[0m knn\u001b[39m.\u001b[39;49mfit(X_train, y_train)\n\u001b[1;32m     <a href='vscode-notebook-cell:/Users/samuelguerrero/GitHub/1002-A/Reconocimiento-de-Patrones/Segundo%20Parcial/SeleccionCaracter%C3%ADsticas/Clasificadores.ipynb#X52sZmlsZQ%3D%3D?line=14'>15</a>\u001b[0m y_pred \u001b[39m=\u001b[39m knn\u001b[39m.\u001b[39mpredict(X_test)\n\u001b[1;32m     <a href='vscode-notebook-cell:/Users/samuelguerrero/GitHub/1002-A/Reconocimiento-de-Patrones/Segundo%20Parcial/SeleccionCaracter%C3%ADsticas/Clasificadores.ipynb#X52sZmlsZQ%3D%3D?line=16'>17</a>\u001b[0m accuracy \u001b[39m=\u001b[39m accuracy_score(y_test, y_pred)\n",
            "File \u001b[0;32m~/anaconda3/lib/python3.9/site-packages/sklearn/neighbors/_classification.py:200\u001b[0m, in \u001b[0;36mKNeighborsClassifier.fit\u001b[0;34m(self, X, y)\u001b[0m\n\u001b[1;32m    181\u001b[0m \u001b[39m\"\"\"Fit the k-nearest neighbors classifier from the training dataset.\u001b[39;00m\n\u001b[1;32m    182\u001b[0m \n\u001b[1;32m    183\u001b[0m \u001b[39mParameters\u001b[39;00m\n\u001b[0;32m   (...)\u001b[0m\n\u001b[1;32m    196\u001b[0m \u001b[39m    The fitted k-nearest neighbors classifier.\u001b[39;00m\n\u001b[1;32m    197\u001b[0m \u001b[39m\"\"\"\u001b[39;00m\n\u001b[1;32m    198\u001b[0m \u001b[39mself\u001b[39m\u001b[39m.\u001b[39mweights \u001b[39m=\u001b[39m _check_weights(\u001b[39mself\u001b[39m\u001b[39m.\u001b[39mweights)\n\u001b[0;32m--> 200\u001b[0m \u001b[39mreturn\u001b[39;00m \u001b[39mself\u001b[39;49m\u001b[39m.\u001b[39;49m_fit(X, y)\n",
            "File \u001b[0;32m~/anaconda3/lib/python3.9/site-packages/sklearn/neighbors/_base.py:407\u001b[0m, in \u001b[0;36mNeighborsBase._fit\u001b[0;34m(self, X, y)\u001b[0m\n\u001b[1;32m    405\u001b[0m \u001b[39mif\u001b[39;00m \u001b[39mself\u001b[39m\u001b[39m.\u001b[39m_get_tags()[\u001b[39m\"\u001b[39m\u001b[39mrequires_y\u001b[39m\u001b[39m\"\u001b[39m]:\n\u001b[1;32m    406\u001b[0m     \u001b[39mif\u001b[39;00m \u001b[39mnot\u001b[39;00m \u001b[39misinstance\u001b[39m(X, (KDTree, BallTree, NeighborsBase)):\n\u001b[0;32m--> 407\u001b[0m         X, y \u001b[39m=\u001b[39m \u001b[39mself\u001b[39;49m\u001b[39m.\u001b[39;49m_validate_data(\n\u001b[1;32m    408\u001b[0m             X, y, accept_sparse\u001b[39m=\u001b[39;49m\u001b[39m\"\u001b[39;49m\u001b[39mcsr\u001b[39;49m\u001b[39m\"\u001b[39;49m, multi_output\u001b[39m=\u001b[39;49m\u001b[39mTrue\u001b[39;49;00m, order\u001b[39m=\u001b[39;49m\u001b[39m\"\u001b[39;49m\u001b[39mC\u001b[39;49m\u001b[39m\"\u001b[39;49m\n\u001b[1;32m    409\u001b[0m         )\n\u001b[1;32m    411\u001b[0m     \u001b[39mif\u001b[39;00m is_classifier(\u001b[39mself\u001b[39m):\n\u001b[1;32m    412\u001b[0m         \u001b[39m# Classification targets require a specific format\u001b[39;00m\n\u001b[1;32m    413\u001b[0m         \u001b[39mif\u001b[39;00m y\u001b[39m.\u001b[39mndim \u001b[39m==\u001b[39m \u001b[39m1\u001b[39m \u001b[39mor\u001b[39;00m y\u001b[39m.\u001b[39mndim \u001b[39m==\u001b[39m \u001b[39m2\u001b[39m \u001b[39mand\u001b[39;00m y\u001b[39m.\u001b[39mshape[\u001b[39m1\u001b[39m] \u001b[39m==\u001b[39m \u001b[39m1\u001b[39m:\n",
            "File \u001b[0;32m~/anaconda3/lib/python3.9/site-packages/sklearn/base.py:596\u001b[0m, in \u001b[0;36mBaseEstimator._validate_data\u001b[0;34m(self, X, y, reset, validate_separately, **check_params)\u001b[0m\n\u001b[1;32m    594\u001b[0m         y \u001b[39m=\u001b[39m check_array(y, input_name\u001b[39m=\u001b[39m\u001b[39m\"\u001b[39m\u001b[39my\u001b[39m\u001b[39m\"\u001b[39m, \u001b[39m*\u001b[39m\u001b[39m*\u001b[39mcheck_y_params)\n\u001b[1;32m    595\u001b[0m     \u001b[39melse\u001b[39;00m:\n\u001b[0;32m--> 596\u001b[0m         X, y \u001b[39m=\u001b[39m check_X_y(X, y, \u001b[39m*\u001b[39;49m\u001b[39m*\u001b[39;49mcheck_params)\n\u001b[1;32m    597\u001b[0m     out \u001b[39m=\u001b[39m X, y\n\u001b[1;32m    599\u001b[0m \u001b[39mif\u001b[39;00m \u001b[39mnot\u001b[39;00m no_val_X \u001b[39mand\u001b[39;00m check_params\u001b[39m.\u001b[39mget(\u001b[39m\"\u001b[39m\u001b[39mensure_2d\u001b[39m\u001b[39m\"\u001b[39m, \u001b[39mTrue\u001b[39;00m):\n",
            "File \u001b[0;32m~/anaconda3/lib/python3.9/site-packages/sklearn/utils/validation.py:1090\u001b[0m, in \u001b[0;36mcheck_X_y\u001b[0;34m(X, y, accept_sparse, accept_large_sparse, dtype, order, copy, force_all_finite, ensure_2d, allow_nd, multi_output, ensure_min_samples, ensure_min_features, y_numeric, estimator)\u001b[0m\n\u001b[1;32m   1070\u001b[0m     \u001b[39mraise\u001b[39;00m \u001b[39mValueError\u001b[39;00m(\n\u001b[1;32m   1071\u001b[0m         \u001b[39mf\u001b[39m\u001b[39m\"\u001b[39m\u001b[39m{\u001b[39;00mestimator_name\u001b[39m}\u001b[39;00m\u001b[39m requires y to be passed, but the target y is None\u001b[39m\u001b[39m\"\u001b[39m\n\u001b[1;32m   1072\u001b[0m     )\n\u001b[1;32m   1074\u001b[0m X \u001b[39m=\u001b[39m check_array(\n\u001b[1;32m   1075\u001b[0m     X,\n\u001b[1;32m   1076\u001b[0m     accept_sparse\u001b[39m=\u001b[39maccept_sparse,\n\u001b[0;32m   (...)\u001b[0m\n\u001b[1;32m   1087\u001b[0m     input_name\u001b[39m=\u001b[39m\u001b[39m\"\u001b[39m\u001b[39mX\u001b[39m\u001b[39m\"\u001b[39m,\n\u001b[1;32m   1088\u001b[0m )\n\u001b[0;32m-> 1090\u001b[0m y \u001b[39m=\u001b[39m _check_y(y, multi_output\u001b[39m=\u001b[39;49mmulti_output, y_numeric\u001b[39m=\u001b[39;49my_numeric, estimator\u001b[39m=\u001b[39;49mestimator)\n\u001b[1;32m   1092\u001b[0m check_consistent_length(X, y)\n\u001b[1;32m   1094\u001b[0m \u001b[39mreturn\u001b[39;00m X, y\n",
            "File \u001b[0;32m~/anaconda3/lib/python3.9/site-packages/sklearn/utils/validation.py:1100\u001b[0m, in \u001b[0;36m_check_y\u001b[0;34m(y, multi_output, y_numeric, estimator)\u001b[0m\n\u001b[1;32m   1098\u001b[0m \u001b[39m\"\"\"Isolated part of check_X_y dedicated to y validation\"\"\"\u001b[39;00m\n\u001b[1;32m   1099\u001b[0m \u001b[39mif\u001b[39;00m multi_output:\n\u001b[0;32m-> 1100\u001b[0m     y \u001b[39m=\u001b[39m check_array(\n\u001b[1;32m   1101\u001b[0m         y,\n\u001b[1;32m   1102\u001b[0m         accept_sparse\u001b[39m=\u001b[39;49m\u001b[39m\"\u001b[39;49m\u001b[39mcsr\u001b[39;49m\u001b[39m\"\u001b[39;49m,\n\u001b[1;32m   1103\u001b[0m         force_all_finite\u001b[39m=\u001b[39;49m\u001b[39mTrue\u001b[39;49;00m,\n\u001b[1;32m   1104\u001b[0m         ensure_2d\u001b[39m=\u001b[39;49m\u001b[39mFalse\u001b[39;49;00m,\n\u001b[1;32m   1105\u001b[0m         dtype\u001b[39m=\u001b[39;49m\u001b[39mNone\u001b[39;49;00m,\n\u001b[1;32m   1106\u001b[0m         input_name\u001b[39m=\u001b[39;49m\u001b[39m\"\u001b[39;49m\u001b[39my\u001b[39;49m\u001b[39m\"\u001b[39;49m,\n\u001b[1;32m   1107\u001b[0m         estimator\u001b[39m=\u001b[39;49mestimator,\n\u001b[1;32m   1108\u001b[0m     )\n\u001b[1;32m   1109\u001b[0m \u001b[39melse\u001b[39;00m:\n\u001b[1;32m   1110\u001b[0m     estimator_name \u001b[39m=\u001b[39m _check_estimator_name(estimator)\n",
            "File \u001b[0;32m~/anaconda3/lib/python3.9/site-packages/sklearn/utils/validation.py:768\u001b[0m, in \u001b[0;36mcheck_array\u001b[0;34m(array, accept_sparse, accept_large_sparse, dtype, order, copy, force_all_finite, ensure_2d, allow_nd, ensure_min_samples, ensure_min_features, estimator, input_name)\u001b[0m\n\u001b[1;32m    764\u001b[0m     pandas_requires_conversion \u001b[39m=\u001b[39m \u001b[39many\u001b[39m(\n\u001b[1;32m    765\u001b[0m         _pandas_dtype_needs_early_conversion(i) \u001b[39mfor\u001b[39;00m i \u001b[39min\u001b[39;00m dtypes_orig\n\u001b[1;32m    766\u001b[0m     )\n\u001b[1;32m    767\u001b[0m     \u001b[39mif\u001b[39;00m \u001b[39mall\u001b[39m(\u001b[39misinstance\u001b[39m(dtype_iter, np\u001b[39m.\u001b[39mdtype) \u001b[39mfor\u001b[39;00m dtype_iter \u001b[39min\u001b[39;00m dtypes_orig):\n\u001b[0;32m--> 768\u001b[0m         dtype_orig \u001b[39m=\u001b[39m np\u001b[39m.\u001b[39;49mresult_type(\u001b[39m*\u001b[39;49mdtypes_orig)\n\u001b[1;32m    770\u001b[0m \u001b[39mif\u001b[39;00m dtype_numeric:\n\u001b[1;32m    771\u001b[0m     \u001b[39mif\u001b[39;00m dtype_orig \u001b[39mis\u001b[39;00m \u001b[39mnot\u001b[39;00m \u001b[39mNone\u001b[39;00m \u001b[39mand\u001b[39;00m dtype_orig\u001b[39m.\u001b[39mkind \u001b[39m==\u001b[39m \u001b[39m\"\u001b[39m\u001b[39mO\u001b[39m\u001b[39m\"\u001b[39m:\n\u001b[1;32m    772\u001b[0m         \u001b[39m# if input is object, convert to float.\u001b[39;00m\n",
            "File \u001b[0;32m<__array_function__ internals>:200\u001b[0m, in \u001b[0;36mresult_type\u001b[0;34m(*args, **kwargs)\u001b[0m\n",
            "\u001b[0;31mValueError\u001b[0m: at least one array or dtype is required"
          ]
        }
      ],
      "source": [
        "classColumn = ['Promedio-Primer-Semestre']\n",
        "y = df.filter(items=classColumn).copy()\n",
        "\n",
        "encoder = OneHotEncoder(sparse=False)\n",
        "X_encoded = encoder.fit_transform(X)\n",
        "\n",
        "X_train, X_test, y_train, y_test = train_test_split(X_encoded, y, test_size=0.4, random_state=42)\n",
        "\n",
        "print(X_train.shape[0], X_test.shape[0])\n",
        "\n",
        "knn = KNeighborsClassifier(n_neighbors=3)\n",
        "\n",
        "knn.fit(X_train, y_train)\n",
        "\n",
        "y_pred = knn.predict(X_test)\n",
        "\n",
        "accuracy = accuracy_score(y_test, y_pred)\n",
        "print(\"Precisión del clasificador KNN:\", accuracy)"
      ]
    },
    {
      "cell_type": "code",
      "execution_count": 223,
      "metadata": {
        "colab": {
          "base_uri": "https://localhost:8080/",
          "height": 447
        },
        "id": "ilB0-5a7LQw7",
        "outputId": "1953b027-321c-430a-ddaf-74c0513c4ef3"
      },
      "outputs": [
        {
          "ename": "ValueError",
          "evalue": "Found input variables with inconsistent numbers of samples: [118, 89]",
          "output_type": "error",
          "traceback": [
            "\u001b[0;31m---------------------------------------------------------------------------\u001b[0m",
            "\u001b[0;31mValueError\u001b[0m                                Traceback (most recent call last)",
            "\u001b[1;32m/Users/samuelguerrero/GitHub/1002-A/Reconocimiento-de-Patrones/Segundo Parcial/SeleccionCaracterísticas/Clasificadores.ipynb Cell 48\u001b[0m in \u001b[0;36m<cell line: 3>\u001b[0;34m()\u001b[0m\n\u001b[1;32m      <a href='vscode-notebook-cell:/Users/samuelguerrero/GitHub/1002-A/Reconocimiento-de-Patrones/Segundo%20Parcial/SeleccionCaracter%C3%ADsticas/Clasificadores.ipynb#X53sZmlsZQ%3D%3D?line=0'>1</a>\u001b[0m \u001b[39mimport\u001b[39;00m \u001b[39mseaborn\u001b[39;00m \u001b[39mas\u001b[39;00m \u001b[39msns\u001b[39;00m\n\u001b[0;32m----> <a href='vscode-notebook-cell:/Users/samuelguerrero/GitHub/1002-A/Reconocimiento-de-Patrones/Segundo%20Parcial/SeleccionCaracter%C3%ADsticas/Clasificadores.ipynb#X53sZmlsZQ%3D%3D?line=2'>3</a>\u001b[0m cm \u001b[39m=\u001b[39m confusion_matrix(y_test, y_pred)\n\u001b[1;32m      <a href='vscode-notebook-cell:/Users/samuelguerrero/GitHub/1002-A/Reconocimiento-de-Patrones/Segundo%20Parcial/SeleccionCaracter%C3%ADsticas/Clasificadores.ipynb#X53sZmlsZQ%3D%3D?line=3'>4</a>\u001b[0m sns\u001b[39m.\u001b[39mheatmap(cm, annot\u001b[39m=\u001b[39m\u001b[39mTrue\u001b[39;00m)\n",
            "File \u001b[0;32m~/anaconda3/lib/python3.9/site-packages/sklearn/metrics/_classification.py:307\u001b[0m, in \u001b[0;36mconfusion_matrix\u001b[0;34m(y_true, y_pred, labels, sample_weight, normalize)\u001b[0m\n\u001b[1;32m    222\u001b[0m \u001b[39mdef\u001b[39;00m \u001b[39mconfusion_matrix\u001b[39m(\n\u001b[1;32m    223\u001b[0m     y_true, y_pred, \u001b[39m*\u001b[39m, labels\u001b[39m=\u001b[39m\u001b[39mNone\u001b[39;00m, sample_weight\u001b[39m=\u001b[39m\u001b[39mNone\u001b[39;00m, normalize\u001b[39m=\u001b[39m\u001b[39mNone\u001b[39;00m\n\u001b[1;32m    224\u001b[0m ):\n\u001b[1;32m    225\u001b[0m     \u001b[39m\"\"\"Compute confusion matrix to evaluate the accuracy of a classification.\u001b[39;00m\n\u001b[1;32m    226\u001b[0m \n\u001b[1;32m    227\u001b[0m \u001b[39m    By definition a confusion matrix :math:`C` is such that :math:`C_{i, j}`\u001b[39;00m\n\u001b[0;32m   (...)\u001b[0m\n\u001b[1;32m    305\u001b[0m \u001b[39m    (0, 2, 1, 1)\u001b[39;00m\n\u001b[1;32m    306\u001b[0m \u001b[39m    \"\"\"\u001b[39;00m\n\u001b[0;32m--> 307\u001b[0m     y_type, y_true, y_pred \u001b[39m=\u001b[39m _check_targets(y_true, y_pred)\n\u001b[1;32m    308\u001b[0m     \u001b[39mif\u001b[39;00m y_type \u001b[39mnot\u001b[39;00m \u001b[39min\u001b[39;00m (\u001b[39m\"\u001b[39m\u001b[39mbinary\u001b[39m\u001b[39m\"\u001b[39m, \u001b[39m\"\u001b[39m\u001b[39mmulticlass\u001b[39m\u001b[39m\"\u001b[39m):\n\u001b[1;32m    309\u001b[0m         \u001b[39mraise\u001b[39;00m \u001b[39mValueError\u001b[39;00m(\u001b[39m\"\u001b[39m\u001b[39m%s\u001b[39;00m\u001b[39m is not supported\u001b[39m\u001b[39m\"\u001b[39m \u001b[39m%\u001b[39m y_type)\n",
            "File \u001b[0;32m~/anaconda3/lib/python3.9/site-packages/sklearn/metrics/_classification.py:84\u001b[0m, in \u001b[0;36m_check_targets\u001b[0;34m(y_true, y_pred)\u001b[0m\n\u001b[1;32m     57\u001b[0m \u001b[39mdef\u001b[39;00m \u001b[39m_check_targets\u001b[39m(y_true, y_pred):\n\u001b[1;32m     58\u001b[0m     \u001b[39m\"\"\"Check that y_true and y_pred belong to the same classification task.\u001b[39;00m\n\u001b[1;32m     59\u001b[0m \n\u001b[1;32m     60\u001b[0m \u001b[39m    This converts multiclass or binary types to a common shape, and raises a\u001b[39;00m\n\u001b[0;32m   (...)\u001b[0m\n\u001b[1;32m     82\u001b[0m \u001b[39m    y_pred : array or indicator matrix\u001b[39;00m\n\u001b[1;32m     83\u001b[0m \u001b[39m    \"\"\"\u001b[39;00m\n\u001b[0;32m---> 84\u001b[0m     check_consistent_length(y_true, y_pred)\n\u001b[1;32m     85\u001b[0m     type_true \u001b[39m=\u001b[39m type_of_target(y_true, input_name\u001b[39m=\u001b[39m\u001b[39m\"\u001b[39m\u001b[39my_true\u001b[39m\u001b[39m\"\u001b[39m)\n\u001b[1;32m     86\u001b[0m     type_pred \u001b[39m=\u001b[39m type_of_target(y_pred, input_name\u001b[39m=\u001b[39m\u001b[39m\"\u001b[39m\u001b[39my_pred\u001b[39m\u001b[39m\"\u001b[39m)\n",
            "File \u001b[0;32m~/anaconda3/lib/python3.9/site-packages/sklearn/utils/validation.py:387\u001b[0m, in \u001b[0;36mcheck_consistent_length\u001b[0;34m(*arrays)\u001b[0m\n\u001b[1;32m    385\u001b[0m uniques \u001b[39m=\u001b[39m np\u001b[39m.\u001b[39munique(lengths)\n\u001b[1;32m    386\u001b[0m \u001b[39mif\u001b[39;00m \u001b[39mlen\u001b[39m(uniques) \u001b[39m>\u001b[39m \u001b[39m1\u001b[39m:\n\u001b[0;32m--> 387\u001b[0m     \u001b[39mraise\u001b[39;00m \u001b[39mValueError\u001b[39;00m(\n\u001b[1;32m    388\u001b[0m         \u001b[39m\"\u001b[39m\u001b[39mFound input variables with inconsistent numbers of samples: \u001b[39m\u001b[39m%r\u001b[39;00m\u001b[39m\"\u001b[39m\n\u001b[1;32m    389\u001b[0m         \u001b[39m%\u001b[39m [\u001b[39mint\u001b[39m(l) \u001b[39mfor\u001b[39;00m l \u001b[39min\u001b[39;00m lengths]\n\u001b[1;32m    390\u001b[0m     )\n",
            "\u001b[0;31mValueError\u001b[0m: Found input variables with inconsistent numbers of samples: [118, 89]"
          ]
        }
      ],
      "source": [
        "import seaborn as sns\n",
        "\n",
        "cm = confusion_matrix(y_test, y_pred)\n",
        "sns.heatmap(cm, annot=True)"
      ]
    },
    {
      "cell_type": "code",
      "execution_count": 224,
      "metadata": {
        "colab": {
          "base_uri": "https://localhost:8080/"
        },
        "id": "011HdO_pM3e3",
        "outputId": "cbe1c88b-2cf4-4b00-eee6-c30b01ab383d"
      },
      "outputs": [
        {
          "ename": "ValueError",
          "evalue": "Found input variables with inconsistent numbers of samples: [118, 89]",
          "output_type": "error",
          "traceback": [
            "\u001b[0;31m---------------------------------------------------------------------------\u001b[0m",
            "\u001b[0;31mValueError\u001b[0m                                Traceback (most recent call last)",
            "\u001b[1;32m/Users/samuelguerrero/GitHub/1002-A/Reconocimiento-de-Patrones/Segundo Parcial/SeleccionCaracterísticas/Clasificadores.ipynb Cell 49\u001b[0m in \u001b[0;36m<cell line: 1>\u001b[0;34m()\u001b[0m\n\u001b[0;32m----> <a href='vscode-notebook-cell:/Users/samuelguerrero/GitHub/1002-A/Reconocimiento-de-Patrones/Segundo%20Parcial/SeleccionCaracter%C3%ADsticas/Clasificadores.ipynb#X54sZmlsZQ%3D%3D?line=0'>1</a>\u001b[0m \u001b[39mprint\u001b[39m(classification_report(y_test, y_pred))\n",
            "File \u001b[0;32m~/anaconda3/lib/python3.9/site-packages/sklearn/metrics/_classification.py:2125\u001b[0m, in \u001b[0;36mclassification_report\u001b[0;34m(y_true, y_pred, labels, target_names, sample_weight, digits, output_dict, zero_division)\u001b[0m\n\u001b[1;32m   2010\u001b[0m \u001b[39mdef\u001b[39;00m \u001b[39mclassification_report\u001b[39m(\n\u001b[1;32m   2011\u001b[0m     y_true,\n\u001b[1;32m   2012\u001b[0m     y_pred,\n\u001b[0;32m   (...)\u001b[0m\n\u001b[1;32m   2019\u001b[0m     zero_division\u001b[39m=\u001b[39m\u001b[39m\"\u001b[39m\u001b[39mwarn\u001b[39m\u001b[39m\"\u001b[39m,\n\u001b[1;32m   2020\u001b[0m ):\n\u001b[1;32m   2021\u001b[0m     \u001b[39m\"\"\"Build a text report showing the main classification metrics.\u001b[39;00m\n\u001b[1;32m   2022\u001b[0m \n\u001b[1;32m   2023\u001b[0m \u001b[39m    Read more in the :ref:`User Guide <classification_report>`.\u001b[39;00m\n\u001b[0;32m   (...)\u001b[0m\n\u001b[1;32m   2122\u001b[0m \u001b[39m    <BLANKLINE>\u001b[39;00m\n\u001b[1;32m   2123\u001b[0m \u001b[39m    \"\"\"\u001b[39;00m\n\u001b[0;32m-> 2125\u001b[0m     y_type, y_true, y_pred \u001b[39m=\u001b[39m _check_targets(y_true, y_pred)\n\u001b[1;32m   2127\u001b[0m     \u001b[39mif\u001b[39;00m labels \u001b[39mis\u001b[39;00m \u001b[39mNone\u001b[39;00m:\n\u001b[1;32m   2128\u001b[0m         labels \u001b[39m=\u001b[39m unique_labels(y_true, y_pred)\n",
            "File \u001b[0;32m~/anaconda3/lib/python3.9/site-packages/sklearn/metrics/_classification.py:84\u001b[0m, in \u001b[0;36m_check_targets\u001b[0;34m(y_true, y_pred)\u001b[0m\n\u001b[1;32m     57\u001b[0m \u001b[39mdef\u001b[39;00m \u001b[39m_check_targets\u001b[39m(y_true, y_pred):\n\u001b[1;32m     58\u001b[0m     \u001b[39m\"\"\"Check that y_true and y_pred belong to the same classification task.\u001b[39;00m\n\u001b[1;32m     59\u001b[0m \n\u001b[1;32m     60\u001b[0m \u001b[39m    This converts multiclass or binary types to a common shape, and raises a\u001b[39;00m\n\u001b[0;32m   (...)\u001b[0m\n\u001b[1;32m     82\u001b[0m \u001b[39m    y_pred : array or indicator matrix\u001b[39;00m\n\u001b[1;32m     83\u001b[0m \u001b[39m    \"\"\"\u001b[39;00m\n\u001b[0;32m---> 84\u001b[0m     check_consistent_length(y_true, y_pred)\n\u001b[1;32m     85\u001b[0m     type_true \u001b[39m=\u001b[39m type_of_target(y_true, input_name\u001b[39m=\u001b[39m\u001b[39m\"\u001b[39m\u001b[39my_true\u001b[39m\u001b[39m\"\u001b[39m)\n\u001b[1;32m     86\u001b[0m     type_pred \u001b[39m=\u001b[39m type_of_target(y_pred, input_name\u001b[39m=\u001b[39m\u001b[39m\"\u001b[39m\u001b[39my_pred\u001b[39m\u001b[39m\"\u001b[39m)\n",
            "File \u001b[0;32m~/anaconda3/lib/python3.9/site-packages/sklearn/utils/validation.py:387\u001b[0m, in \u001b[0;36mcheck_consistent_length\u001b[0;34m(*arrays)\u001b[0m\n\u001b[1;32m    385\u001b[0m uniques \u001b[39m=\u001b[39m np\u001b[39m.\u001b[39munique(lengths)\n\u001b[1;32m    386\u001b[0m \u001b[39mif\u001b[39;00m \u001b[39mlen\u001b[39m(uniques) \u001b[39m>\u001b[39m \u001b[39m1\u001b[39m:\n\u001b[0;32m--> 387\u001b[0m     \u001b[39mraise\u001b[39;00m \u001b[39mValueError\u001b[39;00m(\n\u001b[1;32m    388\u001b[0m         \u001b[39m\"\u001b[39m\u001b[39mFound input variables with inconsistent numbers of samples: \u001b[39m\u001b[39m%r\u001b[39;00m\u001b[39m\"\u001b[39m\n\u001b[1;32m    389\u001b[0m         \u001b[39m%\u001b[39m [\u001b[39mint\u001b[39m(l) \u001b[39mfor\u001b[39;00m l \u001b[39min\u001b[39;00m lengths]\n\u001b[1;32m    390\u001b[0m     )\n",
            "\u001b[0;31mValueError\u001b[0m: Found input variables with inconsistent numbers of samples: [118, 89]"
          ]
        }
      ],
      "source": [
        "print(classification_report(y_test, y_pred))"
      ]
    },
    {
      "cell_type": "code",
      "execution_count": 230,
      "metadata": {
        "colab": {
          "base_uri": "https://localhost:8080/"
        },
        "id": "U-HYqiFrLWBj",
        "outputId": "52cc8f1a-3794-4c05-bfa4-7a86af1e870d"
      },
      "outputs": [
        {
          "ename": "ValueError",
          "evalue": "y should be a 1d array, got an array of shape (176, 0) instead.",
          "output_type": "error",
          "traceback": [
            "\u001b[0;31m---------------------------------------------------------------------------\u001b[0m",
            "\u001b[0;31mValueError\u001b[0m                                Traceback (most recent call last)",
            "\u001b[1;32m/Users/samuelguerrero/GitHub/1002-A/Reconocimiento-de-Patrones/Segundo Parcial/SeleccionCaracterísticas/Clasificadores.ipynb Cell 50\u001b[0m in \u001b[0;36m<cell line: 5>\u001b[0;34m()\u001b[0m\n\u001b[1;32m      <a href='vscode-notebook-cell:/Users/samuelguerrero/GitHub/1002-A/Reconocimiento-de-Patrones/Segundo%20Parcial/SeleccionCaracter%C3%ADsticas/Clasificadores.ipynb#X55sZmlsZQ%3D%3D?line=0'>1</a>\u001b[0m X_train2, X_test2, y_train2, y_test2 \u001b[39m=\u001b[39m train_test_split(X_encoded, y, test_size\u001b[39m=\u001b[39m\u001b[39m0.4\u001b[39m, random_state\u001b[39m=\u001b[39m\u001b[39m42\u001b[39m)\n\u001b[1;32m      <a href='vscode-notebook-cell:/Users/samuelguerrero/GitHub/1002-A/Reconocimiento-de-Patrones/Segundo%20Parcial/SeleccionCaracter%C3%ADsticas/Clasificadores.ipynb#X55sZmlsZQ%3D%3D?line=2'>3</a>\u001b[0m nb \u001b[39m=\u001b[39m CategoricalNB()\n\u001b[0;32m----> <a href='vscode-notebook-cell:/Users/samuelguerrero/GitHub/1002-A/Reconocimiento-de-Patrones/Segundo%20Parcial/SeleccionCaracter%C3%ADsticas/Clasificadores.ipynb#X55sZmlsZQ%3D%3D?line=4'>5</a>\u001b[0m nb\u001b[39m.\u001b[39;49mfit(X_train2, y_train2)\n\u001b[1;32m      <a href='vscode-notebook-cell:/Users/samuelguerrero/GitHub/1002-A/Reconocimiento-de-Patrones/Segundo%20Parcial/SeleccionCaracter%C3%ADsticas/Clasificadores.ipynb#X55sZmlsZQ%3D%3D?line=6'>7</a>\u001b[0m y_pred2 \u001b[39m=\u001b[39m nb\u001b[39m.\u001b[39mpredict(X_test2)\n\u001b[1;32m      <a href='vscode-notebook-cell:/Users/samuelguerrero/GitHub/1002-A/Reconocimiento-de-Patrones/Segundo%20Parcial/SeleccionCaracter%C3%ADsticas/Clasificadores.ipynb#X55sZmlsZQ%3D%3D?line=8'>9</a>\u001b[0m accuracy \u001b[39m=\u001b[39m accuracy_score(y_test2, y_pred2)\n",
            "File \u001b[0;32m~/anaconda3/lib/python3.9/site-packages/sklearn/naive_bayes.py:1290\u001b[0m, in \u001b[0;36mCategoricalNB.fit\u001b[0;34m(self, X, y, sample_weight)\u001b[0m\n\u001b[1;32m   1265\u001b[0m \u001b[39mdef\u001b[39;00m \u001b[39mfit\u001b[39m(\u001b[39mself\u001b[39m, X, y, sample_weight\u001b[39m=\u001b[39m\u001b[39mNone\u001b[39;00m):\n\u001b[1;32m   1266\u001b[0m     \u001b[39m\"\"\"Fit Naive Bayes classifier according to X, y.\u001b[39;00m\n\u001b[1;32m   1267\u001b[0m \n\u001b[1;32m   1268\u001b[0m \u001b[39m    Parameters\u001b[39;00m\n\u001b[0;32m   (...)\u001b[0m\n\u001b[1;32m   1288\u001b[0m \u001b[39m        Returns the instance itself.\u001b[39;00m\n\u001b[1;32m   1289\u001b[0m \u001b[39m    \"\"\"\u001b[39;00m\n\u001b[0;32m-> 1290\u001b[0m     \u001b[39mreturn\u001b[39;00m \u001b[39msuper\u001b[39;49m()\u001b[39m.\u001b[39;49mfit(X, y, sample_weight\u001b[39m=\u001b[39;49msample_weight)\n",
            "File \u001b[0;32m~/anaconda3/lib/python3.9/site-packages/sklearn/naive_bayes.py:699\u001b[0m, in \u001b[0;36m_BaseDiscreteNB.fit\u001b[0;34m(self, X, y, sample_weight)\u001b[0m\n\u001b[1;32m    679\u001b[0m \u001b[39mdef\u001b[39;00m \u001b[39mfit\u001b[39m(\u001b[39mself\u001b[39m, X, y, sample_weight\u001b[39m=\u001b[39m\u001b[39mNone\u001b[39;00m):\n\u001b[1;32m    680\u001b[0m     \u001b[39m\"\"\"Fit Naive Bayes classifier according to X, y.\u001b[39;00m\n\u001b[1;32m    681\u001b[0m \n\u001b[1;32m    682\u001b[0m \u001b[39m    Parameters\u001b[39;00m\n\u001b[0;32m   (...)\u001b[0m\n\u001b[1;32m    697\u001b[0m \u001b[39m        Returns the instance itself.\u001b[39;00m\n\u001b[1;32m    698\u001b[0m \u001b[39m    \"\"\"\u001b[39;00m\n\u001b[0;32m--> 699\u001b[0m     X, y \u001b[39m=\u001b[39m \u001b[39mself\u001b[39;49m\u001b[39m.\u001b[39;49m_check_X_y(X, y)\n\u001b[1;32m    700\u001b[0m     _, n_features \u001b[39m=\u001b[39m X\u001b[39m.\u001b[39mshape\n\u001b[1;32m    702\u001b[0m     labelbin \u001b[39m=\u001b[39m LabelBinarizer()\n",
            "File \u001b[0;32m~/anaconda3/lib/python3.9/site-packages/sklearn/naive_bayes.py:1348\u001b[0m, in \u001b[0;36mCategoricalNB._check_X_y\u001b[0;34m(self, X, y, reset)\u001b[0m\n\u001b[1;32m   1347\u001b[0m \u001b[39mdef\u001b[39;00m \u001b[39m_check_X_y\u001b[39m(\u001b[39mself\u001b[39m, X, y, reset\u001b[39m=\u001b[39m\u001b[39mTrue\u001b[39;00m):\n\u001b[0;32m-> 1348\u001b[0m     X, y \u001b[39m=\u001b[39m \u001b[39mself\u001b[39;49m\u001b[39m.\u001b[39;49m_validate_data(\n\u001b[1;32m   1349\u001b[0m         X, y, dtype\u001b[39m=\u001b[39;49m\u001b[39m\"\u001b[39;49m\u001b[39mint\u001b[39;49m\u001b[39m\"\u001b[39;49m, accept_sparse\u001b[39m=\u001b[39;49m\u001b[39mFalse\u001b[39;49;00m, force_all_finite\u001b[39m=\u001b[39;49m\u001b[39mTrue\u001b[39;49;00m, reset\u001b[39m=\u001b[39;49mreset\n\u001b[1;32m   1350\u001b[0m     )\n\u001b[1;32m   1351\u001b[0m     check_non_negative(X, \u001b[39m\"\u001b[39m\u001b[39mCategoricalNB (input X)\u001b[39m\u001b[39m\"\u001b[39m)\n\u001b[1;32m   1352\u001b[0m     \u001b[39mreturn\u001b[39;00m X, y\n",
            "File \u001b[0;32m~/anaconda3/lib/python3.9/site-packages/sklearn/base.py:596\u001b[0m, in \u001b[0;36mBaseEstimator._validate_data\u001b[0;34m(self, X, y, reset, validate_separately, **check_params)\u001b[0m\n\u001b[1;32m    594\u001b[0m         y \u001b[39m=\u001b[39m check_array(y, input_name\u001b[39m=\u001b[39m\u001b[39m\"\u001b[39m\u001b[39my\u001b[39m\u001b[39m\"\u001b[39m, \u001b[39m*\u001b[39m\u001b[39m*\u001b[39mcheck_y_params)\n\u001b[1;32m    595\u001b[0m     \u001b[39melse\u001b[39;00m:\n\u001b[0;32m--> 596\u001b[0m         X, y \u001b[39m=\u001b[39m check_X_y(X, y, \u001b[39m*\u001b[39;49m\u001b[39m*\u001b[39;49mcheck_params)\n\u001b[1;32m    597\u001b[0m     out \u001b[39m=\u001b[39m X, y\n\u001b[1;32m    599\u001b[0m \u001b[39mif\u001b[39;00m \u001b[39mnot\u001b[39;00m no_val_X \u001b[39mand\u001b[39;00m check_params\u001b[39m.\u001b[39mget(\u001b[39m\"\u001b[39m\u001b[39mensure_2d\u001b[39m\u001b[39m\"\u001b[39m, \u001b[39mTrue\u001b[39;00m):\n",
            "File \u001b[0;32m~/anaconda3/lib/python3.9/site-packages/sklearn/utils/validation.py:1090\u001b[0m, in \u001b[0;36mcheck_X_y\u001b[0;34m(X, y, accept_sparse, accept_large_sparse, dtype, order, copy, force_all_finite, ensure_2d, allow_nd, multi_output, ensure_min_samples, ensure_min_features, y_numeric, estimator)\u001b[0m\n\u001b[1;32m   1070\u001b[0m     \u001b[39mraise\u001b[39;00m \u001b[39mValueError\u001b[39;00m(\n\u001b[1;32m   1071\u001b[0m         \u001b[39mf\u001b[39m\u001b[39m\"\u001b[39m\u001b[39m{\u001b[39;00mestimator_name\u001b[39m}\u001b[39;00m\u001b[39m requires y to be passed, but the target y is None\u001b[39m\u001b[39m\"\u001b[39m\n\u001b[1;32m   1072\u001b[0m     )\n\u001b[1;32m   1074\u001b[0m X \u001b[39m=\u001b[39m check_array(\n\u001b[1;32m   1075\u001b[0m     X,\n\u001b[1;32m   1076\u001b[0m     accept_sparse\u001b[39m=\u001b[39maccept_sparse,\n\u001b[0;32m   (...)\u001b[0m\n\u001b[1;32m   1087\u001b[0m     input_name\u001b[39m=\u001b[39m\u001b[39m\"\u001b[39m\u001b[39mX\u001b[39m\u001b[39m\"\u001b[39m,\n\u001b[1;32m   1088\u001b[0m )\n\u001b[0;32m-> 1090\u001b[0m y \u001b[39m=\u001b[39m _check_y(y, multi_output\u001b[39m=\u001b[39;49mmulti_output, y_numeric\u001b[39m=\u001b[39;49my_numeric, estimator\u001b[39m=\u001b[39;49mestimator)\n\u001b[1;32m   1092\u001b[0m check_consistent_length(X, y)\n\u001b[1;32m   1094\u001b[0m \u001b[39mreturn\u001b[39;00m X, y\n",
            "File \u001b[0;32m~/anaconda3/lib/python3.9/site-packages/sklearn/utils/validation.py:1111\u001b[0m, in \u001b[0;36m_check_y\u001b[0;34m(y, multi_output, y_numeric, estimator)\u001b[0m\n\u001b[1;32m   1109\u001b[0m \u001b[39melse\u001b[39;00m:\n\u001b[1;32m   1110\u001b[0m     estimator_name \u001b[39m=\u001b[39m _check_estimator_name(estimator)\n\u001b[0;32m-> 1111\u001b[0m     y \u001b[39m=\u001b[39m column_or_1d(y, warn\u001b[39m=\u001b[39;49m\u001b[39mTrue\u001b[39;49;00m)\n\u001b[1;32m   1112\u001b[0m     _assert_all_finite(y, input_name\u001b[39m=\u001b[39m\u001b[39m\"\u001b[39m\u001b[39my\u001b[39m\u001b[39m\"\u001b[39m, estimator_name\u001b[39m=\u001b[39mestimator_name)\n\u001b[1;32m   1113\u001b[0m     _ensure_no_complex_data(y)\n",
            "File \u001b[0;32m~/anaconda3/lib/python3.9/site-packages/sklearn/utils/validation.py:1156\u001b[0m, in \u001b[0;36mcolumn_or_1d\u001b[0;34m(y, warn)\u001b[0m\n\u001b[1;32m   1147\u001b[0m         warnings\u001b[39m.\u001b[39mwarn(\n\u001b[1;32m   1148\u001b[0m             \u001b[39m\"\u001b[39m\u001b[39mA column-vector y was passed when a 1d array was\u001b[39m\u001b[39m\"\u001b[39m\n\u001b[1;32m   1149\u001b[0m             \u001b[39m\"\u001b[39m\u001b[39m expected. Please change the shape of y to \u001b[39m\u001b[39m\"\u001b[39m\n\u001b[0;32m   (...)\u001b[0m\n\u001b[1;32m   1152\u001b[0m             stacklevel\u001b[39m=\u001b[39m\u001b[39m2\u001b[39m,\n\u001b[1;32m   1153\u001b[0m         )\n\u001b[1;32m   1154\u001b[0m     \u001b[39mreturn\u001b[39;00m np\u001b[39m.\u001b[39mravel(y)\n\u001b[0;32m-> 1156\u001b[0m \u001b[39mraise\u001b[39;00m \u001b[39mValueError\u001b[39;00m(\n\u001b[1;32m   1157\u001b[0m     \u001b[39m\"\u001b[39m\u001b[39my should be a 1d array, got an array of shape \u001b[39m\u001b[39m{}\u001b[39;00m\u001b[39m instead.\u001b[39m\u001b[39m\"\u001b[39m\u001b[39m.\u001b[39mformat(shape)\n\u001b[1;32m   1158\u001b[0m )\n",
            "\u001b[0;31mValueError\u001b[0m: y should be a 1d array, got an array of shape (176, 0) instead."
          ]
        }
      ],
      "source": [
        "X_train2, X_test2, y_train2, y_test2 = train_test_split(X_encoded, y, test_size=0.4, random_state=42)\n",
        "\n",
        "nb = CategoricalNB()\n",
        "\n",
        "nb.fit(X_train2, y_train2)\n",
        "\n",
        "y_pred2 = nb.predict(X_test2)\n",
        "\n",
        "accuracy = accuracy_score(y_test2, y_pred2)\n",
        "print(\"Precisión del clasificador Bayes Ingenuo:\", accuracy)"
      ]
    },
    {
      "cell_type": "code",
      "execution_count": 226,
      "metadata": {
        "colab": {
          "base_uri": "https://localhost:8080/",
          "height": 447
        },
        "id": "F11C3zXVLWZ1",
        "outputId": "2466c5ae-c3fa-44e2-f382-7ff443fea7ec"
      },
      "outputs": [
        {
          "ename": "ValueError",
          "evalue": "Found input variables with inconsistent numbers of samples: [118, 145]",
          "output_type": "error",
          "traceback": [
            "\u001b[0;31m---------------------------------------------------------------------------\u001b[0m",
            "\u001b[0;31mValueError\u001b[0m                                Traceback (most recent call last)",
            "\u001b[1;32m/Users/samuelguerrero/GitHub/1002-A/Reconocimiento-de-Patrones/Segundo Parcial/SeleccionCaracterísticas/Clasificadores.ipynb Cell 51\u001b[0m in \u001b[0;36m<cell line: 3>\u001b[0;34m()\u001b[0m\n\u001b[1;32m      <a href='vscode-notebook-cell:/Users/samuelguerrero/GitHub/1002-A/Reconocimiento-de-Patrones/Segundo%20Parcial/SeleccionCaracter%C3%ADsticas/Clasificadores.ipynb#X56sZmlsZQ%3D%3D?line=0'>1</a>\u001b[0m \u001b[39mimport\u001b[39;00m \u001b[39mseaborn\u001b[39;00m \u001b[39mas\u001b[39;00m \u001b[39msns\u001b[39;00m\n\u001b[0;32m----> <a href='vscode-notebook-cell:/Users/samuelguerrero/GitHub/1002-A/Reconocimiento-de-Patrones/Segundo%20Parcial/SeleccionCaracter%C3%ADsticas/Clasificadores.ipynb#X56sZmlsZQ%3D%3D?line=2'>3</a>\u001b[0m cm \u001b[39m=\u001b[39m confusion_matrix(y_test2, y_pred2)\n\u001b[1;32m      <a href='vscode-notebook-cell:/Users/samuelguerrero/GitHub/1002-A/Reconocimiento-de-Patrones/Segundo%20Parcial/SeleccionCaracter%C3%ADsticas/Clasificadores.ipynb#X56sZmlsZQ%3D%3D?line=3'>4</a>\u001b[0m sns\u001b[39m.\u001b[39mheatmap(cm, annot\u001b[39m=\u001b[39m\u001b[39mTrue\u001b[39;00m)\n",
            "File \u001b[0;32m~/anaconda3/lib/python3.9/site-packages/sklearn/metrics/_classification.py:307\u001b[0m, in \u001b[0;36mconfusion_matrix\u001b[0;34m(y_true, y_pred, labels, sample_weight, normalize)\u001b[0m\n\u001b[1;32m    222\u001b[0m \u001b[39mdef\u001b[39;00m \u001b[39mconfusion_matrix\u001b[39m(\n\u001b[1;32m    223\u001b[0m     y_true, y_pred, \u001b[39m*\u001b[39m, labels\u001b[39m=\u001b[39m\u001b[39mNone\u001b[39;00m, sample_weight\u001b[39m=\u001b[39m\u001b[39mNone\u001b[39;00m, normalize\u001b[39m=\u001b[39m\u001b[39mNone\u001b[39;00m\n\u001b[1;32m    224\u001b[0m ):\n\u001b[1;32m    225\u001b[0m     \u001b[39m\"\"\"Compute confusion matrix to evaluate the accuracy of a classification.\u001b[39;00m\n\u001b[1;32m    226\u001b[0m \n\u001b[1;32m    227\u001b[0m \u001b[39m    By definition a confusion matrix :math:`C` is such that :math:`C_{i, j}`\u001b[39;00m\n\u001b[0;32m   (...)\u001b[0m\n\u001b[1;32m    305\u001b[0m \u001b[39m    (0, 2, 1, 1)\u001b[39;00m\n\u001b[1;32m    306\u001b[0m \u001b[39m    \"\"\"\u001b[39;00m\n\u001b[0;32m--> 307\u001b[0m     y_type, y_true, y_pred \u001b[39m=\u001b[39m _check_targets(y_true, y_pred)\n\u001b[1;32m    308\u001b[0m     \u001b[39mif\u001b[39;00m y_type \u001b[39mnot\u001b[39;00m \u001b[39min\u001b[39;00m (\u001b[39m\"\u001b[39m\u001b[39mbinary\u001b[39m\u001b[39m\"\u001b[39m, \u001b[39m\"\u001b[39m\u001b[39mmulticlass\u001b[39m\u001b[39m\"\u001b[39m):\n\u001b[1;32m    309\u001b[0m         \u001b[39mraise\u001b[39;00m \u001b[39mValueError\u001b[39;00m(\u001b[39m\"\u001b[39m\u001b[39m%s\u001b[39;00m\u001b[39m is not supported\u001b[39m\u001b[39m\"\u001b[39m \u001b[39m%\u001b[39m y_type)\n",
            "File \u001b[0;32m~/anaconda3/lib/python3.9/site-packages/sklearn/metrics/_classification.py:84\u001b[0m, in \u001b[0;36m_check_targets\u001b[0;34m(y_true, y_pred)\u001b[0m\n\u001b[1;32m     57\u001b[0m \u001b[39mdef\u001b[39;00m \u001b[39m_check_targets\u001b[39m(y_true, y_pred):\n\u001b[1;32m     58\u001b[0m     \u001b[39m\"\"\"Check that y_true and y_pred belong to the same classification task.\u001b[39;00m\n\u001b[1;32m     59\u001b[0m \n\u001b[1;32m     60\u001b[0m \u001b[39m    This converts multiclass or binary types to a common shape, and raises a\u001b[39;00m\n\u001b[0;32m   (...)\u001b[0m\n\u001b[1;32m     82\u001b[0m \u001b[39m    y_pred : array or indicator matrix\u001b[39;00m\n\u001b[1;32m     83\u001b[0m \u001b[39m    \"\"\"\u001b[39;00m\n\u001b[0;32m---> 84\u001b[0m     check_consistent_length(y_true, y_pred)\n\u001b[1;32m     85\u001b[0m     type_true \u001b[39m=\u001b[39m type_of_target(y_true, input_name\u001b[39m=\u001b[39m\u001b[39m\"\u001b[39m\u001b[39my_true\u001b[39m\u001b[39m\"\u001b[39m)\n\u001b[1;32m     86\u001b[0m     type_pred \u001b[39m=\u001b[39m type_of_target(y_pred, input_name\u001b[39m=\u001b[39m\u001b[39m\"\u001b[39m\u001b[39my_pred\u001b[39m\u001b[39m\"\u001b[39m)\n",
            "File \u001b[0;32m~/anaconda3/lib/python3.9/site-packages/sklearn/utils/validation.py:387\u001b[0m, in \u001b[0;36mcheck_consistent_length\u001b[0;34m(*arrays)\u001b[0m\n\u001b[1;32m    385\u001b[0m uniques \u001b[39m=\u001b[39m np\u001b[39m.\u001b[39munique(lengths)\n\u001b[1;32m    386\u001b[0m \u001b[39mif\u001b[39;00m \u001b[39mlen\u001b[39m(uniques) \u001b[39m>\u001b[39m \u001b[39m1\u001b[39m:\n\u001b[0;32m--> 387\u001b[0m     \u001b[39mraise\u001b[39;00m \u001b[39mValueError\u001b[39;00m(\n\u001b[1;32m    388\u001b[0m         \u001b[39m\"\u001b[39m\u001b[39mFound input variables with inconsistent numbers of samples: \u001b[39m\u001b[39m%r\u001b[39;00m\u001b[39m\"\u001b[39m\n\u001b[1;32m    389\u001b[0m         \u001b[39m%\u001b[39m [\u001b[39mint\u001b[39m(l) \u001b[39mfor\u001b[39;00m l \u001b[39min\u001b[39;00m lengths]\n\u001b[1;32m    390\u001b[0m     )\n",
            "\u001b[0;31mValueError\u001b[0m: Found input variables with inconsistent numbers of samples: [118, 145]"
          ]
        }
      ],
      "source": [
        "import seaborn as sns\n",
        "\n",
        "cm = confusion_matrix(y_test2, y_pred2)\n",
        "sns.heatmap(cm, annot=True)"
      ]
    },
    {
      "cell_type": "code",
      "execution_count": null,
      "metadata": {
        "colab": {
          "base_uri": "https://localhost:8080/"
        },
        "id": "BnRCp7zPM4cX",
        "outputId": "1ff75bdb-8800-4691-fcdf-59af64940f66"
      },
      "outputs": [
        {
          "name": "stdout",
          "output_type": "stream",
          "text": [
            "              precision    recall  f1-score   support\n",
            "\n",
            "       bueno       0.00      0.00      0.00         3\n",
            "        malo       0.70      0.82      0.76        17\n",
            "     regular       0.84      0.84      0.84        37\n",
            "\n",
            "    accuracy                           0.79        57\n",
            "   macro avg       0.51      0.55      0.53        57\n",
            "weighted avg       0.75      0.79      0.77        57\n",
            "\n"
          ]
        }
      ],
      "source": [
        "print(classification_report(y_test2, y_pred2))"
      ]
    },
    {
      "attachments": {},
      "cell_type": "markdown",
      "metadata": {
        "id": "j8jXFc6rQJgG"
      },
      "source": [
        "### K-fold"
      ]
    },
    {
      "cell_type": "code",
      "execution_count": null,
      "metadata": {
        "colab": {
          "base_uri": "https://localhost:8080/"
        },
        "id": "JwM92davQil1",
        "outputId": "1022f276-fa7d-46fa-a8d6-2684d23f71f6"
      },
      "outputs": [
        {
          "name": "stdout",
          "output_type": "stream",
          "text": [
            "              precision    recall  f1-score   support\n",
            "\n",
            "       bueno       0.14      0.67      0.24         3\n",
            "        malo       0.67      0.80      0.73         5\n",
            "     regular       0.89      0.38      0.53        21\n",
            "\n",
            "    accuracy                           0.48        29\n",
            "   macro avg       0.57      0.62      0.50        29\n",
            "weighted avg       0.77      0.48      0.54        29\n",
            "\n",
            "Precisión del clasificador KNN: 0.4827586206896552\n",
            "              precision    recall  f1-score   support\n",
            "\n",
            "       bueno       0.00      0.00      0.00         1\n",
            "        malo       0.50      0.50      0.50        12\n",
            "     regular       0.59      0.62      0.61        16\n",
            "\n",
            "    accuracy                           0.55        29\n",
            "   macro avg       0.36      0.38      0.37        29\n",
            "weighted avg       0.53      0.55      0.54        29\n",
            "\n",
            "Precisión del clasificador KNN: 0.5517241379310345\n",
            "              precision    recall  f1-score   support\n",
            "\n",
            "       bueno       0.00      0.00      0.00         1\n",
            "        malo       1.00      0.33      0.50         9\n",
            "     regular       0.72      1.00      0.84        18\n",
            "\n",
            "    accuracy                           0.75        28\n",
            "   macro avg       0.57      0.44      0.45        28\n",
            "weighted avg       0.78      0.75      0.70        28\n",
            "\n",
            "Precisión del clasificador KNN: 0.75\n",
            "              precision    recall  f1-score   support\n",
            "\n",
            "        malo       1.00      0.33      0.50        12\n",
            "     regular       0.67      1.00      0.80        16\n",
            "\n",
            "    accuracy                           0.71        28\n",
            "   macro avg       0.83      0.67      0.65        28\n",
            "weighted avg       0.81      0.71      0.67        28\n",
            "\n",
            "Precisión del clasificador KNN: 0.7142857142857143\n",
            "              precision    recall  f1-score   support\n",
            "\n",
            "       bueno       0.00      0.00      0.00         4\n",
            "        malo       0.67      1.00      0.80         4\n",
            "     regular       0.79      0.75      0.77        20\n",
            "\n",
            "    accuracy                           0.68        28\n",
            "   macro avg       0.49      0.58      0.52        28\n",
            "weighted avg       0.66      0.68      0.66        28\n",
            "\n",
            "Precisión del clasificador KNN: 0.6785714285714286\n"
          ]
        }
      ],
      "source": [
        "warnings.filterwarnings('ignore')\n",
        "\n",
        "kf = KFold(n_splits=5, shuffle=True, random_state=2)\n",
        "y1 = y.values\n",
        "\n",
        "X_encoded = encoder.fit_transform(X)\n",
        "for i , (train_index, test_index) in enumerate(kf.split(X_encoded,y1)):\n",
        "    X_train, X_test = X_encoded[train_index], X_encoded[test_index]\n",
        "    y_train, y_test = y1[train_index], y1[test_index]\n",
        "\n",
        "    knn = KNeighborsClassifier(n_neighbors=3)\n",
        "    knn.fit(X_train, y_train)\n",
        "\n",
        "    y_pred = knn.predict(X_test)\n",
        "    accuracy = accuracy_score(y_test, y_pred)\n",
        "    print(classification_report(y_test, y_pred))\n",
        "    print(\"Precisión del clasificador KNN:\", accuracy)"
      ]
    },
    {
      "cell_type": "code",
      "execution_count": 227,
      "metadata": {
        "colab": {
          "base_uri": "https://localhost:8080/"
        },
        "id": "jiAa8uRTSiUt",
        "outputId": "613c892b-b625-4ad9-b51a-823f131551bc"
      },
      "outputs": [
        {
          "name": "stdout",
          "output_type": "stream",
          "text": [
            "235 59\n"
          ]
        },
        {
          "ename": "ValueError",
          "evalue": "y should be a 1d array, got an array of shape (235, 0) instead.",
          "output_type": "error",
          "traceback": [
            "\u001b[0;31m---------------------------------------------------------------------------\u001b[0m",
            "\u001b[0;31mValueError\u001b[0m                                Traceback (most recent call last)",
            "\u001b[1;32m/Users/samuelguerrero/GitHub/1002-A/Reconocimiento-de-Patrones/Segundo Parcial/SeleccionCaracterísticas/Clasificadores.ipynb Cell 55\u001b[0m in \u001b[0;36m<cell line: 7>\u001b[0;34m()\u001b[0m\n\u001b[1;32m     <a href='vscode-notebook-cell:/Users/samuelguerrero/GitHub/1002-A/Reconocimiento-de-Patrones/Segundo%20Parcial/SeleccionCaracter%C3%ADsticas/Clasificadores.ipynb#X63sZmlsZQ%3D%3D?line=10'>11</a>\u001b[0m \u001b[39mprint\u001b[39m(X_train\u001b[39m.\u001b[39mshape[\u001b[39m0\u001b[39m], X_test\u001b[39m.\u001b[39mshape[\u001b[39m0\u001b[39m])\n\u001b[1;32m     <a href='vscode-notebook-cell:/Users/samuelguerrero/GitHub/1002-A/Reconocimiento-de-Patrones/Segundo%20Parcial/SeleccionCaracter%C3%ADsticas/Clasificadores.ipynb#X63sZmlsZQ%3D%3D?line=12'>13</a>\u001b[0m nb \u001b[39m=\u001b[39m CategoricalNB()\n\u001b[0;32m---> <a href='vscode-notebook-cell:/Users/samuelguerrero/GitHub/1002-A/Reconocimiento-de-Patrones/Segundo%20Parcial/SeleccionCaracter%C3%ADsticas/Clasificadores.ipynb#X63sZmlsZQ%3D%3D?line=13'>14</a>\u001b[0m nb\u001b[39m.\u001b[39;49mfit(X_train, y_train)\n\u001b[1;32m     <a href='vscode-notebook-cell:/Users/samuelguerrero/GitHub/1002-A/Reconocimiento-de-Patrones/Segundo%20Parcial/SeleccionCaracter%C3%ADsticas/Clasificadores.ipynb#X63sZmlsZQ%3D%3D?line=15'>16</a>\u001b[0m y_pred \u001b[39m=\u001b[39m nb\u001b[39m.\u001b[39mpredict(X_test)\n\u001b[1;32m     <a href='vscode-notebook-cell:/Users/samuelguerrero/GitHub/1002-A/Reconocimiento-de-Patrones/Segundo%20Parcial/SeleccionCaracter%C3%ADsticas/Clasificadores.ipynb#X63sZmlsZQ%3D%3D?line=16'>17</a>\u001b[0m accuracy \u001b[39m=\u001b[39m accuracy_score(y_test, y_pred)\n",
            "File \u001b[0;32m~/anaconda3/lib/python3.9/site-packages/sklearn/naive_bayes.py:1290\u001b[0m, in \u001b[0;36mCategoricalNB.fit\u001b[0;34m(self, X, y, sample_weight)\u001b[0m\n\u001b[1;32m   1265\u001b[0m \u001b[39mdef\u001b[39;00m \u001b[39mfit\u001b[39m(\u001b[39mself\u001b[39m, X, y, sample_weight\u001b[39m=\u001b[39m\u001b[39mNone\u001b[39;00m):\n\u001b[1;32m   1266\u001b[0m     \u001b[39m\"\"\"Fit Naive Bayes classifier according to X, y.\u001b[39;00m\n\u001b[1;32m   1267\u001b[0m \n\u001b[1;32m   1268\u001b[0m \u001b[39m    Parameters\u001b[39;00m\n\u001b[0;32m   (...)\u001b[0m\n\u001b[1;32m   1288\u001b[0m \u001b[39m        Returns the instance itself.\u001b[39;00m\n\u001b[1;32m   1289\u001b[0m \u001b[39m    \"\"\"\u001b[39;00m\n\u001b[0;32m-> 1290\u001b[0m     \u001b[39mreturn\u001b[39;00m \u001b[39msuper\u001b[39;49m()\u001b[39m.\u001b[39;49mfit(X, y, sample_weight\u001b[39m=\u001b[39;49msample_weight)\n",
            "File \u001b[0;32m~/anaconda3/lib/python3.9/site-packages/sklearn/naive_bayes.py:699\u001b[0m, in \u001b[0;36m_BaseDiscreteNB.fit\u001b[0;34m(self, X, y, sample_weight)\u001b[0m\n\u001b[1;32m    679\u001b[0m \u001b[39mdef\u001b[39;00m \u001b[39mfit\u001b[39m(\u001b[39mself\u001b[39m, X, y, sample_weight\u001b[39m=\u001b[39m\u001b[39mNone\u001b[39;00m):\n\u001b[1;32m    680\u001b[0m     \u001b[39m\"\"\"Fit Naive Bayes classifier according to X, y.\u001b[39;00m\n\u001b[1;32m    681\u001b[0m \n\u001b[1;32m    682\u001b[0m \u001b[39m    Parameters\u001b[39;00m\n\u001b[0;32m   (...)\u001b[0m\n\u001b[1;32m    697\u001b[0m \u001b[39m        Returns the instance itself.\u001b[39;00m\n\u001b[1;32m    698\u001b[0m \u001b[39m    \"\"\"\u001b[39;00m\n\u001b[0;32m--> 699\u001b[0m     X, y \u001b[39m=\u001b[39m \u001b[39mself\u001b[39;49m\u001b[39m.\u001b[39;49m_check_X_y(X, y)\n\u001b[1;32m    700\u001b[0m     _, n_features \u001b[39m=\u001b[39m X\u001b[39m.\u001b[39mshape\n\u001b[1;32m    702\u001b[0m     labelbin \u001b[39m=\u001b[39m LabelBinarizer()\n",
            "File \u001b[0;32m~/anaconda3/lib/python3.9/site-packages/sklearn/naive_bayes.py:1348\u001b[0m, in \u001b[0;36mCategoricalNB._check_X_y\u001b[0;34m(self, X, y, reset)\u001b[0m\n\u001b[1;32m   1347\u001b[0m \u001b[39mdef\u001b[39;00m \u001b[39m_check_X_y\u001b[39m(\u001b[39mself\u001b[39m, X, y, reset\u001b[39m=\u001b[39m\u001b[39mTrue\u001b[39;00m):\n\u001b[0;32m-> 1348\u001b[0m     X, y \u001b[39m=\u001b[39m \u001b[39mself\u001b[39;49m\u001b[39m.\u001b[39;49m_validate_data(\n\u001b[1;32m   1349\u001b[0m         X, y, dtype\u001b[39m=\u001b[39;49m\u001b[39m\"\u001b[39;49m\u001b[39mint\u001b[39;49m\u001b[39m\"\u001b[39;49m, accept_sparse\u001b[39m=\u001b[39;49m\u001b[39mFalse\u001b[39;49;00m, force_all_finite\u001b[39m=\u001b[39;49m\u001b[39mTrue\u001b[39;49;00m, reset\u001b[39m=\u001b[39;49mreset\n\u001b[1;32m   1350\u001b[0m     )\n\u001b[1;32m   1351\u001b[0m     check_non_negative(X, \u001b[39m\"\u001b[39m\u001b[39mCategoricalNB (input X)\u001b[39m\u001b[39m\"\u001b[39m)\n\u001b[1;32m   1352\u001b[0m     \u001b[39mreturn\u001b[39;00m X, y\n",
            "File \u001b[0;32m~/anaconda3/lib/python3.9/site-packages/sklearn/base.py:596\u001b[0m, in \u001b[0;36mBaseEstimator._validate_data\u001b[0;34m(self, X, y, reset, validate_separately, **check_params)\u001b[0m\n\u001b[1;32m    594\u001b[0m         y \u001b[39m=\u001b[39m check_array(y, input_name\u001b[39m=\u001b[39m\u001b[39m\"\u001b[39m\u001b[39my\u001b[39m\u001b[39m\"\u001b[39m, \u001b[39m*\u001b[39m\u001b[39m*\u001b[39mcheck_y_params)\n\u001b[1;32m    595\u001b[0m     \u001b[39melse\u001b[39;00m:\n\u001b[0;32m--> 596\u001b[0m         X, y \u001b[39m=\u001b[39m check_X_y(X, y, \u001b[39m*\u001b[39;49m\u001b[39m*\u001b[39;49mcheck_params)\n\u001b[1;32m    597\u001b[0m     out \u001b[39m=\u001b[39m X, y\n\u001b[1;32m    599\u001b[0m \u001b[39mif\u001b[39;00m \u001b[39mnot\u001b[39;00m no_val_X \u001b[39mand\u001b[39;00m check_params\u001b[39m.\u001b[39mget(\u001b[39m\"\u001b[39m\u001b[39mensure_2d\u001b[39m\u001b[39m\"\u001b[39m, \u001b[39mTrue\u001b[39;00m):\n",
            "File \u001b[0;32m~/anaconda3/lib/python3.9/site-packages/sklearn/utils/validation.py:1090\u001b[0m, in \u001b[0;36mcheck_X_y\u001b[0;34m(X, y, accept_sparse, accept_large_sparse, dtype, order, copy, force_all_finite, ensure_2d, allow_nd, multi_output, ensure_min_samples, ensure_min_features, y_numeric, estimator)\u001b[0m\n\u001b[1;32m   1070\u001b[0m     \u001b[39mraise\u001b[39;00m \u001b[39mValueError\u001b[39;00m(\n\u001b[1;32m   1071\u001b[0m         \u001b[39mf\u001b[39m\u001b[39m\"\u001b[39m\u001b[39m{\u001b[39;00mestimator_name\u001b[39m}\u001b[39;00m\u001b[39m requires y to be passed, but the target y is None\u001b[39m\u001b[39m\"\u001b[39m\n\u001b[1;32m   1072\u001b[0m     )\n\u001b[1;32m   1074\u001b[0m X \u001b[39m=\u001b[39m check_array(\n\u001b[1;32m   1075\u001b[0m     X,\n\u001b[1;32m   1076\u001b[0m     accept_sparse\u001b[39m=\u001b[39maccept_sparse,\n\u001b[0;32m   (...)\u001b[0m\n\u001b[1;32m   1087\u001b[0m     input_name\u001b[39m=\u001b[39m\u001b[39m\"\u001b[39m\u001b[39mX\u001b[39m\u001b[39m\"\u001b[39m,\n\u001b[1;32m   1088\u001b[0m )\n\u001b[0;32m-> 1090\u001b[0m y \u001b[39m=\u001b[39m _check_y(y, multi_output\u001b[39m=\u001b[39;49mmulti_output, y_numeric\u001b[39m=\u001b[39;49my_numeric, estimator\u001b[39m=\u001b[39;49mestimator)\n\u001b[1;32m   1092\u001b[0m check_consistent_length(X, y)\n\u001b[1;32m   1094\u001b[0m \u001b[39mreturn\u001b[39;00m X, y\n",
            "File \u001b[0;32m~/anaconda3/lib/python3.9/site-packages/sklearn/utils/validation.py:1111\u001b[0m, in \u001b[0;36m_check_y\u001b[0;34m(y, multi_output, y_numeric, estimator)\u001b[0m\n\u001b[1;32m   1109\u001b[0m \u001b[39melse\u001b[39;00m:\n\u001b[1;32m   1110\u001b[0m     estimator_name \u001b[39m=\u001b[39m _check_estimator_name(estimator)\n\u001b[0;32m-> 1111\u001b[0m     y \u001b[39m=\u001b[39m column_or_1d(y, warn\u001b[39m=\u001b[39;49m\u001b[39mTrue\u001b[39;49;00m)\n\u001b[1;32m   1112\u001b[0m     _assert_all_finite(y, input_name\u001b[39m=\u001b[39m\u001b[39m\"\u001b[39m\u001b[39my\u001b[39m\u001b[39m\"\u001b[39m, estimator_name\u001b[39m=\u001b[39mestimator_name)\n\u001b[1;32m   1113\u001b[0m     _ensure_no_complex_data(y)\n",
            "File \u001b[0;32m~/anaconda3/lib/python3.9/site-packages/sklearn/utils/validation.py:1156\u001b[0m, in \u001b[0;36mcolumn_or_1d\u001b[0;34m(y, warn)\u001b[0m\n\u001b[1;32m   1147\u001b[0m         warnings\u001b[39m.\u001b[39mwarn(\n\u001b[1;32m   1148\u001b[0m             \u001b[39m\"\u001b[39m\u001b[39mA column-vector y was passed when a 1d array was\u001b[39m\u001b[39m\"\u001b[39m\n\u001b[1;32m   1149\u001b[0m             \u001b[39m\"\u001b[39m\u001b[39m expected. Please change the shape of y to \u001b[39m\u001b[39m\"\u001b[39m\n\u001b[0;32m   (...)\u001b[0m\n\u001b[1;32m   1152\u001b[0m             stacklevel\u001b[39m=\u001b[39m\u001b[39m2\u001b[39m,\n\u001b[1;32m   1153\u001b[0m         )\n\u001b[1;32m   1154\u001b[0m     \u001b[39mreturn\u001b[39;00m np\u001b[39m.\u001b[39mravel(y)\n\u001b[0;32m-> 1156\u001b[0m \u001b[39mraise\u001b[39;00m \u001b[39mValueError\u001b[39;00m(\n\u001b[1;32m   1157\u001b[0m     \u001b[39m\"\u001b[39m\u001b[39my should be a 1d array, got an array of shape \u001b[39m\u001b[39m{}\u001b[39;00m\u001b[39m instead.\u001b[39m\u001b[39m\"\u001b[39m\u001b[39m.\u001b[39mformat(shape)\n\u001b[1;32m   1158\u001b[0m )\n",
            "\u001b[0;31mValueError\u001b[0m: y should be a 1d array, got an array of shape (235, 0) instead."
          ]
        }
      ],
      "source": [
        "warnings.filterwarnings('ignore')\n",
        "\n",
        "kf = KFold(n_splits=5, shuffle=True, random_state=2)\n",
        "y1 = y.values\n",
        "\n",
        "X_encoded = encoder.fit_transform(X)\n",
        "for i , (train_index, test_index) in enumerate(kf.split(X_encoded,y1)):\n",
        "    X_train, X_test = X_encoded[train_index], X_encoded[test_index]\n",
        "    y_train, y_test = y1[train_index], y1[test_index]\n",
        "\n",
        "    print(X_train.shape[0], X_test.shape[0])\n",
        "\n",
        "    nb = CategoricalNB()\n",
        "    nb.fit(X_train, y_train)\n",
        "\n",
        "    y_pred = nb.predict(X_test)\n",
        "    accuracy = accuracy_score(y_test, y_pred)\n",
        "    print(classification_report(y_test, y_pred))\n",
        "    print(\"Precisión del clasificador Bayes Ingenuo:\", accuracy)"
      ]
    },
    {
      "cell_type": "code",
      "execution_count": null,
      "metadata": {},
      "outputs": [],
      "source": [
        "import pickle\n",
        "\n",
        "df = pd.read_csv(\"Facebook.csv\")\n",
        "\n",
        "df = df.drop(columns=['Unnamed: 0'])\n",
        "\n",
        "encoder = OneHotEncoder(sparse=False)\n",
        "encoder.fit_transform(df.filter(items=['num_amigos', 'dias_mas_Publicaciones', 'paginas_que_sigue']))\n",
        "\n",
        "dato_prueba = np.array(['medio', 'fin de semana', 'pocas'])  # Dato categórico a codificar\n",
        "\n",
        "# Reshape del dato de prueba\n",
        "dato_prueba_reshape = dato_prueba.reshape(1, -1)\n",
        "\n",
        "# Transformar el dato de prueba\n",
        "dato_prueba_encoded = encoder.transform(dato_prueba_reshape)\n",
        "\n",
        "# Imprimir el dato codificado\n",
        "print(dato_prueba_encoded)\n",
        "\n",
        "\n",
        "# Its important to use binary mode \n",
        "knnPickle = open('FacebookFinal', 'wb')\n",
        "\n",
        "# source, destination \n",
        "pickle.dump(nb, knnPickle)  \n",
        "\n",
        "# close the file\n",
        "knnPickle.close()\n",
        "\n",
        "loaded_model = pickle.load(open('FacebookFinal', 'rb'))\n",
        "print(dato_prueba_encoded)\n",
        "result = loaded_model.predict(np.array(dato_prueba_encoded).reshape(1, -1)) \n",
        "print(result)"
      ]
    },
    {
      "cell_type": "code",
      "execution_count": 231,
      "metadata": {},
      "outputs": [
        {
          "data": {
            "text/html": [
              "<div>\n",
              "<style scoped>\n",
              "    .dataframe tbody tr th:only-of-type {\n",
              "        vertical-align: middle;\n",
              "    }\n",
              "\n",
              "    .dataframe tbody tr th {\n",
              "        vertical-align: top;\n",
              "    }\n",
              "\n",
              "    .dataframe thead th {\n",
              "        text-align: right;\n",
              "    }\n",
              "</style>\n",
              "<table border=\"1\" class=\"dataframe\">\n",
              "  <thead>\n",
              "    <tr style=\"text-align: right;\">\n",
              "      <th></th>\n",
              "      <th>Edad</th>\n",
              "      <th>Genero</th>\n",
              "      <th>Tutor</th>\n",
              "      <th>Vive-con-Familia</th>\n",
              "      <th>Enfermedad-CrÃ³nica</th>\n",
              "      <th>Promedio-Preparatoria</th>\n",
              "      <th>Materias-Relacionadas</th>\n",
              "      <th>Carrera-Elegida-Ajusta-A-Gustos-Habilidades</th>\n",
              "      <th>Buena-RelaciÃ³n-Familiar</th>\n",
              "      <th>Buena-RelaciÃ³n-Amigos-CompaÃ±eros</th>\n",
              "      <th>...</th>\n",
              "      <th>Noviazgo</th>\n",
              "      <th>Actividad-Cultural-o-Deportiva</th>\n",
              "      <th>Tiempo-con-sus-amigos-compaÃ±eros</th>\n",
              "      <th>Horas-Semana-Divertirse con-sus-amigos</th>\n",
              "      <th>ConsumÃ­a-Alcohol-Entre-semana</th>\n",
              "      <th>ConsumÃ­a-Alcohol-Fin-semana</th>\n",
              "      <th>Horas-DÃ­a-Dedicada-Redes-Sociales</th>\n",
              "      <th>Gustan-Videojuegos</th>\n",
              "      <th>Horas-Semana-Dedicada-Videojuegos</th>\n",
              "      <th>Horas-Semana-Dedicada-Actividades-Entretenimiento</th>\n",
              "    </tr>\n",
              "  </thead>\n",
              "  <tbody>\n",
              "    <tr>\n",
              "      <th>137</th>\n",
              "      <td>joven</td>\n",
              "      <td>Masculino</td>\n",
              "      <td>Madre</td>\n",
              "      <td>No</td>\n",
              "      <td>No</td>\n",
              "      <td>bueno</td>\n",
              "      <td>Sí</td>\n",
              "      <td>No</td>\n",
              "      <td>Sí</td>\n",
              "      <td>Sí</td>\n",
              "      <td>...</td>\n",
              "      <td>No</td>\n",
              "      <td>No</td>\n",
              "      <td>No</td>\n",
              "      <td>baja</td>\n",
              "      <td>nunca</td>\n",
              "      <td>nunca</td>\n",
              "      <td>&lt;1</td>\n",
              "      <td>Sí</td>\n",
              "      <td>1-3</td>\n",
              "      <td>1-3</td>\n",
              "    </tr>\n",
              "    <tr>\n",
              "      <th>138</th>\n",
              "      <td>joven</td>\n",
              "      <td>Femenino</td>\n",
              "      <td>Madre</td>\n",
              "      <td>No</td>\n",
              "      <td>No</td>\n",
              "      <td>bueno</td>\n",
              "      <td>No</td>\n",
              "      <td>No</td>\n",
              "      <td>Sí</td>\n",
              "      <td>No</td>\n",
              "      <td>...</td>\n",
              "      <td>No</td>\n",
              "      <td>No</td>\n",
              "      <td>Sí</td>\n",
              "      <td>media</td>\n",
              "      <td>nunca</td>\n",
              "      <td>casi-nunca</td>\n",
              "      <td>&gt;2</td>\n",
              "      <td>No</td>\n",
              "      <td>0</td>\n",
              "      <td>&gt;3</td>\n",
              "    </tr>\n",
              "    <tr>\n",
              "      <th>139</th>\n",
              "      <td>joven</td>\n",
              "      <td>Masculino</td>\n",
              "      <td>Pariente</td>\n",
              "      <td>No</td>\n",
              "      <td>No</td>\n",
              "      <td>regular</td>\n",
              "      <td>No</td>\n",
              "      <td>No</td>\n",
              "      <td>No</td>\n",
              "      <td>No</td>\n",
              "      <td>...</td>\n",
              "      <td>No</td>\n",
              "      <td>No</td>\n",
              "      <td>No</td>\n",
              "      <td>baja</td>\n",
              "      <td>nunca</td>\n",
              "      <td>nunca</td>\n",
              "      <td>0</td>\n",
              "      <td>No</td>\n",
              "      <td>0</td>\n",
              "      <td>1-3</td>\n",
              "    </tr>\n",
              "    <tr>\n",
              "      <th>140</th>\n",
              "      <td>joven</td>\n",
              "      <td>Masculino</td>\n",
              "      <td>Madre</td>\n",
              "      <td>No</td>\n",
              "      <td>No</td>\n",
              "      <td>bueno</td>\n",
              "      <td>Sí</td>\n",
              "      <td>Sí</td>\n",
              "      <td>Sí</td>\n",
              "      <td>Sí</td>\n",
              "      <td>...</td>\n",
              "      <td>No</td>\n",
              "      <td>Sí</td>\n",
              "      <td>Sí</td>\n",
              "      <td>baja</td>\n",
              "      <td>nunca</td>\n",
              "      <td>nunca</td>\n",
              "      <td>&gt;2</td>\n",
              "      <td>Sí</td>\n",
              "      <td>1-3</td>\n",
              "      <td>1-3</td>\n",
              "    </tr>\n",
              "    <tr>\n",
              "      <th>141</th>\n",
              "      <td>joven</td>\n",
              "      <td>Masculino</td>\n",
              "      <td>Madre</td>\n",
              "      <td>Sí</td>\n",
              "      <td>No</td>\n",
              "      <td>bueno</td>\n",
              "      <td>Sí</td>\n",
              "      <td>No</td>\n",
              "      <td>Sí</td>\n",
              "      <td>Sí</td>\n",
              "      <td>...</td>\n",
              "      <td>No</td>\n",
              "      <td>No</td>\n",
              "      <td>No</td>\n",
              "      <td>baja</td>\n",
              "      <td>nunca</td>\n",
              "      <td>nunca</td>\n",
              "      <td>&gt;2</td>\n",
              "      <td>Sí</td>\n",
              "      <td>&gt;3</td>\n",
              "      <td>&gt;3</td>\n",
              "    </tr>\n",
              "  </tbody>\n",
              "</table>\n",
              "<p>5 rows × 29 columns</p>\n",
              "</div>"
            ],
            "text/plain": [
              "      Edad     Genero     Tutor Vive-con-Familia Enfermedad-CrÃ³nica  \\\n",
              "137  joven  Masculino     Madre               No                  No   \n",
              "138  joven   Femenino     Madre               No                  No   \n",
              "139  joven  Masculino  Pariente               No                  No   \n",
              "140  joven  Masculino     Madre               No                  No   \n",
              "141  joven  Masculino     Madre               Sí                  No   \n",
              "\n",
              "    Promedio-Preparatoria Materias-Relacionadas  \\\n",
              "137                 bueno                    Sí   \n",
              "138                 bueno                    No   \n",
              "139               regular                    No   \n",
              "140                 bueno                    Sí   \n",
              "141                 bueno                    Sí   \n",
              "\n",
              "    Carrera-Elegida-Ajusta-A-Gustos-Habilidades Buena-RelaciÃ³n-Familiar  \\\n",
              "137                                          No                       Sí   \n",
              "138                                          No                       Sí   \n",
              "139                                          No                       No   \n",
              "140                                          Sí                       Sí   \n",
              "141                                          No                       Sí   \n",
              "\n",
              "    Buena-RelaciÃ³n-Amigos-CompaÃ±eros  ... Noviazgo  \\\n",
              "137                                 Sí  ...       No   \n",
              "138                                 No  ...       No   \n",
              "139                                 No  ...       No   \n",
              "140                                 Sí  ...       No   \n",
              "141                                 Sí  ...       No   \n",
              "\n",
              "    Actividad-Cultural-o-Deportiva Tiempo-con-sus-amigos-compaÃ±eros  \\\n",
              "137                             No                                No   \n",
              "138                             No                                Sí   \n",
              "139                             No                                No   \n",
              "140                             Sí                                Sí   \n",
              "141                             No                                No   \n",
              "\n",
              "    Horas-Semana-Divertirse con-sus-amigos ConsumÃ­a-Alcohol-Entre-semana  \\\n",
              "137                                   baja                          nunca   \n",
              "138                                  media                          nunca   \n",
              "139                                   baja                          nunca   \n",
              "140                                   baja                          nunca   \n",
              "141                                   baja                          nunca   \n",
              "\n",
              "    ConsumÃ­a-Alcohol-Fin-semana Horas-DÃ­a-Dedicada-Redes-Sociales  \\\n",
              "137                        nunca                                 <1   \n",
              "138                   casi-nunca                                 >2   \n",
              "139                        nunca                                  0   \n",
              "140                        nunca                                 >2   \n",
              "141                        nunca                                 >2   \n",
              "\n",
              "    Gustan-Videojuegos Horas-Semana-Dedicada-Videojuegos  \\\n",
              "137                 Sí                               1-3   \n",
              "138                 No                                 0   \n",
              "139                 No                                 0   \n",
              "140                 Sí                               1-3   \n",
              "141                 Sí                                >3   \n",
              "\n",
              "    Horas-Semana-Dedicada-Actividades-Entretenimiento  \n",
              "137                                               1-3  \n",
              "138                                                >3  \n",
              "139                                               1-3  \n",
              "140                                               1-3  \n",
              "141                                                >3  \n",
              "\n",
              "[5 rows x 29 columns]"
            ]
          },
          "execution_count": 231,
          "metadata": {},
          "output_type": "execute_result"
        }
      ],
      "source": []
    },
    {
      "cell_type": "code",
      "execution_count": 237,
      "metadata": {},
      "outputs": [
        {
          "data": {
            "text/html": [
              "<div>\n",
              "<style scoped>\n",
              "    .dataframe tbody tr th:only-of-type {\n",
              "        vertical-align: middle;\n",
              "    }\n",
              "\n",
              "    .dataframe tbody tr th {\n",
              "        vertical-align: top;\n",
              "    }\n",
              "\n",
              "    .dataframe thead th {\n",
              "        text-align: right;\n",
              "    }\n",
              "</style>\n",
              "<table border=\"1\" class=\"dataframe\">\n",
              "  <thead>\n",
              "    <tr style=\"text-align: right;\">\n",
              "      <th></th>\n",
              "      <th>Edad</th>\n",
              "      <th>Genero</th>\n",
              "      <th>Tutor</th>\n",
              "      <th>Vive-con-Familia</th>\n",
              "      <th>Enfermedad-CrÃ³nica</th>\n",
              "      <th>Promedio-Preparatoria</th>\n",
              "      <th>Materias-Relacionadas</th>\n",
              "      <th>Carrera-Elegida-Ajusta-A-Gustos-Habilidades</th>\n",
              "      <th>Buena-RelaciÃ³n-Familiar</th>\n",
              "      <th>Buena-RelaciÃ³n-Amigos-CompaÃ±eros</th>\n",
              "      <th>...</th>\n",
              "      <th>Noviazgo</th>\n",
              "      <th>Actividad-Cultural-o-Deportiva</th>\n",
              "      <th>Tiempo-con-sus-amigos-compaÃ±eros</th>\n",
              "      <th>Horas-Semana-Divertirse con-sus-amigos</th>\n",
              "      <th>ConsumÃ­a-Alcohol-Entre-semana</th>\n",
              "      <th>ConsumÃ­a-Alcohol-Fin-semana</th>\n",
              "      <th>Horas-DÃ­a-Dedicada-Redes-Sociales</th>\n",
              "      <th>Gustan-Videojuegos</th>\n",
              "      <th>Horas-Semana-Dedicada-Videojuegos</th>\n",
              "      <th>Horas-Semana-Dedicada-Actividades-Entretenimiento</th>\n",
              "    </tr>\n",
              "  </thead>\n",
              "  <tbody>\n",
              "    <tr>\n",
              "      <th>137</th>\n",
              "      <td>joven</td>\n",
              "      <td>Masculino</td>\n",
              "      <td>Madre</td>\n",
              "      <td>No</td>\n",
              "      <td>No</td>\n",
              "      <td>bueno</td>\n",
              "      <td>Sí</td>\n",
              "      <td>No</td>\n",
              "      <td>Sí</td>\n",
              "      <td>Sí</td>\n",
              "      <td>...</td>\n",
              "      <td>No</td>\n",
              "      <td>No</td>\n",
              "      <td>No</td>\n",
              "      <td>baja</td>\n",
              "      <td>nunca</td>\n",
              "      <td>nunca</td>\n",
              "      <td>&lt;1</td>\n",
              "      <td>Sí</td>\n",
              "      <td>1-3</td>\n",
              "      <td>1-3</td>\n",
              "    </tr>\n",
              "    <tr>\n",
              "      <th>138</th>\n",
              "      <td>joven</td>\n",
              "      <td>Femenino</td>\n",
              "      <td>Madre</td>\n",
              "      <td>No</td>\n",
              "      <td>No</td>\n",
              "      <td>bueno</td>\n",
              "      <td>No</td>\n",
              "      <td>No</td>\n",
              "      <td>Sí</td>\n",
              "      <td>No</td>\n",
              "      <td>...</td>\n",
              "      <td>No</td>\n",
              "      <td>No</td>\n",
              "      <td>Sí</td>\n",
              "      <td>media</td>\n",
              "      <td>nunca</td>\n",
              "      <td>casi-nunca</td>\n",
              "      <td>&gt;2</td>\n",
              "      <td>No</td>\n",
              "      <td>0</td>\n",
              "      <td>&gt;3</td>\n",
              "    </tr>\n",
              "    <tr>\n",
              "      <th>139</th>\n",
              "      <td>joven</td>\n",
              "      <td>Masculino</td>\n",
              "      <td>Pariente</td>\n",
              "      <td>No</td>\n",
              "      <td>No</td>\n",
              "      <td>regular</td>\n",
              "      <td>No</td>\n",
              "      <td>No</td>\n",
              "      <td>No</td>\n",
              "      <td>No</td>\n",
              "      <td>...</td>\n",
              "      <td>No</td>\n",
              "      <td>No</td>\n",
              "      <td>No</td>\n",
              "      <td>baja</td>\n",
              "      <td>nunca</td>\n",
              "      <td>nunca</td>\n",
              "      <td>0</td>\n",
              "      <td>No</td>\n",
              "      <td>0</td>\n",
              "      <td>1-3</td>\n",
              "    </tr>\n",
              "    <tr>\n",
              "      <th>140</th>\n",
              "      <td>joven</td>\n",
              "      <td>Masculino</td>\n",
              "      <td>Madre</td>\n",
              "      <td>No</td>\n",
              "      <td>No</td>\n",
              "      <td>bueno</td>\n",
              "      <td>Sí</td>\n",
              "      <td>Sí</td>\n",
              "      <td>Sí</td>\n",
              "      <td>Sí</td>\n",
              "      <td>...</td>\n",
              "      <td>No</td>\n",
              "      <td>Sí</td>\n",
              "      <td>Sí</td>\n",
              "      <td>baja</td>\n",
              "      <td>nunca</td>\n",
              "      <td>nunca</td>\n",
              "      <td>&gt;2</td>\n",
              "      <td>Sí</td>\n",
              "      <td>1-3</td>\n",
              "      <td>1-3</td>\n",
              "    </tr>\n",
              "    <tr>\n",
              "      <th>141</th>\n",
              "      <td>joven</td>\n",
              "      <td>Masculino</td>\n",
              "      <td>Madre</td>\n",
              "      <td>Sí</td>\n",
              "      <td>No</td>\n",
              "      <td>bueno</td>\n",
              "      <td>Sí</td>\n",
              "      <td>No</td>\n",
              "      <td>Sí</td>\n",
              "      <td>Sí</td>\n",
              "      <td>...</td>\n",
              "      <td>No</td>\n",
              "      <td>No</td>\n",
              "      <td>No</td>\n",
              "      <td>baja</td>\n",
              "      <td>nunca</td>\n",
              "      <td>nunca</td>\n",
              "      <td>&gt;2</td>\n",
              "      <td>Sí</td>\n",
              "      <td>&gt;3</td>\n",
              "      <td>&gt;3</td>\n",
              "    </tr>\n",
              "  </tbody>\n",
              "</table>\n",
              "<p>5 rows × 29 columns</p>\n",
              "</div>"
            ],
            "text/plain": [
              "      Edad     Genero     Tutor Vive-con-Familia Enfermedad-CrÃ³nica  \\\n",
              "137  joven  Masculino     Madre               No                  No   \n",
              "138  joven   Femenino     Madre               No                  No   \n",
              "139  joven  Masculino  Pariente               No                  No   \n",
              "140  joven  Masculino     Madre               No                  No   \n",
              "141  joven  Masculino     Madre               Sí                  No   \n",
              "\n",
              "    Promedio-Preparatoria Materias-Relacionadas  \\\n",
              "137                 bueno                    Sí   \n",
              "138                 bueno                    No   \n",
              "139               regular                    No   \n",
              "140                 bueno                    Sí   \n",
              "141                 bueno                    Sí   \n",
              "\n",
              "    Carrera-Elegida-Ajusta-A-Gustos-Habilidades Buena-RelaciÃ³n-Familiar  \\\n",
              "137                                          No                       Sí   \n",
              "138                                          No                       Sí   \n",
              "139                                          No                       No   \n",
              "140                                          Sí                       Sí   \n",
              "141                                          No                       Sí   \n",
              "\n",
              "    Buena-RelaciÃ³n-Amigos-CompaÃ±eros  ... Noviazgo  \\\n",
              "137                                 Sí  ...       No   \n",
              "138                                 No  ...       No   \n",
              "139                                 No  ...       No   \n",
              "140                                 Sí  ...       No   \n",
              "141                                 Sí  ...       No   \n",
              "\n",
              "    Actividad-Cultural-o-Deportiva Tiempo-con-sus-amigos-compaÃ±eros  \\\n",
              "137                             No                                No   \n",
              "138                             No                                Sí   \n",
              "139                             No                                No   \n",
              "140                             Sí                                Sí   \n",
              "141                             No                                No   \n",
              "\n",
              "    Horas-Semana-Divertirse con-sus-amigos ConsumÃ­a-Alcohol-Entre-semana  \\\n",
              "137                                   baja                          nunca   \n",
              "138                                  media                          nunca   \n",
              "139                                   baja                          nunca   \n",
              "140                                   baja                          nunca   \n",
              "141                                   baja                          nunca   \n",
              "\n",
              "    ConsumÃ­a-Alcohol-Fin-semana Horas-DÃ­a-Dedicada-Redes-Sociales  \\\n",
              "137                        nunca                                 <1   \n",
              "138                   casi-nunca                                 >2   \n",
              "139                        nunca                                  0   \n",
              "140                        nunca                                 >2   \n",
              "141                        nunca                                 >2   \n",
              "\n",
              "    Gustan-Videojuegos Horas-Semana-Dedicada-Videojuegos  \\\n",
              "137                 Sí                               1-3   \n",
              "138                 No                                 0   \n",
              "139                 No                                 0   \n",
              "140                 Sí                               1-3   \n",
              "141                 Sí                                >3   \n",
              "\n",
              "    Horas-Semana-Dedicada-Actividades-Entretenimiento  \n",
              "137                                               1-3  \n",
              "138                                                >3  \n",
              "139                                               1-3  \n",
              "140                                               1-3  \n",
              "141                                                >3  \n",
              "\n",
              "[5 rows x 29 columns]"
            ]
          },
          "execution_count": 237,
          "metadata": {},
          "output_type": "execute_result"
        }
      ],
      "source": [
        "df = pd.read_csv(\"ReconocimientoPerfiles.csv\")\n",
        "\n",
        "df = df.drop(columns=['Unnamed: 0'])\n",
        "df.tail()"
      ]
    },
    {
      "cell_type": "code",
      "execution_count": 238,
      "metadata": {},
      "outputs": [],
      "source": [
        "characteristics = ['Materias-Reprobadas-De-ComputaciÃ³n', 'Materias-Reprobadas-De-MatemÃ¡ticas', 'Materias-Aprobadas-Primer-Semestre',]\n",
        "X = df.filter(items=characteristics).copy()\n",
        "\n",
        "classColumn = ['Promedio-Primer-Semestre']\n",
        "y = df.filter(items=classColumn).copy()\n",
        "\n",
        "encoder = OneHotEncoder(sparse=False)\n",
        "X_encoded = encoder.fit_transform(X)"
      ]
    },
    {
      "cell_type": "code",
      "execution_count": 239,
      "metadata": {},
      "outputs": [
        {
          "name": "stdout",
          "output_type": "stream",
          "text": [
            "Precisión del clasificador Bayes Ingenuo: 0.6744186046511628\n"
          ]
        }
      ],
      "source": [
        "X_train2, X_test2, y_train2, y_test2 = train_test_split(X_encoded, y, test_size=0.3, random_state=42)\n",
        "\n",
        "nb = CategoricalNB()\n",
        "\n",
        "nb.fit(X_train2, y_train2)\n",
        "\n",
        "y_pred2 = nb.predict(X_test2)\n",
        "\n",
        "accuracy = accuracy_score(y_test2, y_pred2)\n",
        "print(\"Precisión del clasificador Bayes Ingenuo:\", accuracy)"
      ]
    },
    {
      "cell_type": "code",
      "execution_count": 240,
      "metadata": {},
      "outputs": [
        {
          "data": {
            "text/html": [
              "<div>\n",
              "<style scoped>\n",
              "    .dataframe tbody tr th:only-of-type {\n",
              "        vertical-align: middle;\n",
              "    }\n",
              "\n",
              "    .dataframe tbody tr th {\n",
              "        vertical-align: top;\n",
              "    }\n",
              "\n",
              "    .dataframe thead th {\n",
              "        text-align: right;\n",
              "    }\n",
              "</style>\n",
              "<table border=\"1\" class=\"dataframe\">\n",
              "  <thead>\n",
              "    <tr style=\"text-align: right;\">\n",
              "      <th></th>\n",
              "      <th>Materias-Reprobadas-De-ComputaciÃ³n</th>\n",
              "      <th>Materias-Reprobadas-De-MatemÃ¡ticas</th>\n",
              "      <th>Materias-Aprobadas-Primer-Semestre</th>\n",
              "    </tr>\n",
              "  </thead>\n",
              "  <tbody>\n",
              "    <tr>\n",
              "      <th>0</th>\n",
              "      <td>Sí</td>\n",
              "      <td>No</td>\n",
              "      <td>algunas</td>\n",
              "    </tr>\n",
              "    <tr>\n",
              "      <th>1</th>\n",
              "      <td>No</td>\n",
              "      <td>Sí</td>\n",
              "      <td>algunas</td>\n",
              "    </tr>\n",
              "    <tr>\n",
              "      <th>2</th>\n",
              "      <td>No</td>\n",
              "      <td>No</td>\n",
              "      <td>muchas</td>\n",
              "    </tr>\n",
              "    <tr>\n",
              "      <th>3</th>\n",
              "      <td>Sí</td>\n",
              "      <td>No</td>\n",
              "      <td>algunas</td>\n",
              "    </tr>\n",
              "    <tr>\n",
              "      <th>4</th>\n",
              "      <td>No</td>\n",
              "      <td>No</td>\n",
              "      <td>muchas</td>\n",
              "    </tr>\n",
              "    <tr>\n",
              "      <th>...</th>\n",
              "      <td>...</td>\n",
              "      <td>...</td>\n",
              "      <td>...</td>\n",
              "    </tr>\n",
              "    <tr>\n",
              "      <th>137</th>\n",
              "      <td>No</td>\n",
              "      <td>Sí</td>\n",
              "      <td>muchas</td>\n",
              "    </tr>\n",
              "    <tr>\n",
              "      <th>138</th>\n",
              "      <td>Sí</td>\n",
              "      <td>Sí</td>\n",
              "      <td>algunas</td>\n",
              "    </tr>\n",
              "    <tr>\n",
              "      <th>139</th>\n",
              "      <td>Sí</td>\n",
              "      <td>Sí</td>\n",
              "      <td>muchas</td>\n",
              "    </tr>\n",
              "    <tr>\n",
              "      <th>140</th>\n",
              "      <td>No</td>\n",
              "      <td>No</td>\n",
              "      <td>muchas</td>\n",
              "    </tr>\n",
              "    <tr>\n",
              "      <th>141</th>\n",
              "      <td>Sí</td>\n",
              "      <td>Sí</td>\n",
              "      <td>muchas</td>\n",
              "    </tr>\n",
              "  </tbody>\n",
              "</table>\n",
              "<p>142 rows × 3 columns</p>\n",
              "</div>"
            ],
            "text/plain": [
              "    Materias-Reprobadas-De-ComputaciÃ³n Materias-Reprobadas-De-MatemÃ¡ticas  \\\n",
              "0                                    Sí                                  No   \n",
              "1                                    No                                  Sí   \n",
              "2                                    No                                  No   \n",
              "3                                    Sí                                  No   \n",
              "4                                    No                                  No   \n",
              "..                                  ...                                 ...   \n",
              "137                                  No                                  Sí   \n",
              "138                                  Sí                                  Sí   \n",
              "139                                  Sí                                  Sí   \n",
              "140                                  No                                  No   \n",
              "141                                  Sí                                  Sí   \n",
              "\n",
              "    Materias-Aprobadas-Primer-Semestre  \n",
              "0                              algunas  \n",
              "1                              algunas  \n",
              "2                               muchas  \n",
              "3                              algunas  \n",
              "4                               muchas  \n",
              "..                                 ...  \n",
              "137                             muchas  \n",
              "138                            algunas  \n",
              "139                             muchas  \n",
              "140                             muchas  \n",
              "141                             muchas  \n",
              "\n",
              "[142 rows x 3 columns]"
            ]
          },
          "execution_count": 240,
          "metadata": {},
          "output_type": "execute_result"
        }
      ],
      "source": [
        "df.filter(items=['Materias-Reprobadas-De-ComputaciÃ³n', 'Materias-Reprobadas-De-MatemÃ¡ticas', 'Materias-Aprobadas-Primer-Semestre'])"
      ]
    },
    {
      "cell_type": "code",
      "execution_count": null,
      "metadata": {},
      "outputs": [],
      "source": [
        "#Dropear Carrera\n",
        "\n",
        "\n",
        "\n",
        "\n",
        "headers = df.columns\n",
        "print(headers)\n",
        "\n",
        "import warnings\n",
        "warnings.filterwarnings('ignore')\n",
        "\n",
        "\n",
        "best_accuracy = 0\n",
        "best_characteristics = []\n",
        "best_model = []\n",
        "best_cm = []\n",
        "\n",
        "for header1 in headers:\n",
        "    for header2 in headers:\n",
        "        for header3 in headers:\n",
        "            if((header1 != header2) and (header1 != header3) and (header2 != header3) and (header1 != 'Promedio-Primer-Semestre') and (header2 != 'Promedio-Primer-Semestre') and (header3 != 'Promedio-Primer-Semestre')):\n",
        "                characteristics = [header1, header2, header3]\n",
        "                \n",
        "                X = df.filter(items=characteristics).copy()\n",
        "                classColumn = ['Promedio-Primer-Semestre']\n",
        "                y = df.filter(items=classColumn).copy()\n",
        "\n",
        "                encoder = OneHotEncoder(sparse=False)\n",
        "                X_encoded = encoder.fit_transform(X)\n",
        "\n",
        "                X_train, X_test, y_train, y_test = train_test_split(X_encoded, y, test_size=0.3, random_state=42)\n",
        "\n",
        "                knn = KNeighborsClassifier(n_neighbors=3)\n",
        "\n",
        "                knn.fit(X_train, y_train)\n",
        "                #nb = CategoricalNB()\n",
        "                #nb.fit(X_train, y_train)\n",
        "\n",
        "                y_pred = knn.predict(X_test)\n",
        "\n",
        "\n",
        "                accuracy = accuracy_score(y_test, y_pred)\n",
        "                if(accuracy > best_accuracy):\n",
        "                    best_accuracy = accuracy\n",
        "                    best_characteristics = characteristics\n",
        "                    best_model = nb\n",
        "                    best_encoder = encoder\n",
        "                    best_X = X\n",
        "                    print(best_accuracy, best_characteristics)\n",
        "\n",
        "                    cm = confusion_matrix(y_test, y_pred)\n",
        "                    best_cm = cm\n",
        "                    print(cm)\n",
        "                    \n",
        "\n",
        "                #print(\"Precisión del clasificador KNN:\", accuracy)"
      ]
    },
    {
      "cell_type": "code",
      "execution_count": 241,
      "metadata": {},
      "outputs": [
        {
          "name": "stdout",
          "output_type": "stream",
          "text": [
            "[[0. 1. 1. 0. 1. 0.]]\n",
            "[[0. 1. 1. 0. 1. 0.]]\n",
            "['regular']\n"
          ]
        }
      ],
      "source": [
        "import pickle\n",
        "\n",
        "df = pd.read_csv(\"ReconocimientoPerfiles.csv\")\n",
        "\n",
        "df = df.drop(columns=['Unnamed: 0'])\n",
        "\n",
        "encoder = OneHotEncoder(sparse=False)\n",
        "encoder.fit_transform(df.filter(items=['Materias-Reprobadas-De-ComputaciÃ³n', 'Materias-Reprobadas-De-MatemÃ¡ticas', 'Materias-Aprobadas-Primer-Semestre']))\n",
        "\n",
        "dato_prueba = np.array(['Sí', 'No', 'algunas'])  # Dato categórico a codificar\n",
        "\n",
        "# Reshape del dato de prueba\n",
        "dato_prueba_reshape = dato_prueba.reshape(1, -1)\n",
        "\n",
        "# Transformar el dato de prueba\n",
        "dato_prueba_encoded = encoder.transform(dato_prueba_reshape)\n",
        "\n",
        "# Imprimir el dato codificado\n",
        "print(dato_prueba_encoded)\n",
        "\n",
        "\n",
        "# Its important to use binary mode \n",
        "knnPickle = open('RPFinal', 'wb')\n",
        "\n",
        "# source, destination \n",
        "pickle.dump(nb, knnPickle)  \n",
        "\n",
        "# close the file\n",
        "knnPickle.close()\n",
        "\n",
        "loaded_model = pickle.load(open('RPFinal', 'rb'))\n",
        "print(dato_prueba_encoded)\n",
        "result = loaded_model.predict(np.array(dato_prueba_encoded).reshape(1, -1)) \n",
        "print(result)"
      ]
    }
  ],
  "metadata": {
    "colab": {
      "provenance": []
    },
    "kernelspec": {
      "display_name": "Python 3",
      "name": "python3"
    },
    "language_info": {
      "codemirror_mode": {
        "name": "ipython",
        "version": 3
      },
      "file_extension": ".py",
      "mimetype": "text/x-python",
      "name": "python",
      "nbconvert_exporter": "python",
      "pygments_lexer": "ipython3",
      "version": "3.9.13"
    }
  },
  "nbformat": 4,
  "nbformat_minor": 0
}
