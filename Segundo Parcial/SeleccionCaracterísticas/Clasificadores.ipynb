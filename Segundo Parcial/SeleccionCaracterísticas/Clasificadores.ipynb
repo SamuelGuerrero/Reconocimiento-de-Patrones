{
  "cells": [
    {
      "cell_type": "code",
      "execution_count": 1,
      "metadata": {
        "id": "6q6LPkjWF8Yh"
      },
      "outputs": [],
      "source": [
        "import pandas as pd\n",
        "from sklearn.neighbors import KNeighborsClassifier\n",
        "from sklearn.model_selection import train_test_split\n",
        "from sklearn.metrics import accuracy_score\n",
        "import numpy as np\n",
        "from sklearn.preprocessing import OneHotEncoder\n",
        "\n",
        "from sklearn.naive_bayes import CategoricalNB\n",
        "from sklearn.model_selection import train_test_split\n",
        "from sklearn.metrics import accuracy_score\n",
        "\n",
        "from sklearn.metrics import confusion_matrix\n",
        "from sklearn.metrics import classification_report\n",
        "from sklearn.model_selection import KFold\n",
        "\n",
        "import seaborn as sns\n",
        "import warnings"
      ]
    },
    {
      "attachments": {},
      "cell_type": "markdown",
      "metadata": {
        "id": "mFHRSgMbIvGv"
      },
      "source": [
        "# **Twitter**"
      ]
    },
    {
      "attachments": {},
      "cell_type": "markdown",
      "metadata": {},
      "source": [
        "# *KNN Vecinos*"
      ]
    },
    {
      "cell_type": "code",
      "execution_count": 100,
      "metadata": {
        "id": "gG_YJe-EH_E5"
      },
      "outputs": [],
      "source": [
        "df = pd.read_csv(\"Twitter.csv\")"
      ]
    },
    {
      "cell_type": "code",
      "execution_count": 101,
      "metadata": {
        "id": "ch4rjwJ4HZsW"
      },
      "outputs": [],
      "source": [
        "characteristics = ['dia_mas_publica', 'perfil_privado', 'cantidad_seguidores']\n",
        "X = df.filter(items=characteristics).copy()"
      ]
    },
    {
      "cell_type": "code",
      "execution_count": 102,
      "metadata": {
        "colab": {
          "base_uri": "https://localhost:8080/"
        },
        "id": "i7p0Jx3PHtDi",
        "outputId": "5bc7934f-df28-441f-9442-80d6493fddda"
      },
      "outputs": [
        {
          "name": "stdout",
          "output_type": "stream",
          "text": [
            "Precisión del clasificador KNN: 0.8426966292134831\n"
          ]
        }
      ],
      "source": [
        "classColumn = ['clase']\n",
        "y = df.filter(items=classColumn).copy()\n",
        "\n",
        "encoder = OneHotEncoder(sparse=False)\n",
        "X_encoded = encoder.fit_transform(X)\n",
        "\n",
        "X_train, X_test, y_train, y_test = train_test_split(X_encoded, y, test_size=0.3, random_state=42)\n",
        "\n",
        "knn = KNeighborsClassifier(n_neighbors=3)\n",
        "\n",
        "knn.fit(X_train, y_train)\n",
        "\n",
        "y_pred = knn.predict(X_test)\n",
        "\n",
        "accuracy = accuracy_score(y_test, y_pred)\n",
        "print(\"Precisión del clasificador KNN:\", accuracy)"
      ]
    },
    {
      "cell_type": "code",
      "execution_count": 36,
      "metadata": {
        "colab": {
          "base_uri": "https://localhost:8080/",
          "height": 447
        },
        "id": "qeVIsWYgKIIs",
        "outputId": "7a6e9482-9181-45a4-ab9d-441d33a759a1"
      },
      "outputs": [
        {
          "data": {
            "text/plain": [
              "<Axes: >"
            ]
          },
          "execution_count": 36,
          "metadata": {},
          "output_type": "execute_result"
        },
        {
          "data": {
            "image/png": "[encoded data removed]",
            "text/plain": [
              "<Figure size 640x480 with 2 Axes>"
            ]
          },
          "metadata": {},
          "output_type": "display_data"
        }
      ],
      "source": [
        "cm = confusion_matrix(y_test, y_pred)\n",
        "sns.heatmap(cm, annot=True)"
      ]
    },
    {
      "cell_type": "code",
      "execution_count": 37,
      "metadata": {
        "colab": {
          "base_uri": "https://localhost:8080/"
        },
        "id": "bIEm-emtMtfr",
        "outputId": "cc2eb3d3-eea0-40c8-a2a0-9526743c9163"
      },
      "outputs": [
        {
          "name": "stdout",
          "output_type": "stream",
          "text": [
            "              precision    recall  f1-score   support\n",
            "\n",
            "        Fake       0.73      0.79      0.76        28\n",
            "        Real       0.90      0.87      0.88        61\n",
            "\n",
            "    accuracy                           0.84        89\n",
            "   macro avg       0.82      0.83      0.82        89\n",
            "weighted avg       0.85      0.84      0.84        89\n",
            "\n"
          ]
        }
      ],
      "source": [
        "print(classification_report(y_test, y_pred))"
      ]
    },
    {
      "attachments": {},
      "cell_type": "markdown",
      "metadata": {},
      "source": [
        "# *Bayes Ingenuo*"
      ]
    },
    {
      "cell_type": "code",
      "execution_count": 38,
      "metadata": {
        "colab": {
          "base_uri": "https://localhost:8080/"
        },
        "id": "ZurB2J7vIQKy",
        "outputId": "870f1560-6af0-4351-f6a3-a5d67853dff5"
      },
      "outputs": [
        {
          "name": "stdout",
          "output_type": "stream",
          "text": [
            "Precisión del clasificador Bayes Ingenuo: 0.8539325842696629\n"
          ]
        }
      ],
      "source": [
        "X_train2, X_test2, y_train2, y_test2 = train_test_split(X_encoded, y, test_size=0.3, random_state=42)\n",
        "\n",
        "nb = CategoricalNB()\n",
        "\n",
        "nb.fit(X_train2, y_train2)\n",
        "\n",
        "y_pred2 = nb.predict(X_test2)\n",
        "\n",
        "accuracy = accuracy_score(y_test2, y_pred2)\n",
        "print(\"Precisión del clasificador Bayes Ingenuo:\", accuracy)"
      ]
    },
    {
      "cell_type": "code",
      "execution_count": 39,
      "metadata": {
        "colab": {
          "base_uri": "https://localhost:8080/",
          "height": 447
        },
        "id": "OjhcL9scKfzV",
        "outputId": "9c9d6d59-9bab-495f-b2b9-0a97be7df638"
      },
      "outputs": [
        {
          "data": {
            "text/plain": [
              "<Axes: >"
            ]
          },
          "execution_count": 39,
          "metadata": {},
          "output_type": "execute_result"
        },
        {
          "data": {
            "image/png": "[encoded data removed]",
            "text/plain": [
              "<Figure size 640x480 with 2 Axes>"
            ]
          },
          "metadata": {},
          "output_type": "display_data"
        }
      ],
      "source": [
        "import seaborn as sns\n",
        "\n",
        "cm = confusion_matrix(y_test2, y_pred2)\n",
        "sns.heatmap(cm, annot=True)"
      ]
    },
    {
      "cell_type": "code",
      "execution_count": 40,
      "metadata": {
        "colab": {
          "base_uri": "https://localhost:8080/"
        },
        "id": "hJBXYjDmMyfP",
        "outputId": "d8d2e238-1d83-418e-e64d-d0a7047e7cbd"
      },
      "outputs": [
        {
          "name": "stdout",
          "output_type": "stream",
          "text": [
            "              precision    recall  f1-score   support\n",
            "\n",
            "        Fake       0.76      0.79      0.77        28\n",
            "        Real       0.90      0.89      0.89        61\n",
            "\n",
            "    accuracy                           0.85        89\n",
            "   macro avg       0.83      0.84      0.83        89\n",
            "weighted avg       0.86      0.85      0.85        89\n",
            "\n"
          ]
        }
      ],
      "source": [
        "print(classification_report(y_test2, y_pred2))"
      ]
    },
    {
      "attachments": {},
      "cell_type": "markdown",
      "metadata": {
        "id": "Amwlh7VLOELO"
      },
      "source": [
        "# *K-fold*"
      ]
    },
    {
      "cell_type": "code",
      "execution_count": 41,
      "metadata": {},
      "outputs": [
        {
          "name": "stdout",
          "output_type": "stream",
          "text": [
            "              precision    recall  f1-score   support\n",
            "\n",
            "        Fake       0.58      0.58      0.58        12\n",
            "        Real       0.89      0.89      0.89        47\n",
            "\n",
            "    accuracy                           0.83        59\n",
            "   macro avg       0.74      0.74      0.74        59\n",
            "weighted avg       0.83      0.83      0.83        59\n",
            "\n",
            "Precisión del clasificador KNN: 0.8305084745762712\n",
            "              precision    recall  f1-score   support\n",
            "\n",
            "        Fake       0.83      0.68      0.75        22\n",
            "        Real       0.83      0.92      0.87        37\n",
            "\n",
            "    accuracy                           0.83        59\n",
            "   macro avg       0.83      0.80      0.81        59\n",
            "weighted avg       0.83      0.83      0.83        59\n",
            "\n",
            "Precisión del clasificador KNN: 0.8305084745762712\n",
            "              precision    recall  f1-score   support\n",
            "\n",
            "        Fake       0.80      0.50      0.62        16\n",
            "        Real       0.84      0.95      0.89        43\n",
            "\n",
            "    accuracy                           0.83        59\n",
            "   macro avg       0.82      0.73      0.75        59\n",
            "weighted avg       0.83      0.83      0.82        59\n",
            "\n",
            "Precisión del clasificador KNN: 0.8305084745762712\n",
            "              precision    recall  f1-score   support\n",
            "\n",
            "        Fake       0.80      0.76      0.78        21\n",
            "        Real       0.87      0.89      0.88        38\n",
            "\n",
            "    accuracy                           0.85        59\n",
            "   macro avg       0.84      0.83      0.83        59\n",
            "weighted avg       0.85      0.85      0.85        59\n",
            "\n",
            "Precisión del clasificador KNN: 0.847457627118644\n",
            "              precision    recall  f1-score   support\n",
            "\n",
            "        Fake       0.69      0.65      0.67        17\n",
            "        Real       0.86      0.88      0.87        41\n",
            "\n",
            "    accuracy                           0.81        58\n",
            "   macro avg       0.77      0.76      0.77        58\n",
            "weighted avg       0.81      0.81      0.81        58\n",
            "\n",
            "Precisión del clasificador KNN: 0.8103448275862069\n"
          ]
        }
      ],
      "source": [
        "warnings.filterwarnings('ignore')\n",
        "\n",
        "kf = KFold(n_splits=5, shuffle=True, random_state=2)\n",
        "y1 = y.values\n",
        "\n",
        "X_encoded = encoder.fit_transform(X)\n",
        "for i , (train_index, test_index) in enumerate(kf.split(X_encoded,y1)):\n",
        "    X_train, X_test = X_encoded[train_index], X_encoded[test_index]\n",
        "    y_train, y_test = y1[train_index], y1[test_index]\n",
        "\n",
        "    knn = KNeighborsClassifier(n_neighbors=3)\n",
        "    knn.fit(X_train, y_train)\n",
        "\n",
        "    y_pred = knn.predict(X_test)\n",
        "    accuracy = accuracy_score(y_test, y_pred)\n",
        "    print(classification_report(y_test, y_pred))\n",
        "    print(\"Precisión del clasificador KNN:\", accuracy)"
      ]
    },
    {
      "cell_type": "code",
      "execution_count": 42,
      "metadata": {
        "colab": {
          "base_uri": "https://localhost:8080/"
        },
        "id": "Ofmuh0cBOGjz",
        "outputId": "76a3d516-1f89-4cb7-d6d6-dec33d314ce8"
      },
      "outputs": [
        {
          "name": "stdout",
          "output_type": "stream",
          "text": [
            "235 59\n",
            "              precision    recall  f1-score   support\n",
            "\n",
            "        Fake       0.50      0.67      0.57        12\n",
            "        Real       0.91      0.83      0.87        47\n",
            "\n",
            "    accuracy                           0.80        59\n",
            "   macro avg       0.70      0.75      0.72        59\n",
            "weighted avg       0.82      0.80      0.81        59\n",
            "\n",
            "Precisión del clasificador Bayes Ingenuo: 0.7966101694915254\n",
            "235 59\n",
            "              precision    recall  f1-score   support\n",
            "\n",
            "        Fake       0.78      0.64      0.70        22\n",
            "        Real       0.80      0.89      0.85        37\n",
            "\n",
            "    accuracy                           0.80        59\n",
            "   macro avg       0.79      0.76      0.77        59\n",
            "weighted avg       0.79      0.80      0.79        59\n",
            "\n",
            "Precisión del clasificador Bayes Ingenuo: 0.7966101694915254\n",
            "235 59\n",
            "              precision    recall  f1-score   support\n",
            "\n",
            "        Fake       0.69      0.56      0.62        16\n",
            "        Real       0.85      0.91      0.88        43\n",
            "\n",
            "    accuracy                           0.81        59\n",
            "   macro avg       0.77      0.73      0.75        59\n",
            "weighted avg       0.81      0.81      0.81        59\n",
            "\n",
            "Precisión del clasificador Bayes Ingenuo: 0.8135593220338984\n",
            "235 59\n",
            "              precision    recall  f1-score   support\n",
            "\n",
            "        Fake       0.84      0.76      0.80        21\n",
            "        Real       0.88      0.92      0.90        38\n",
            "\n",
            "    accuracy                           0.86        59\n",
            "   macro avg       0.86      0.84      0.85        59\n",
            "weighted avg       0.86      0.86      0.86        59\n",
            "\n",
            "Precisión del clasificador Bayes Ingenuo: 0.864406779661017\n",
            "236 58\n",
            "              precision    recall  f1-score   support\n",
            "\n",
            "        Fake       0.61      0.82      0.70        17\n",
            "        Real       0.91      0.78      0.84        41\n",
            "\n",
            "    accuracy                           0.79        58\n",
            "   macro avg       0.76      0.80      0.77        58\n",
            "weighted avg       0.82      0.79      0.80        58\n",
            "\n",
            "Precisión del clasificador Bayes Ingenuo: 0.7931034482758621\n"
          ]
        }
      ],
      "source": [
        "warnings.filterwarnings('ignore')\n",
        "\n",
        "kf = KFold(n_splits=5, shuffle=True, random_state=2)\n",
        "y1 = y.values\n",
        "\n",
        "X_encoded = encoder.fit_transform(X)\n",
        "for i , (train_index, test_index) in enumerate(kf.split(X_encoded,y1)):\n",
        "    X_train, X_test = X_encoded[train_index], X_encoded[test_index]\n",
        "    y_train, y_test = y1[train_index], y1[test_index]\n",
        "    print(X_train.shape[0], X_test.shape[0])\n",
        "\n",
        "    nb = CategoricalNB()\n",
        "    nb.fit(X_train, y_train)\n",
        "\n",
        "    y_pred = nb.predict(X_test)\n",
        "    accuracy = accuracy_score(y_test, y_pred)\n",
        "    print(classification_report(y_test, y_pred))\n",
        "    print(\"Precisión del clasificador Bayes Ingenuo:\", accuracy)"
      ]
    },
    {
      "attachments": {},
      "cell_type": "markdown",
      "metadata": {
        "id": "zSlJ15onIqbf"
      },
      "source": [
        "# **Facebook**"
      ]
    },
    {
      "attachments": {},
      "cell_type": "markdown",
      "metadata": {},
      "source": [
        "# *KNN Vecinos*"
      ]
    },
    {
      "cell_type": "code",
      "execution_count": 43,
      "metadata": {
        "colab": {
          "base_uri": "https://localhost:8080/",
          "height": 206
        },
        "id": "u9b0eaZXItqq",
        "outputId": "9425f288-4122-4f60-e0e8-421d7dd8d4e0"
      },
      "outputs": [
        {
          "data": {
            "text/html": [
              "<div>\n",
              "<style scoped>\n",
              "    .dataframe tbody tr th:only-of-type {\n",
              "        vertical-align: middle;\n",
              "    }\n",
              "\n",
              "    .dataframe tbody tr th {\n",
              "        vertical-align: top;\n",
              "    }\n",
              "\n",
              "    .dataframe thead th {\n",
              "        text-align: right;\n",
              "    }\n",
              "</style>\n",
              "<table border=\"1\" class=\"dataframe\">\n",
              "  <thead>\n",
              "    <tr style=\"text-align: right;\">\n",
              "      <th></th>\n",
              "      <th>Unnamed: 0</th>\n",
              "      <th>caracteres_nombre</th>\n",
              "      <th>foto_perfil</th>\n",
              "      <th>num_amigos</th>\n",
              "      <th>dias_mas_Publicaciones</th>\n",
              "      <th>paginas_que_sigue</th>\n",
              "      <th>Clase</th>\n",
              "    </tr>\n",
              "  </thead>\n",
              "  <tbody>\n",
              "    <tr>\n",
              "      <th>0</th>\n",
              "      <td>0</td>\n",
              "      <td>corto</td>\n",
              "      <td>Sí</td>\n",
              "      <td>medio</td>\n",
              "      <td>fin de semana</td>\n",
              "      <td>pocas</td>\n",
              "      <td>T</td>\n",
              "    </tr>\n",
              "    <tr>\n",
              "      <th>1</th>\n",
              "      <td>1</td>\n",
              "      <td>medio</td>\n",
              "      <td>Sí</td>\n",
              "      <td>medio</td>\n",
              "      <td>fin de semana</td>\n",
              "      <td>pocas</td>\n",
              "      <td>T</td>\n",
              "    </tr>\n",
              "    <tr>\n",
              "      <th>2</th>\n",
              "      <td>2</td>\n",
              "      <td>medio</td>\n",
              "      <td>Sí</td>\n",
              "      <td>medio</td>\n",
              "      <td>fin de semana</td>\n",
              "      <td>pocas</td>\n",
              "      <td>T</td>\n",
              "    </tr>\n",
              "    <tr>\n",
              "      <th>3</th>\n",
              "      <td>3</td>\n",
              "      <td>corto</td>\n",
              "      <td>Sí</td>\n",
              "      <td>medio</td>\n",
              "      <td>fin de semana</td>\n",
              "      <td>pocas</td>\n",
              "      <td>T</td>\n",
              "    </tr>\n",
              "    <tr>\n",
              "      <th>4</th>\n",
              "      <td>4</td>\n",
              "      <td>corto</td>\n",
              "      <td>Sí</td>\n",
              "      <td>medio</td>\n",
              "      <td>media semana</td>\n",
              "      <td>pocas</td>\n",
              "      <td>T</td>\n",
              "    </tr>\n",
              "  </tbody>\n",
              "</table>\n",
              "</div>"
            ],
            "text/plain": [
              "   Unnamed: 0 caracteres_nombre foto_perfil num_amigos dias_mas_Publicaciones  \\\n",
              "0           0             corto          Sí      medio          fin de semana   \n",
              "1           1             medio          Sí      medio          fin de semana   \n",
              "2           2             medio          Sí      medio          fin de semana   \n",
              "3           3             corto          Sí      medio          fin de semana   \n",
              "4           4             corto          Sí      medio           media semana   \n",
              "\n",
              "  paginas_que_sigue Clase  \n",
              "0             pocas     T  \n",
              "1             pocas     T  \n",
              "2             pocas     T  \n",
              "3             pocas     T  \n",
              "4             pocas     T  "
            ]
          },
          "execution_count": 43,
          "metadata": {},
          "output_type": "execute_result"
        }
      ],
      "source": [
        "df = pd.read_csv(\"Facebook.csv\")\n",
        "df.head()"
      ]
    },
    {
      "cell_type": "code",
      "execution_count": 44,
      "metadata": {
        "id": "6GnSnO-3Izh2"
      },
      "outputs": [],
      "source": [
        "characteristics = ['num_amigos', 'dias_mas_Publicaciones', 'paginas_que_sigue']\n",
        "X = df.filter(items=characteristics).copy()"
      ]
    },
    {
      "cell_type": "code",
      "execution_count": 45,
      "metadata": {
        "colab": {
          "base_uri": "https://localhost:8080/"
        },
        "id": "6cnvKMaaJhc3",
        "outputId": "434a28db-4721-4f0c-8743-4f57b2cae913"
      },
      "outputs": [
        {
          "name": "stdout",
          "output_type": "stream",
          "text": [
            "252 109\n",
            "Precisión del clasificador KNN: 0.8348623853211009\n"
          ]
        }
      ],
      "source": [
        "classColumn = ['Clase']\n",
        "y = df.filter(items=classColumn).copy()\n",
        "\n",
        "encoder = OneHotEncoder(sparse=False)\n",
        "X_encoded = encoder.fit_transform(X)\n",
        "\n",
        "X_train, X_test, y_train, y_test = train_test_split(X_encoded, y, test_size=0.3, random_state=42)\n",
        "\n",
        "print(X_train.shape[0], X_test.shape[0])\n",
        "\n",
        "knn = KNeighborsClassifier(n_neighbors=3)\n",
        "\n",
        "knn.fit(X_train, y_train)\n",
        "\n",
        "y_pred = knn.predict(X_test)\n",
        "\n",
        "accuracy = accuracy_score(y_test, y_pred)\n",
        "print(\"Precisión del clasificador KNN:\", accuracy)"
      ]
    },
    {
      "cell_type": "code",
      "execution_count": 46,
      "metadata": {
        "colab": {
          "base_uri": "https://localhost:8080/",
          "height": 447
        },
        "id": "vU-WqQSQKj70",
        "outputId": "d7ed3de8-f0b4-4bd3-e112-d75e7c92a3a5"
      },
      "outputs": [
        {
          "data": {
            "text/plain": [
              "<Axes: >"
            ]
          },
          "execution_count": 46,
          "metadata": {},
          "output_type": "execute_result"
        },
        {
          "data": {
            "image/png": "[encoded data removed]",
            "text/plain": [
              "<Figure size 640x480 with 2 Axes>"
            ]
          },
          "metadata": {},
          "output_type": "display_data"
        }
      ],
      "source": [
        "import seaborn as sns\n",
        "\n",
        "cm = confusion_matrix(y_test, y_pred)\n",
        "sns.heatmap(cm, annot=True)"
      ]
    },
    {
      "cell_type": "code",
      "execution_count": 47,
      "metadata": {
        "colab": {
          "base_uri": "https://localhost:8080/"
        },
        "id": "kMYEXFykM06A",
        "outputId": "ebeaec89-93f1-43c2-cf18-4dcb801f4159"
      },
      "outputs": [
        {
          "name": "stdout",
          "output_type": "stream",
          "text": [
            "              precision    recall  f1-score   support\n",
            "\n",
            "           F       0.78      0.64      0.70        33\n",
            "           T       0.85      0.92      0.89        76\n",
            "\n",
            "    accuracy                           0.83       109\n",
            "   macro avg       0.82      0.78      0.79       109\n",
            "weighted avg       0.83      0.83      0.83       109\n",
            "\n"
          ]
        }
      ],
      "source": [
        "print(classification_report(y_test, y_pred))"
      ]
    },
    {
      "attachments": {},
      "cell_type": "markdown",
      "metadata": {},
      "source": [
        "# *Bayes Ingenuo*"
      ]
    },
    {
      "cell_type": "code",
      "execution_count": 48,
      "metadata": {
        "colab": {
          "base_uri": "https://localhost:8080/"
        },
        "id": "jfTld9Z8Jh6p",
        "outputId": "a923bb8a-1667-454b-b76f-6182fb6b9615"
      },
      "outputs": [
        {
          "name": "stdout",
          "output_type": "stream",
          "text": [
            "216 145\n",
            "Precisión del clasificador Bayes Ingenuo: 0.7655172413793103\n"
          ]
        }
      ],
      "source": [
        "X_train2, X_test2, y_train2, y_test2 = train_test_split(X_encoded, y, test_size=0.4, random_state=42)\n",
        "\n",
        "print(X_train2.shape[0], X_test2.shape[0])\n",
        "\n",
        "nb = CategoricalNB()\n",
        "\n",
        "nb.fit(X_train2, y_train2)\n",
        "\n",
        "y_pred2 = nb.predict(X_test2)\n",
        "\n",
        "accuracy = accuracy_score(y_test2, y_pred2)\n",
        "print(\"Precisión del clasificador Bayes Ingenuo:\", accuracy)"
      ]
    },
    {
      "cell_type": "code",
      "execution_count": 49,
      "metadata": {
        "colab": {
          "base_uri": "https://localhost:8080/",
          "height": 447
        },
        "id": "B-AREyLEJp_g",
        "outputId": "69f09a9e-6cc6-4ef8-88c6-e887d677c460"
      },
      "outputs": [
        {
          "data": {
            "text/plain": [
              "<Axes: >"
            ]
          },
          "execution_count": 49,
          "metadata": {},
          "output_type": "execute_result"
        },
        {
          "data": {
            "image/png": "[encoded data removed]",
            "text/plain": [
              "<Figure size 640x480 with 2 Axes>"
            ]
          },
          "metadata": {},
          "output_type": "display_data"
        }
      ],
      "source": [
        "import seaborn as sns\n",
        "\n",
        "cm = confusion_matrix(y_test2, y_pred2)\n",
        "sns.heatmap(cm, annot=True)"
      ]
    },
    {
      "cell_type": "code",
      "execution_count": 50,
      "metadata": {
        "colab": {
          "base_uri": "https://localhost:8080/"
        },
        "id": "tmrOtdvAM1wv",
        "outputId": "ca34dbbe-2492-4374-b485-16380a03d562"
      },
      "outputs": [
        {
          "name": "stdout",
          "output_type": "stream",
          "text": [
            "              precision    recall  f1-score   support\n",
            "\n",
            "           F       0.55      0.74      0.63        39\n",
            "           T       0.89      0.77      0.83       106\n",
            "\n",
            "    accuracy                           0.77       145\n",
            "   macro avg       0.72      0.76      0.73       145\n",
            "weighted avg       0.80      0.77      0.78       145\n",
            "\n"
          ]
        }
      ],
      "source": [
        "print(classification_report(y_test2, y_pred2))"
      ]
    },
    {
      "attachments": {},
      "cell_type": "markdown",
      "metadata": {
        "id": "GhEdI2ZlNuK1"
      },
      "source": [
        "# *K-fold*"
      ]
    },
    {
      "cell_type": "code",
      "execution_count": 51,
      "metadata": {
        "colab": {
          "base_uri": "https://localhost:8080/"
        },
        "id": "pBHvAW2eNyHi",
        "outputId": "07094e59-f6b6-41c2-9b06-e3b34d397d44"
      },
      "outputs": [
        {
          "name": "stdout",
          "output_type": "stream",
          "text": [
            "              precision    recall  f1-score   support\n",
            "\n",
            "           F       0.00      0.00      0.00        16\n",
            "           T       0.77      0.95      0.85        57\n",
            "\n",
            "    accuracy                           0.74        73\n",
            "   macro avg       0.39      0.47      0.43        73\n",
            "weighted avg       0.60      0.74      0.66        73\n",
            "\n",
            "Precisión del clasificador KNN: 0.7397260273972602\n",
            "              precision    recall  f1-score   support\n",
            "\n",
            "           F       0.45      0.39      0.42        23\n",
            "           T       0.73      0.78      0.75        49\n",
            "\n",
            "    accuracy                           0.65        72\n",
            "   macro avg       0.59      0.58      0.59        72\n",
            "weighted avg       0.64      0.65      0.65        72\n",
            "\n",
            "Precisión del clasificador KNN: 0.6527777777777778\n",
            "              precision    recall  f1-score   support\n",
            "\n",
            "           F       0.25      0.28      0.26        18\n",
            "           T       0.75      0.72      0.74        54\n",
            "\n",
            "    accuracy                           0.61        72\n",
            "   macro avg       0.50      0.50      0.50        72\n",
            "weighted avg       0.62      0.61      0.62        72\n",
            "\n",
            "Precisión del clasificador KNN: 0.6111111111111112\n",
            "              precision    recall  f1-score   support\n",
            "\n",
            "           F       0.00      0.00      0.00        25\n",
            "           T       0.65      1.00      0.79        47\n",
            "\n",
            "    accuracy                           0.65        72\n",
            "   macro avg       0.33      0.50      0.39        72\n",
            "weighted avg       0.43      0.65      0.52        72\n",
            "\n",
            "Precisión del clasificador KNN: 0.6527777777777778\n",
            "              precision    recall  f1-score   support\n",
            "\n",
            "           F       0.58      0.44      0.50        16\n",
            "           T       0.85      0.91      0.88        56\n",
            "\n",
            "    accuracy                           0.81        72\n",
            "   macro avg       0.72      0.67      0.69        72\n",
            "weighted avg       0.79      0.81      0.80        72\n",
            "\n",
            "Precisión del clasificador KNN: 0.8055555555555556\n"
          ]
        }
      ],
      "source": [
        "warnings.filterwarnings('ignore')\n",
        "\n",
        "kf = KFold(n_splits=5, shuffle=True, random_state=2)\n",
        "y1 = y.values\n",
        "\n",
        "X_encoded = encoder.fit_transform(X)\n",
        "for i , (train_index, test_index) in enumerate(kf.split(X_encoded,y1)):\n",
        "    X_train, X_test = X_encoded[train_index], X_encoded[test_index]\n",
        "    y_train, y_test = y1[train_index], y1[test_index]\n",
        "\n",
        "    knn = KNeighborsClassifier(n_neighbors=3)\n",
        "    knn.fit(X_train, y_train)\n",
        "\n",
        "    y_pred = knn.predict(X_test)\n",
        "    accuracy = accuracy_score(y_test, y_pred)\n",
        "    print(classification_report(y_test, y_pred))\n",
        "    print(\"Precisión del clasificador KNN:\", accuracy)"
      ]
    },
    {
      "cell_type": "code",
      "execution_count": 52,
      "metadata": {
        "id": "lFLqSxq9OBi8"
      },
      "outputs": [
        {
          "name": "stdout",
          "output_type": "stream",
          "text": [
            "288 73\n",
            "              precision    recall  f1-score   support\n",
            "\n",
            "           F       0.41      0.69      0.51        16\n",
            "           T       0.89      0.72      0.80        57\n",
            "\n",
            "    accuracy                           0.71        73\n",
            "   macro avg       0.65      0.70      0.65        73\n",
            "weighted avg       0.79      0.71      0.73        73\n",
            "\n",
            "Precisión del clasificador Bayes Ingenuo: 0.7123287671232876\n",
            "289 72\n",
            "              precision    recall  f1-score   support\n",
            "\n",
            "           F       0.50      0.35      0.41        23\n",
            "           T       0.73      0.84      0.78        49\n",
            "\n",
            "    accuracy                           0.68        72\n",
            "   macro avg       0.62      0.59      0.60        72\n",
            "weighted avg       0.66      0.68      0.66        72\n",
            "\n",
            "Precisión del clasificador Bayes Ingenuo: 0.6805555555555556\n",
            "289 72\n",
            "              precision    recall  f1-score   support\n",
            "\n",
            "           F       0.52      0.72      0.60        18\n",
            "           T       0.89      0.78      0.83        54\n",
            "\n",
            "    accuracy                           0.76        72\n",
            "   macro avg       0.71      0.75      0.72        72\n",
            "weighted avg       0.80      0.76      0.77        72\n",
            "\n",
            "Precisión del clasificador Bayes Ingenuo: 0.7638888888888888\n",
            "289 72\n",
            "              precision    recall  f1-score   support\n",
            "\n",
            "           F       0.67      0.64      0.65        25\n",
            "           T       0.81      0.83      0.82        47\n",
            "\n",
            "    accuracy                           0.76        72\n",
            "   macro avg       0.74      0.73      0.74        72\n",
            "weighted avg       0.76      0.76      0.76        72\n",
            "\n",
            "Precisión del clasificador Bayes Ingenuo: 0.7638888888888888\n",
            "289 72\n",
            "              precision    recall  f1-score   support\n",
            "\n",
            "           F       0.58      0.44      0.50        16\n",
            "           T       0.85      0.91      0.88        56\n",
            "\n",
            "    accuracy                           0.81        72\n",
            "   macro avg       0.72      0.67      0.69        72\n",
            "weighted avg       0.79      0.81      0.80        72\n",
            "\n",
            "Precisión del clasificador Bayes Ingenuo: 0.8055555555555556\n"
          ]
        }
      ],
      "source": [
        "warnings.filterwarnings('ignore')\n",
        "\n",
        "kf = KFold(n_splits=5, shuffle=True, random_state=2)\n",
        "y1 = y.values\n",
        "\n",
        "X_encoded = encoder.fit_transform(X)\n",
        "for i , (train_index, test_index) in enumerate(kf.split(X_encoded,y1)):\n",
        "    X_train, X_test = X_encoded[train_index], X_encoded[test_index]\n",
        "    y_train, y_test = y1[train_index], y1[test_index]\n",
        "\n",
        "    print(X_train.shape[0], X_test.shape[0])\n",
        "\n",
        "    nb = CategoricalNB()\n",
        "    nb.fit(X_train, y_train)\n",
        "\n",
        "    y_pred = nb.predict(X_test)\n",
        "    accuracy = accuracy_score(y_test, y_pred)\n",
        "    print(classification_report(y_test, y_pred))\n",
        "    print(\"Precisión del clasificador Bayes Ingenuo:\", accuracy)"
      ]
    },
    {
      "attachments": {},
      "cell_type": "markdown",
      "metadata": {
        "id": "r9ePPdEOKra9"
      },
      "source": [
        "# **Perfiles**"
      ]
    },
    {
      "cell_type": "code",
      "execution_count": 85,
      "metadata": {
        "colab": {
          "base_uri": "https://localhost:8080/",
          "height": 456
        },
        "id": "hLKqk4HMKs2e",
        "outputId": "70937306-2836-46a6-c319-157869f3dd16"
      },
      "outputs": [
        {
          "data": {
            "text/html": [
              "<div>\n",
              "<style scoped>\n",
              "    .dataframe tbody tr th:only-of-type {\n",
              "        vertical-align: middle;\n",
              "    }\n",
              "\n",
              "    .dataframe tbody tr th {\n",
              "        vertical-align: top;\n",
              "    }\n",
              "\n",
              "    .dataframe thead th {\n",
              "        text-align: right;\n",
              "    }\n",
              "</style>\n",
              "<table border=\"1\" class=\"dataframe\">\n",
              "  <thead>\n",
              "    <tr style=\"text-align: right;\">\n",
              "      <th></th>\n",
              "      <th>Unnamed: 0</th>\n",
              "      <th>Edad</th>\n",
              "      <th>Genero</th>\n",
              "      <th>Tutor</th>\n",
              "      <th>Vive-con-Familia</th>\n",
              "      <th>Enfermedad-CrÃ³nica</th>\n",
              "      <th>Promedio-Preparatoria</th>\n",
              "      <th>Materias-Relacionadas</th>\n",
              "      <th>Carrera-Elegida-Ajusta-A-Gustos-Habilidades</th>\n",
              "      <th>Buena-RelaciÃ³n-Familiar</th>\n",
              "      <th>...</th>\n",
              "      <th>Noviazgo</th>\n",
              "      <th>Actividad-Cultural-o-Deportiva</th>\n",
              "      <th>Tiempo-con-sus-amigos-compaÃ±eros</th>\n",
              "      <th>Horas-Semana-Divertirse con-sus-amigos</th>\n",
              "      <th>ConsumÃ­a-Alcohol-Entre-semana</th>\n",
              "      <th>ConsumÃ­a-Alcohol-Fin-semana</th>\n",
              "      <th>Horas-DÃ­a-Dedicada-Redes-Sociales</th>\n",
              "      <th>Gustan-Videojuegos</th>\n",
              "      <th>Horas-Semana-Dedicada-Videojuegos</th>\n",
              "      <th>Horas-Semana-Dedicada-Actividades-Entretenimiento</th>\n",
              "    </tr>\n",
              "  </thead>\n",
              "  <tbody>\n",
              "    <tr>\n",
              "      <th>0</th>\n",
              "      <td>0</td>\n",
              "      <td>señor</td>\n",
              "      <td>Masculino</td>\n",
              "      <td>Madre</td>\n",
              "      <td>No</td>\n",
              "      <td>No</td>\n",
              "      <td>bueno</td>\n",
              "      <td>Sí</td>\n",
              "      <td>Sí</td>\n",
              "      <td>No</td>\n",
              "      <td>...</td>\n",
              "      <td>No</td>\n",
              "      <td>No</td>\n",
              "      <td>No</td>\n",
              "      <td>baja</td>\n",
              "      <td>nunca</td>\n",
              "      <td>nunca</td>\n",
              "      <td>&lt;1</td>\n",
              "      <td>No</td>\n",
              "      <td>0</td>\n",
              "      <td>1-3</td>\n",
              "    </tr>\n",
              "    <tr>\n",
              "      <th>1</th>\n",
              "      <td>1</td>\n",
              "      <td>joven</td>\n",
              "      <td>Masculino</td>\n",
              "      <td>Madre</td>\n",
              "      <td>Sí</td>\n",
              "      <td>No</td>\n",
              "      <td>bueno</td>\n",
              "      <td>No</td>\n",
              "      <td>Sí</td>\n",
              "      <td>Sí</td>\n",
              "      <td>...</td>\n",
              "      <td>Sí</td>\n",
              "      <td>Sí</td>\n",
              "      <td>Sí</td>\n",
              "      <td>media</td>\n",
              "      <td>casi-nunca</td>\n",
              "      <td>a veces</td>\n",
              "      <td>&gt;2</td>\n",
              "      <td>Sí</td>\n",
              "      <td>&gt;3</td>\n",
              "      <td>1-3</td>\n",
              "    </tr>\n",
              "    <tr>\n",
              "      <th>2</th>\n",
              "      <td>2</td>\n",
              "      <td>joven</td>\n",
              "      <td>Masculino</td>\n",
              "      <td>Padre</td>\n",
              "      <td>Sí</td>\n",
              "      <td>No</td>\n",
              "      <td>regular</td>\n",
              "      <td>No</td>\n",
              "      <td>Sí</td>\n",
              "      <td>Sí</td>\n",
              "      <td>...</td>\n",
              "      <td>Sí</td>\n",
              "      <td>No</td>\n",
              "      <td>Sí</td>\n",
              "      <td>baja</td>\n",
              "      <td>casi-nunca</td>\n",
              "      <td>casi-nunca</td>\n",
              "      <td>1-2</td>\n",
              "      <td>Sí</td>\n",
              "      <td>1-3</td>\n",
              "      <td>1-3</td>\n",
              "    </tr>\n",
              "    <tr>\n",
              "      <th>3</th>\n",
              "      <td>3</td>\n",
              "      <td>joven</td>\n",
              "      <td>Masculino</td>\n",
              "      <td>Madre</td>\n",
              "      <td>No</td>\n",
              "      <td>No</td>\n",
              "      <td>bueno</td>\n",
              "      <td>Sí</td>\n",
              "      <td>No</td>\n",
              "      <td>Sí</td>\n",
              "      <td>...</td>\n",
              "      <td>No</td>\n",
              "      <td>Sí</td>\n",
              "      <td>Sí</td>\n",
              "      <td>baja</td>\n",
              "      <td>a veces</td>\n",
              "      <td>regularmente</td>\n",
              "      <td>1-2</td>\n",
              "      <td>No</td>\n",
              "      <td>0</td>\n",
              "      <td>1-3</td>\n",
              "    </tr>\n",
              "    <tr>\n",
              "      <th>4</th>\n",
              "      <td>4</td>\n",
              "      <td>joven</td>\n",
              "      <td>Masculino</td>\n",
              "      <td>Madre</td>\n",
              "      <td>Sí</td>\n",
              "      <td>No</td>\n",
              "      <td>regular</td>\n",
              "      <td>No</td>\n",
              "      <td>No</td>\n",
              "      <td>No</td>\n",
              "      <td>...</td>\n",
              "      <td>Sí</td>\n",
              "      <td>No</td>\n",
              "      <td>No</td>\n",
              "      <td>baja</td>\n",
              "      <td>nunca</td>\n",
              "      <td>casi-nunca</td>\n",
              "      <td>1-2</td>\n",
              "      <td>Sí</td>\n",
              "      <td>&gt;3</td>\n",
              "      <td>&gt;3</td>\n",
              "    </tr>\n",
              "  </tbody>\n",
              "</table>\n",
              "<p>5 rows × 30 columns</p>\n",
              "</div>"
            ],
            "text/plain": [
              "   Unnamed: 0   Edad     Genero  Tutor Vive-con-Familia Enfermedad-CrÃ³nica  \\\n",
              "0           0  señor  Masculino  Madre               No                  No   \n",
              "1           1  joven  Masculino  Madre               Sí                  No   \n",
              "2           2  joven  Masculino  Padre               Sí                  No   \n",
              "3           3  joven  Masculino  Madre               No                  No   \n",
              "4           4  joven  Masculino  Madre               Sí                  No   \n",
              "\n",
              "  Promedio-Preparatoria Materias-Relacionadas  \\\n",
              "0                 bueno                    Sí   \n",
              "1                 bueno                    No   \n",
              "2               regular                    No   \n",
              "3                 bueno                    Sí   \n",
              "4               regular                    No   \n",
              "\n",
              "  Carrera-Elegida-Ajusta-A-Gustos-Habilidades Buena-RelaciÃ³n-Familiar  ...  \\\n",
              "0                                          Sí                       No  ...   \n",
              "1                                          Sí                       Sí  ...   \n",
              "2                                          Sí                       Sí  ...   \n",
              "3                                          No                       Sí  ...   \n",
              "4                                          No                       No  ...   \n",
              "\n",
              "  Noviazgo Actividad-Cultural-o-Deportiva Tiempo-con-sus-amigos-compaÃ±eros  \\\n",
              "0       No                             No                                No   \n",
              "1       Sí                             Sí                                Sí   \n",
              "2       Sí                             No                                Sí   \n",
              "3       No                             Sí                                Sí   \n",
              "4       Sí                             No                                No   \n",
              "\n",
              "  Horas-Semana-Divertirse con-sus-amigos ConsumÃ­a-Alcohol-Entre-semana  \\\n",
              "0                                   baja                          nunca   \n",
              "1                                  media                     casi-nunca   \n",
              "2                                   baja                     casi-nunca   \n",
              "3                                   baja                        a veces   \n",
              "4                                   baja                          nunca   \n",
              "\n",
              "  ConsumÃ­a-Alcohol-Fin-semana Horas-DÃ­a-Dedicada-Redes-Sociales  \\\n",
              "0                        nunca                                 <1   \n",
              "1                      a veces                                 >2   \n",
              "2                   casi-nunca                                1-2   \n",
              "3                 regularmente                                1-2   \n",
              "4                   casi-nunca                                1-2   \n",
              "\n",
              "  Gustan-Videojuegos Horas-Semana-Dedicada-Videojuegos  \\\n",
              "0                 No                                 0   \n",
              "1                 Sí                                >3   \n",
              "2                 Sí                               1-3   \n",
              "3                 No                                 0   \n",
              "4                 Sí                                >3   \n",
              "\n",
              "  Horas-Semana-Dedicada-Actividades-Entretenimiento  \n",
              "0                                               1-3  \n",
              "1                                               1-3  \n",
              "2                                               1-3  \n",
              "3                                               1-3  \n",
              "4                                                >3  \n",
              "\n",
              "[5 rows x 30 columns]"
            ]
          },
          "execution_count": 85,
          "metadata": {},
          "output_type": "execute_result"
        }
      ],
      "source": [
        "df = pd.read_csv(\"ReconocimientoPerfiles.csv\")\n",
        "df.head()"
      ]
    },
    {
      "cell_type": "code",
      "execution_count": 86,
      "metadata": {},
      "outputs": [
        {
          "name": "stdout",
          "output_type": "stream",
          "text": [
            "bueno      68\n",
            "regular    67\n",
            "malo        7\n",
            "Name: Promedio-Primer-Semestre, dtype: int64\n"
          ]
        }
      ],
      "source": [
        "cantidad_elementos = df['Promedio-Primer-Semestre'].value_counts()\n",
        "print(cantidad_elementos)\n",
        "df = df.drop(columns=['Unnamed: 0'])"
      ]
    },
    {
      "cell_type": "code",
      "execution_count": 87,
      "metadata": {},
      "outputs": [
        {
          "name": "stdout",
          "output_type": "stream",
          "text": [
            "Index(['Edad', 'Genero', 'Tutor', 'Vive-con-Familia', 'Enfermedad-CrÃ³nica',\n",
            "       'Promedio-Preparatoria', 'Materias-Relacionadas',\n",
            "       'Carrera-Elegida-Ajusta-A-Gustos-Habilidades',\n",
            "       'Buena-RelaciÃ³n-Familiar', 'Buena-RelaciÃ³n-Amigos-CompaÃ±eros',\n",
            "       'Materias-Cursadas-Primer-Semestre', 'Promedio-Primer-Semestre',\n",
            "       'Materias-Aprobadas-Primer-Semestre',\n",
            "       'Materias-Reprobadas-De-ComputaciÃ³n',\n",
            "       'Materias-Reprobadas-De-MatemÃ¡ticas',\n",
            "       'Materias-Reprobadas-De-Ciensias-Sociales',\n",
            "       'Horas-Promedio-Estudio-Examenes',\n",
            "       'Horas-Promedio-Estudio-Actividades-Escolares',\n",
            "       'Cursos-Extra-Primer-Semestre', 'Noviazgo',\n",
            "       'Actividad-Cultural-o-Deportiva', 'Tiempo-con-sus-amigos-compaÃ±eros',\n",
            "       'Horas-Semana-Divertirse con-sus-amigos',\n",
            "       'ConsumÃ­a-Alcohol-Entre-semana', 'ConsumÃ­a-Alcohol-Fin-semana',\n",
            "       'Horas-DÃ­a-Dedicada-Redes-Sociales', 'Gustan-Videojuegos',\n",
            "       'Horas-Semana-Dedicada-Videojuegos',\n",
            "       'Horas-Semana-Dedicada-Actividades-Entretenimiento'],\n",
            "      dtype='object')\n"
          ]
        }
      ],
      "source": [
        "headers = df.columns\n",
        "print(headers)\n"
      ]
    },
    {
      "cell_type": "code",
      "execution_count": 118,
      "metadata": {},
      "outputs": [
        {
          "data": {
            "text/html": [
              "<div>\n",
              "<style scoped>\n",
              "    .dataframe tbody tr th:only-of-type {\n",
              "        vertical-align: middle;\n",
              "    }\n",
              "\n",
              "    .dataframe tbody tr th {\n",
              "        vertical-align: top;\n",
              "    }\n",
              "\n",
              "    .dataframe thead th {\n",
              "        text-align: right;\n",
              "    }\n",
              "</style>\n",
              "<table border=\"1\" class=\"dataframe\">\n",
              "  <thead>\n",
              "    <tr style=\"text-align: right;\">\n",
              "      <th></th>\n",
              "      <th>cantidad_caracteres_nombre</th>\n",
              "      <th>tiene_foto_perfil</th>\n",
              "      <th>cantidad_seguidores</th>\n",
              "      <th>cantidad_seguidos</th>\n",
              "      <th>promedio_publicaciones</th>\n",
              "      <th>perfil_privado</th>\n",
              "      <th>dia_mas_publica</th>\n",
              "      <th>comenta_publicaciones</th>\n",
              "      <th>clase</th>\n",
              "    </tr>\n",
              "  </thead>\n",
              "  <tbody>\n",
              "    <tr>\n",
              "      <th>289</th>\n",
              "      <td>medio</td>\n",
              "      <td>Sí</td>\n",
              "      <td>bajo</td>\n",
              "      <td>bajo</td>\n",
              "      <td>bajo</td>\n",
              "      <td>no</td>\n",
              "      <td>Fin de semana</td>\n",
              "      <td>no</td>\n",
              "      <td>Fake</td>\n",
              "    </tr>\n",
              "    <tr>\n",
              "      <th>290</th>\n",
              "      <td>medio</td>\n",
              "      <td>Sí</td>\n",
              "      <td>bajo</td>\n",
              "      <td>bajo</td>\n",
              "      <td>bajo</td>\n",
              "      <td>no</td>\n",
              "      <td>Fin de semana</td>\n",
              "      <td>no</td>\n",
              "      <td>Fake</td>\n",
              "    </tr>\n",
              "    <tr>\n",
              "      <th>291</th>\n",
              "      <td>largo</td>\n",
              "      <td>Sí</td>\n",
              "      <td>bajo</td>\n",
              "      <td>bajo</td>\n",
              "      <td>bajo</td>\n",
              "      <td>no</td>\n",
              "      <td>Media semana</td>\n",
              "      <td>no</td>\n",
              "      <td>Fake</td>\n",
              "    </tr>\n",
              "    <tr>\n",
              "      <th>292</th>\n",
              "      <td>largo</td>\n",
              "      <td>Sí</td>\n",
              "      <td>medio</td>\n",
              "      <td>alto</td>\n",
              "      <td>bajo</td>\n",
              "      <td>no</td>\n",
              "      <td>Fin de semana</td>\n",
              "      <td>no</td>\n",
              "      <td>Fake</td>\n",
              "    </tr>\n",
              "    <tr>\n",
              "      <th>293</th>\n",
              "      <td>medio</td>\n",
              "      <td>Sí</td>\n",
              "      <td>medio</td>\n",
              "      <td>medio</td>\n",
              "      <td>bajo</td>\n",
              "      <td>no</td>\n",
              "      <td>Media semana</td>\n",
              "      <td>no</td>\n",
              "      <td>Fake</td>\n",
              "    </tr>\n",
              "  </tbody>\n",
              "</table>\n",
              "</div>"
            ],
            "text/plain": [
              "    cantidad_caracteres_nombre tiene_foto_perfil cantidad_seguidores  \\\n",
              "289                      medio                Sí                bajo   \n",
              "290                      medio                Sí                bajo   \n",
              "291                      largo                Sí                bajo   \n",
              "292                      largo                Sí               medio   \n",
              "293                      medio                Sí               medio   \n",
              "\n",
              "    cantidad_seguidos promedio_publicaciones perfil_privado dia_mas_publica  \\\n",
              "289              bajo                   bajo             no   Fin de semana   \n",
              "290              bajo                   bajo             no   Fin de semana   \n",
              "291              bajo                   bajo             no    Media semana   \n",
              "292              alto                   bajo             no   Fin de semana   \n",
              "293             medio                   bajo             no    Media semana   \n",
              "\n",
              "    comenta_publicaciones clase  \n",
              "289                    no  Fake  \n",
              "290                    no  Fake  \n",
              "291                    no  Fake  \n",
              "292                    no  Fake  \n",
              "293                    no  Fake  "
            ]
          },
          "execution_count": 118,
          "metadata": {},
          "output_type": "execute_result"
        }
      ],
      "source": [
        "df = pd.read_csv(\"Twitter.csv\")\n",
        "\n",
        "df = df.drop(columns=['Unnamed: 0'])\n",
        "df = df.loc[:, ~df.columns.str.contains('^nombre')]\n",
        "df.tail()\n"
      ]
    },
    {
      "cell_type": "code",
      "execution_count": 119,
      "metadata": {},
      "outputs": [
        {
          "name": "stdout",
          "output_type": "stream",
          "text": [
            "Index(['cantidad_caracteres_nombre', 'tiene_foto_perfil',\n",
            "       'cantidad_seguidores', 'cantidad_seguidos', 'promedio_publicaciones',\n",
            "       'perfil_privado', 'dia_mas_publica', 'comenta_publicaciones', 'clase'],\n",
            "      dtype='object')\n"
          ]
        }
      ],
      "source": [
        "headers = df.columns\n",
        "print(headers)"
      ]
    },
    {
      "cell_type": "code",
      "execution_count": 120,
      "metadata": {
        "id": "FNhqpej-KxWm"
      },
      "outputs": [
        {
          "name": "stdout",
          "output_type": "stream",
          "text": [
            "['cantidad_caracteres_nombre', 'tiene_foto_perfil', 'cantidad_seguidores']\n",
            "0.7303370786516854 ['cantidad_caracteres_nombre', 'tiene_foto_perfil', 'cantidad_seguidores']\n",
            "[[22  6]\n",
            " [18 43]]\n",
            "['cantidad_caracteres_nombre', 'tiene_foto_perfil', 'cantidad_seguidos']\n",
            "0.7528089887640449 ['cantidad_caracteres_nombre', 'tiene_foto_perfil', 'cantidad_seguidos']\n",
            "[[22  6]\n",
            " [16 45]]\n",
            "['cantidad_caracteres_nombre', 'tiene_foto_perfil', 'promedio_publicaciones']\n",
            "['cantidad_caracteres_nombre', 'tiene_foto_perfil', 'perfil_privado']\n",
            "['cantidad_caracteres_nombre', 'tiene_foto_perfil', 'dia_mas_publica']\n",
            "['cantidad_caracteres_nombre', 'tiene_foto_perfil', 'comenta_publicaciones']\n"
          ]
        },
        {
          "ename": "IndexError",
          "evalue": "index 1 is out of bounds for axis 1 with size 1",
          "output_type": "error",
          "traceback": [
            "\u001b[0;31m---------------------------------------------------------------------------\u001b[0m",
            "\u001b[0;31mIndexError\u001b[0m                                Traceback (most recent call last)",
            "\u001b[1;32m/Users/samuelguerrero/GitHub/1002-A/Reconocimiento-de-Patrones/Segundo Parcial/SeleccionCaracterísticas/Clasificadores.ipynb Cell 36\u001b[0m in \u001b[0;36m<cell line: 13>\u001b[0;34m()\u001b[0m\n\u001b[1;32m     <a href='vscode-notebook-cell:/Users/samuelguerrero/GitHub/1002-A/Reconocimiento-de-Patrones/Segundo%20Parcial/SeleccionCaracter%C3%ADsticas/Clasificadores.ipynb#X43sZmlsZQ%3D%3D?line=30'>31</a>\u001b[0m nb \u001b[39m=\u001b[39m CategoricalNB()\n\u001b[1;32m     <a href='vscode-notebook-cell:/Users/samuelguerrero/GitHub/1002-A/Reconocimiento-de-Patrones/Segundo%20Parcial/SeleccionCaracter%C3%ADsticas/Clasificadores.ipynb#X43sZmlsZQ%3D%3D?line=31'>32</a>\u001b[0m nb\u001b[39m.\u001b[39mfit(X_train, y_train)\n\u001b[0;32m---> <a href='vscode-notebook-cell:/Users/samuelguerrero/GitHub/1002-A/Reconocimiento-de-Patrones/Segundo%20Parcial/SeleccionCaracter%C3%ADsticas/Clasificadores.ipynb#X43sZmlsZQ%3D%3D?line=33'>34</a>\u001b[0m y_pred \u001b[39m=\u001b[39m nb\u001b[39m.\u001b[39;49mpredict(X_test)\n\u001b[1;32m     <a href='vscode-notebook-cell:/Users/samuelguerrero/GitHub/1002-A/Reconocimiento-de-Patrones/Segundo%20Parcial/SeleccionCaracter%C3%ADsticas/Clasificadores.ipynb#X43sZmlsZQ%3D%3D?line=36'>37</a>\u001b[0m accuracy \u001b[39m=\u001b[39m accuracy_score(y_test, y_pred)\n\u001b[1;32m     <a href='vscode-notebook-cell:/Users/samuelguerrero/GitHub/1002-A/Reconocimiento-de-Patrones/Segundo%20Parcial/SeleccionCaracter%C3%ADsticas/Clasificadores.ipynb#X43sZmlsZQ%3D%3D?line=37'>38</a>\u001b[0m \u001b[39mif\u001b[39;00m(accuracy \u001b[39m>\u001b[39m best_accuracy):\n",
            "File \u001b[0;32m~/anaconda3/lib/python3.9/site-packages/sklearn/naive_bayes.py:81\u001b[0m, in \u001b[0;36m_BaseNB.predict\u001b[0;34m(self, X)\u001b[0m\n\u001b[1;32m     79\u001b[0m check_is_fitted(\u001b[39mself\u001b[39m)\n\u001b[1;32m     80\u001b[0m X \u001b[39m=\u001b[39m \u001b[39mself\u001b[39m\u001b[39m.\u001b[39m_check_X(X)\n\u001b[0;32m---> 81\u001b[0m jll \u001b[39m=\u001b[39m \u001b[39mself\u001b[39;49m\u001b[39m.\u001b[39;49m_joint_log_likelihood(X)\n\u001b[1;32m     82\u001b[0m \u001b[39mreturn\u001b[39;00m \u001b[39mself\u001b[39m\u001b[39m.\u001b[39mclasses_[np\u001b[39m.\u001b[39margmax(jll, axis\u001b[39m=\u001b[39m\u001b[39m1\u001b[39m)]\n",
            "File \u001b[0;32m~/anaconda3/lib/python3.9/site-packages/sklearn/naive_bayes.py:1425\u001b[0m, in \u001b[0;36mCategoricalNB._joint_log_likelihood\u001b[0;34m(self, X)\u001b[0m\n\u001b[1;32m   1423\u001b[0m \u001b[39mfor\u001b[39;00m i \u001b[39min\u001b[39;00m \u001b[39mrange\u001b[39m(\u001b[39mself\u001b[39m\u001b[39m.\u001b[39mn_features_in_):\n\u001b[1;32m   1424\u001b[0m     indices \u001b[39m=\u001b[39m X[:, i]\n\u001b[0;32m-> 1425\u001b[0m     jll \u001b[39m+\u001b[39m\u001b[39m=\u001b[39m \u001b[39mself\u001b[39;49m\u001b[39m.\u001b[39;49mfeature_log_prob_[i][:, indices]\u001b[39m.\u001b[39mT\n\u001b[1;32m   1426\u001b[0m total_ll \u001b[39m=\u001b[39m jll \u001b[39m+\u001b[39m \u001b[39mself\u001b[39m\u001b[39m.\u001b[39mclass_log_prior_\n\u001b[1;32m   1427\u001b[0m \u001b[39mreturn\u001b[39;00m total_ll\n",
            "\u001b[0;31mIndexError\u001b[0m: index 1 is out of bounds for axis 1 with size 1"
          ]
        }
      ],
      "source": [
        "#Dropear Carrera\n",
        "import warnings\n",
        "warnings.filterwarnings('ignore')\n",
        "\n",
        "\n",
        "\n",
        "\n",
        "best_accuracy = 0\n",
        "best_characteristics = []\n",
        "best_model = []\n",
        "best_cm = []\n",
        "\n",
        "for header1 in headers:\n",
        "    for header2 in headers:\n",
        "        for header3 in headers:\n",
        "            if((header1 != header2) and (header1 != header3) and (header2 != header3) and (header1 != 'clase') and (header2 != 'clase') and (header3 != 'clase')):\n",
        "                characteristics = [header1, header2, header3]\n",
        "                print(characteristics)\n",
        "                X = df.filter(items=characteristics).copy()\n",
        "                classColumn = ['clase']\n",
        "                y = df.filter(items=classColumn).copy()\n",
        "\n",
        "                encoder = OneHotEncoder(sparse=False)\n",
        "                X_encoded = encoder.fit_transform(X)\n",
        "\n",
        "                X_train, X_test, y_train, y_test = train_test_split(X_encoded, y, test_size=0.3, random_state=42)\n",
        "\n",
        "                #knn = KNeighborsClassifier(n_neighbors=3)\n",
        "\n",
        "                #knn.fit(X_train, y_train)\n",
        "                nb = CategoricalNB()\n",
        "                nb.fit(X_train, y_train)\n",
        "\n",
        "                y_pred = nb.predict(X_test)\n",
        "\n",
        "\n",
        "                accuracy = accuracy_score(y_test, y_pred)\n",
        "                if(accuracy > best_accuracy):\n",
        "                    best_accuracy = accuracy\n",
        "                    best_characteristics = characteristics\n",
        "                    best_model = nb\n",
        "                    print(best_accuracy, best_characteristics)\n",
        "\n",
        "                    cm = confusion_matrix(y_test, y_pred)\n",
        "                    best_cm = cm\n",
        "                    print(cm)\n",
        "                    \n",
        "\n",
        "                #print(\"Precisión del clasificador KNN:\", accuracy)"
      ]
    },
    {
      "cell_type": "code",
      "execution_count": 43,
      "metadata": {},
      "outputs": [
        {
          "name": "stdout",
          "output_type": "stream",
          "text": [
            "0\n",
            "[]\n",
            "[]\n"
          ]
        }
      ],
      "source": [
        "print(best_accuracy)\n",
        "print(best_characteristics)\n",
        "print(best_cm)\n"
      ]
    },
    {
      "cell_type": "code",
      "execution_count": 55,
      "metadata": {
        "colab": {
          "base_uri": "https://localhost:8080/"
        },
        "id": "ObkhrwK0LKWO",
        "outputId": "3f17c717-e4fe-402e-f11b-e81db47089b6"
      },
      "outputs": [
        {
          "name": "stdout",
          "output_type": "stream",
          "text": [
            "85 57\n",
            "Precisión del clasificador KNN: 0.631578947368421\n"
          ]
        }
      ],
      "source": [
        "classColumn = ['Promedio-Primer-Semestre']\n",
        "y = df.filter(items=classColumn).copy()\n",
        "\n",
        "encoder = OneHotEncoder(sparse=False)\n",
        "X_encoded = encoder.fit_transform(X)\n",
        "\n",
        "X_train, X_test, y_train, y_test = train_test_split(X_encoded, y, test_size=0.4, random_state=42)\n",
        "\n",
        "print(X_train.shape[0], X_test.shape[0])\n",
        "\n",
        "knn = KNeighborsClassifier(n_neighbors=3)\n",
        "\n",
        "knn.fit(X_train, y_train)\n",
        "\n",
        "y_pred = knn.predict(X_test)\n",
        "\n",
        "accuracy = accuracy_score(y_test, y_pred)\n",
        "print(\"Precisión del clasificador KNN:\", accuracy)"
      ]
    },
    {
      "cell_type": "code",
      "execution_count": 56,
      "metadata": {
        "colab": {
          "base_uri": "https://localhost:8080/",
          "height": 447
        },
        "id": "ilB0-5a7LQw7",
        "outputId": "1953b027-321c-430a-ddaf-74c0513c4ef3"
      },
      "outputs": [
        {
          "data": {
            "text/plain": [
              "<Axes: >"
            ]
          },
          "execution_count": 56,
          "metadata": {},
          "output_type": "execute_result"
        },
        {
          "data": {
            "image/png": "[encoded data removed]",
            "text/plain": [
              "<Figure size 640x480 with 2 Axes>"
            ]
          },
          "metadata": {},
          "output_type": "display_data"
        }
      ],
      "source": [
        "import seaborn as sns\n",
        "\n",
        "cm = confusion_matrix(y_test, y_pred)\n",
        "sns.heatmap(cm, annot=True)"
      ]
    },
    {
      "cell_type": "code",
      "execution_count": 57,
      "metadata": {
        "colab": {
          "base_uri": "https://localhost:8080/"
        },
        "id": "011HdO_pM3e3",
        "outputId": "cbe1c88b-2cf4-4b00-eee6-c30b01ab383d"
      },
      "outputs": [
        {
          "name": "stdout",
          "output_type": "stream",
          "text": [
            "              precision    recall  f1-score   support\n",
            "\n",
            "       bueno       0.00      0.00      0.00         3\n",
            "        malo       0.45      0.59      0.51        17\n",
            "     regular       0.74      0.70      0.72        37\n",
            "\n",
            "    accuracy                           0.63        57\n",
            "   macro avg       0.40      0.43      0.41        57\n",
            "weighted avg       0.62      0.63      0.62        57\n",
            "\n"
          ]
        }
      ],
      "source": [
        "print(classification_report(y_test, y_pred))"
      ]
    },
    {
      "cell_type": "code",
      "execution_count": 58,
      "metadata": {
        "colab": {
          "base_uri": "https://localhost:8080/"
        },
        "id": "U-HYqiFrLWBj",
        "outputId": "52cc8f1a-3794-4c05-bfa4-7a86af1e870d"
      },
      "outputs": [
        {
          "name": "stdout",
          "output_type": "stream",
          "text": [
            "Precisión del clasificador Bayes Ingenuo: 0.7894736842105263\n"
          ]
        }
      ],
      "source": [
        "X_train2, X_test2, y_train2, y_test2 = train_test_split(X_encoded, y, test_size=0.4, random_state=42)\n",
        "\n",
        "nb = CategoricalNB()\n",
        "\n",
        "nb.fit(X_train2, y_train2)\n",
        "\n",
        "y_pred2 = nb.predict(X_test2)\n",
        "\n",
        "accuracy = accuracy_score(y_test2, y_pred2)\n",
        "print(\"Precisión del clasificador Bayes Ingenuo:\", accuracy)"
      ]
    },
    {
      "cell_type": "code",
      "execution_count": 59,
      "metadata": {
        "colab": {
          "base_uri": "https://localhost:8080/",
          "height": 447
        },
        "id": "F11C3zXVLWZ1",
        "outputId": "2466c5ae-c3fa-44e2-f382-7ff443fea7ec"
      },
      "outputs": [
        {
          "data": {
            "text/plain": [
              "<Axes: >"
            ]
          },
          "execution_count": 59,
          "metadata": {},
          "output_type": "execute_result"
        },
        {
          "data": {
            "image/png": "[encoded data removed]",
            "text/plain": [
              "<Figure size 640x480 with 2 Axes>"
            ]
          },
          "metadata": {},
          "output_type": "display_data"
        }
      ],
      "source": [
        "import seaborn as sns\n",
        "\n",
        "cm = confusion_matrix(y_test2, y_pred2)\n",
        "sns.heatmap(cm, annot=True)"
      ]
    },
    {
      "cell_type": "code",
      "execution_count": 60,
      "metadata": {
        "colab": {
          "base_uri": "https://localhost:8080/"
        },
        "id": "BnRCp7zPM4cX",
        "outputId": "1ff75bdb-8800-4691-fcdf-59af64940f66"
      },
      "outputs": [
        {
          "name": "stdout",
          "output_type": "stream",
          "text": [
            "              precision    recall  f1-score   support\n",
            "\n",
            "       bueno       0.00      0.00      0.00         3\n",
            "        malo       0.70      0.82      0.76        17\n",
            "     regular       0.84      0.84      0.84        37\n",
            "\n",
            "    accuracy                           0.79        57\n",
            "   macro avg       0.51      0.55      0.53        57\n",
            "weighted avg       0.75      0.79      0.77        57\n",
            "\n"
          ]
        }
      ],
      "source": [
        "print(classification_report(y_test2, y_pred2))"
      ]
    },
    {
      "attachments": {},
      "cell_type": "markdown",
      "metadata": {
        "id": "j8jXFc6rQJgG"
      },
      "source": [
        "### K-fold"
      ]
    },
    {
      "cell_type": "code",
      "execution_count": 61,
      "metadata": {
        "colab": {
          "base_uri": "https://localhost:8080/"
        },
        "id": "JwM92davQil1",
        "outputId": "1022f276-fa7d-46fa-a8d6-2684d23f71f6"
      },
      "outputs": [
        {
          "name": "stdout",
          "output_type": "stream",
          "text": [
            "              precision    recall  f1-score   support\n",
            "\n",
            "       bueno       0.14      0.67      0.24         3\n",
            "        malo       0.67      0.80      0.73         5\n",
            "     regular       0.89      0.38      0.53        21\n",
            "\n",
            "    accuracy                           0.48        29\n",
            "   macro avg       0.57      0.62      0.50        29\n",
            "weighted avg       0.77      0.48      0.54        29\n",
            "\n",
            "Precisión del clasificador KNN: 0.4827586206896552\n",
            "              precision    recall  f1-score   support\n",
            "\n",
            "       bueno       0.00      0.00      0.00         1\n",
            "        malo       0.50      0.50      0.50        12\n",
            "     regular       0.59      0.62      0.61        16\n",
            "\n",
            "    accuracy                           0.55        29\n",
            "   macro avg       0.36      0.38      0.37        29\n",
            "weighted avg       0.53      0.55      0.54        29\n",
            "\n",
            "Precisión del clasificador KNN: 0.5517241379310345\n",
            "              precision    recall  f1-score   support\n",
            "\n",
            "       bueno       0.00      0.00      0.00         1\n",
            "        malo       1.00      0.33      0.50         9\n",
            "     regular       0.72      1.00      0.84        18\n",
            "\n",
            "    accuracy                           0.75        28\n",
            "   macro avg       0.57      0.44      0.45        28\n",
            "weighted avg       0.78      0.75      0.70        28\n",
            "\n",
            "Precisión del clasificador KNN: 0.75\n",
            "              precision    recall  f1-score   support\n",
            "\n",
            "        malo       1.00      0.33      0.50        12\n",
            "     regular       0.67      1.00      0.80        16\n",
            "\n",
            "    accuracy                           0.71        28\n",
            "   macro avg       0.83      0.67      0.65        28\n",
            "weighted avg       0.81      0.71      0.67        28\n",
            "\n",
            "Precisión del clasificador KNN: 0.7142857142857143\n",
            "              precision    recall  f1-score   support\n",
            "\n",
            "       bueno       0.00      0.00      0.00         4\n",
            "        malo       0.67      1.00      0.80         4\n",
            "     regular       0.79      0.75      0.77        20\n",
            "\n",
            "    accuracy                           0.68        28\n",
            "   macro avg       0.49      0.58      0.52        28\n",
            "weighted avg       0.66      0.68      0.66        28\n",
            "\n",
            "Precisión del clasificador KNN: 0.6785714285714286\n"
          ]
        }
      ],
      "source": [
        "warnings.filterwarnings('ignore')\n",
        "\n",
        "kf = KFold(n_splits=5, shuffle=True, random_state=2)\n",
        "y1 = y.values\n",
        "\n",
        "X_encoded = encoder.fit_transform(X)\n",
        "for i , (train_index, test_index) in enumerate(kf.split(X_encoded,y1)):\n",
        "    X_train, X_test = X_encoded[train_index], X_encoded[test_index]\n",
        "    y_train, y_test = y1[train_index], y1[test_index]\n",
        "\n",
        "    knn = KNeighborsClassifier(n_neighbors=3)\n",
        "    knn.fit(X_train, y_train)\n",
        "\n",
        "    y_pred = knn.predict(X_test)\n",
        "    accuracy = accuracy_score(y_test, y_pred)\n",
        "    print(classification_report(y_test, y_pred))\n",
        "    print(\"Precisión del clasificador KNN:\", accuracy)"
      ]
    },
    {
      "cell_type": "code",
      "execution_count": 62,
      "metadata": {
        "colab": {
          "base_uri": "https://localhost:8080/"
        },
        "id": "jiAa8uRTSiUt",
        "outputId": "613c892b-b625-4ad9-b51a-823f131551bc"
      },
      "outputs": [
        {
          "name": "stdout",
          "output_type": "stream",
          "text": [
            "113 29\n",
            "              precision    recall  f1-score   support\n",
            "\n",
            "       bueno       0.00      0.00      0.00         3\n",
            "        malo       0.60      0.60      0.60         5\n",
            "     regular       0.79      0.90      0.84        21\n",
            "\n",
            "    accuracy                           0.76        29\n",
            "   macro avg       0.46      0.50      0.48        29\n",
            "weighted avg       0.68      0.76      0.71        29\n",
            "\n",
            "Precisión del clasificador Bayes Ingenuo: 0.7586206896551724\n",
            "113 29\n",
            "              precision    recall  f1-score   support\n",
            "\n",
            "       bueno       0.00      0.00      0.00         1\n",
            "        malo       0.56      0.75      0.64        12\n",
            "     regular       0.69      0.56      0.62        16\n",
            "\n",
            "    accuracy                           0.62        29\n",
            "   macro avg       0.42      0.44      0.42        29\n",
            "weighted avg       0.61      0.62      0.61        29\n",
            "\n",
            "Precisión del clasificador Bayes Ingenuo: 0.6206896551724138\n",
            "114 28\n",
            "              precision    recall  f1-score   support\n",
            "\n",
            "       bueno       0.00      0.00      0.00         1\n",
            "        malo       0.64      0.78      0.70         9\n",
            "     regular       0.82      0.78      0.80        18\n",
            "\n",
            "    accuracy                           0.75        28\n",
            "   macro avg       0.49      0.52      0.50        28\n",
            "weighted avg       0.73      0.75      0.74        28\n",
            "\n",
            "Precisión del clasificador Bayes Ingenuo: 0.75\n",
            "114 28\n",
            "              precision    recall  f1-score   support\n",
            "\n",
            "        malo       0.62      0.67      0.64        12\n",
            "     regular       0.73      0.69      0.71        16\n",
            "\n",
            "    accuracy                           0.68        28\n",
            "   macro avg       0.67      0.68      0.67        28\n",
            "weighted avg       0.68      0.68      0.68        28\n",
            "\n",
            "Precisión del clasificador Bayes Ingenuo: 0.6785714285714286\n",
            "114 28\n",
            "              precision    recall  f1-score   support\n",
            "\n",
            "       bueno       0.00      0.00      0.00         4\n",
            "        malo       0.57      1.00      0.73         4\n",
            "     regular       0.81      0.85      0.83        20\n",
            "\n",
            "    accuracy                           0.75        28\n",
            "   macro avg       0.46      0.62      0.52        28\n",
            "weighted avg       0.66      0.75      0.70        28\n",
            "\n",
            "Precisión del clasificador Bayes Ingenuo: 0.75\n"
          ]
        }
      ],
      "source": [
        "warnings.filterwarnings('ignore')\n",
        "\n",
        "kf = KFold(n_splits=5, shuffle=True, random_state=2)\n",
        "y1 = y.values\n",
        "\n",
        "X_encoded = encoder.fit_transform(X)\n",
        "for i , (train_index, test_index) in enumerate(kf.split(X_encoded,y1)):\n",
        "    X_train, X_test = X_encoded[train_index], X_encoded[test_index]\n",
        "    y_train, y_test = y1[train_index], y1[test_index]\n",
        "\n",
        "    print(X_train.shape[0], X_test.shape[0])\n",
        "\n",
        "    nb = CategoricalNB()\n",
        "    nb.fit(X_train, y_train)\n",
        "\n",
        "    y_pred = nb.predict(X_test)\n",
        "    accuracy = accuracy_score(y_test, y_pred)\n",
        "    print(classification_report(y_test, y_pred))\n",
        "    print(\"Precisión del clasificador Bayes Ingenuo:\", accuracy)"
      ]
    }
  ],
  "metadata": {
    "colab": {
      "provenance": []
    },
    "kernelspec": {
      "display_name": "Python 3",
      "name": "python3"
    },
    "language_info": {
      "codemirror_mode": {
        "name": "ipython",
        "version": 3
      },
      "file_extension": ".py",
      "mimetype": "text/x-python",
      "name": "python",
      "nbconvert_exporter": "python",
      "pygments_lexer": "ipython3",
      "version": "3.9.13"
    }
  },
  "nbformat": 4,
  "nbformat_minor": 0
}
