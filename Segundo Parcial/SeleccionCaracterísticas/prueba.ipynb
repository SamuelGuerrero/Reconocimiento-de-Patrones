{
 "cells": [
  {
   "cell_type": "code",
   "execution_count": 3,
   "metadata": {},
   "outputs": [
    {
     "name": "stdout",
     "output_type": "stream",
     "text": [
      "['T']\n"
     ]
    }
   ],
   "source": [
    "import pickle\n",
    "import numpy as np\n",
    "#Caracteristicas ganadoras\n",
    "\n",
    "#['cantidad_seguidores', 'cantidad_seguidos', 'perfil_privado']\n",
    "#Ejemplo de dato de entrada: ['bajo', 'bajo', 'No']\n",
    "\n",
    "loaded_model = pickle.load(open('Twitter82', 'rb'))\n",
    "result = loaded_model.predict(np.array([0, 1 , 1, 1, 0, 0, 1, 0, 0, 1, 1, 0, 0, 1]).reshape(1, -1)) \n",
    "print(result)"
   ]
  },
  {
   "cell_type": "code",
   "execution_count": 7,
   "metadata": {},
   "outputs": [
    {
     "name": "stdout",
     "output_type": "stream",
     "text": [
      "['T']\n"
     ]
    },
    {
     "name": "stderr",
     "output_type": "stream",
     "text": [
      "/Users/samuelguerrero/anaconda3/lib/python3.9/site-packages/sklearn/base.py:450: UserWarning: X does not have valid feature names, but OneHotEncoder was fitted with feature names\n",
      "  warnings.warn(\n"
     ]
    }
   ],
   "source": [
    "import pickle\n",
    "from sklearn.preprocessing import OneHotEncoder\n",
    "import pandas as pd\n",
    "\n",
    "df = pd.read_csv(\"Facebook.csv\")\n",
    "\n",
    "df = df.drop(columns=['Unnamed: 0'])\n",
    "\n",
    "encoder = OneHotEncoder(sparse=False)\n",
    "encoder.fit_transform(df.filter(items=['dias_mas_Publicaciones', 'num_amigos', 'paginas_que_sigue']))\n",
    "\n",
    "dato_prueba = np.array(['fin de semana', 'medio', 'pocas'])  # Dato categórico a codificar\n",
    "\n",
    "# Reshape del dato de prueba\n",
    "dato_prueba_reshape = dato_prueba.reshape(1, -1)\n",
    "\n",
    "# Transformar el dato de prueba\n",
    "dato_prueba_encoded = encoder.transform(dato_prueba_reshape)\n",
    "\n",
    "# Imprimir el dato codificado\n",
    "#print(dato_prueba_encoded)\n",
    "\n",
    "\n",
    "loaded_model = pickle.load(open('Facebook85', 'rb'))\n",
    "#print(dato_prueba_encoded)\n",
    "result = loaded_model.predict(np.array(dato_prueba_encoded).reshape(1, -1)) \n",
    "print(result)"
   ]
  },
  {
   "cell_type": "code",
   "execution_count": null,
   "metadata": {},
   "outputs": [],
   "source": []
  }
 ],
 "metadata": {
  "kernelspec": {
   "display_name": "base",
   "language": "python",
   "name": "python3"
  },
  "language_info": {
   "codemirror_mode": {
    "name": "ipython",
    "version": 3
   },
   "file_extension": ".py",
   "mimetype": "text/x-python",
   "name": "python",
   "nbconvert_exporter": "python",
   "pygments_lexer": "ipython3",
   "version": "3.9.13"
  },
  "orig_nbformat": 4
 },
 "nbformat": 4,
 "nbformat_minor": 2
}
